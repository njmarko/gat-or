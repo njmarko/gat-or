{
  "nbformat": 4,
  "nbformat_minor": 0,
  "metadata": {
    "colab": {
      "name": "gat-or.ipynb",
      "provenance": [],
      "collapsed_sections": [],
      "include_colab_link": true
    },
    "kernelspec": {
      "name": "python3",
      "display_name": "Python 3"
    },
    "language_info": {
      "name": "python"
    },
    "accelerator": "GPU"
  },
  "cells": [
    {
      "cell_type": "markdown",
      "metadata": {
        "id": "view-in-github",
        "colab_type": "text"
      },
      "source": [
        "<a href=\"https://colab.research.google.com/github/njmarko/gat-or/blob/master/gat_or.ipynb\" target=\"_parent\"><img src=\"https://colab.research.google.com/assets/colab-badge.svg\" alt=\"Open In Colab\"/></a>"
      ]
    },
    {
      "cell_type": "markdown",
      "source": [
        "## GATor\n",
        "\n",
        "GATor is a Graph Attention Network for object detection with relational reasoning."
      ],
      "metadata": {
        "id": "1PQbehGvj_kX"
      }
    },
    {
      "cell_type": "markdown",
      "source": [
        "### Installing dependencies and downloading dataset"
      ],
      "metadata": {
        "id": "BtzUQf4vkMsG"
      }
    },
    {
      "cell_type": "code",
      "source": [
        "# # USE FOR GOOGLE COLAB\n",
        "!python -c \"import torch; print(torch.__version__)\"\n",
        "# These two command are used for googlecolab. They should not be run on cloud\n",
        "!pip uninstall opencv-python-headless -y\n",
        "!pip install opencv-python-headless==4.1.2.30\n",
        "\n",
        "!pip install fiftyone\n",
        "!pip install torch-scatter -f https://data.pyg.org/whl/torch-1.10.0+cu113.html\n",
        "!pip install torch-sparse -f https://data.pyg.org/whl/torch-1.10.0+cu113.html\n",
        "!pip install torch-geometric\n",
        "# !pip install torch-scatter torch-sparse torch-cluster torch-spline-conv torch-geometric -f https://data.pyg.org/whl/torch-1.10.0+cpu.html\n"
      ],
      "metadata": {
        "id": "UKwSnuW4L-jj",
        "colab": {
          "base_uri": "https://localhost:8080/"
        },
        "outputId": "e56e5664-c7ca-4f4d-e858-9230f3020ae1"
      },
      "execution_count": 1,
      "outputs": [
        {
          "output_type": "stream",
          "name": "stdout",
          "text": [
            "1.10.0+cu111\n",
            "Found existing installation: opencv-python-headless 4.1.2.30\n",
            "Uninstalling opencv-python-headless-4.1.2.30:\n",
            "  Successfully uninstalled opencv-python-headless-4.1.2.30\n",
            "Collecting opencv-python-headless==4.1.2.30\n",
            "  Using cached opencv_python_headless-4.1.2.30-cp37-cp37m-manylinux1_x86_64.whl (21.8 MB)\n",
            "Requirement already satisfied: numpy>=1.14.5 in /usr/local/lib/python3.7/dist-packages (from opencv-python-headless==4.1.2.30) (1.19.5)\n",
            "Installing collected packages: opencv-python-headless\n",
            "Successfully installed opencv-python-headless-4.1.2.30\n",
            "Requirement already satisfied: fiftyone in /usr/local/lib/python3.7/dist-packages (0.14.3)\n",
            "Requirement already satisfied: numpy in /usr/local/lib/python3.7/dist-packages (from fiftyone) (1.19.5)\n",
            "Requirement already satisfied: motor<3,>=2.3 in /usr/local/lib/python3.7/dist-packages (from fiftyone) (2.5.1)\n",
            "Requirement already satisfied: boto3 in /usr/local/lib/python3.7/dist-packages (from fiftyone) (1.20.41)\n",
            "Requirement already satisfied: eventlet in /usr/local/lib/python3.7/dist-packages (from fiftyone) (0.33.0)\n",
            "Requirement already satisfied: matplotlib in /usr/local/lib/python3.7/dist-packages (from fiftyone) (3.2.2)\n",
            "Requirement already satisfied: pytz in /usr/local/lib/python3.7/dist-packages (from fiftyone) (2018.9)\n",
            "Requirement already satisfied: fiftyone-brain<0.8,>=0.7.3 in /usr/local/lib/python3.7/dist-packages (from fiftyone) (0.7.3)\n",
            "Requirement already satisfied: future in /usr/local/lib/python3.7/dist-packages (from fiftyone) (0.16.0)\n",
            "Requirement already satisfied: scikit-image in /usr/local/lib/python3.7/dist-packages (from fiftyone) (0.18.3)\n",
            "Requirement already satisfied: opencv-python-headless in /usr/local/lib/python3.7/dist-packages (from fiftyone) (4.1.2.30)\n",
            "Requirement already satisfied: mongoengine==0.20.0 in /usr/local/lib/python3.7/dist-packages (from fiftyone) (0.20.0)\n",
            "Requirement already satisfied: packaging in /usr/local/lib/python3.7/dist-packages (from fiftyone) (21.3)\n",
            "Requirement already satisfied: retrying in /usr/local/lib/python3.7/dist-packages (from fiftyone) (1.3.3)\n",
            "Requirement already satisfied: Pillow>=6.2 in /usr/local/lib/python3.7/dist-packages (from fiftyone) (7.1.2)\n",
            "Requirement already satisfied: setuptools in /usr/local/lib/python3.7/dist-packages (from fiftyone) (57.4.0)\n",
            "Requirement already satisfied: universal-analytics-python3<2,>=1.0.1 in /usr/local/lib/python3.7/dist-packages (from fiftyone) (1.1.1)\n",
            "Requirement already satisfied: pprintpp in /usr/local/lib/python3.7/dist-packages (from fiftyone) (0.4.0)\n",
            "Requirement already satisfied: scikit-learn in /usr/local/lib/python3.7/dist-packages (from fiftyone) (1.0.2)\n",
            "Requirement already satisfied: psutil in /usr/local/lib/python3.7/dist-packages (from fiftyone) (5.4.8)\n",
            "Requirement already satisfied: aiofiles in /usr/local/lib/python3.7/dist-packages (from fiftyone) (0.8.0)\n",
            "Requirement already satisfied: PyYAML in /usr/local/lib/python3.7/dist-packages (from fiftyone) (3.13)\n",
            "Requirement already satisfied: Jinja2 in /usr/local/lib/python3.7/dist-packages (from fiftyone) (2.11.3)\n",
            "Requirement already satisfied: kaleido in /usr/local/lib/python3.7/dist-packages (from fiftyone) (0.2.1)\n",
            "Requirement already satisfied: pymongo<4,>=3.11 in /usr/local/lib/python3.7/dist-packages (from fiftyone) (3.12.3)\n",
            "Requirement already satisfied: argcomplete in /usr/local/lib/python3.7/dist-packages (from fiftyone) (2.0.0)\n",
            "Requirement already satisfied: pandas in /usr/local/lib/python3.7/dist-packages (from fiftyone) (1.1.5)\n",
            "Requirement already satisfied: plotly<5,>=4.14 in /usr/local/lib/python3.7/dist-packages (from fiftyone) (4.14.3)\n",
            "Requirement already satisfied: fiftyone-db<0.4,>=0.3 in /usr/local/lib/python3.7/dist-packages (from fiftyone) (0.3.0)\n",
            "Requirement already satisfied: voxel51-eta<0.7,>=0.6.2 in /usr/local/lib/python3.7/dist-packages (from fiftyone) (0.6.2.2)\n",
            "Requirement already satisfied: xmltodict in /usr/local/lib/python3.7/dist-packages (from fiftyone) (0.12.0)\n",
            "Requirement already satisfied: Deprecated in /usr/local/lib/python3.7/dist-packages (from fiftyone) (1.2.13)\n",
            "Requirement already satisfied: tornado<7,>=5.1.1 in /usr/local/lib/python3.7/dist-packages (from fiftyone) (5.1.1)\n",
            "Requirement already satisfied: tabulate in /usr/local/lib/python3.7/dist-packages (from fiftyone) (0.8.9)\n",
            "Requirement already satisfied: scipy>=1.2.0 in /usr/local/lib/python3.7/dist-packages (from fiftyone-brain<0.8,>=0.7.3->fiftyone) (1.4.1)\n",
            "Requirement already satisfied: six in /usr/local/lib/python3.7/dist-packages (from plotly<5,>=4.14->fiftyone) (1.15.0)\n",
            "Requirement already satisfied: httpx>=0.10.0 in /usr/local/lib/python3.7/dist-packages (from universal-analytics-python3<2,>=1.0.1->fiftyone) (0.21.3)\n",
            "Requirement already satisfied: httpcore<0.15.0,>=0.14.0 in /usr/local/lib/python3.7/dist-packages (from httpx>=0.10.0->universal-analytics-python3<2,>=1.0.1->fiftyone) (0.14.5)\n",
            "Requirement already satisfied: charset-normalizer in /usr/local/lib/python3.7/dist-packages (from httpx>=0.10.0->universal-analytics-python3<2,>=1.0.1->fiftyone) (2.0.10)\n",
            "Requirement already satisfied: certifi in /usr/local/lib/python3.7/dist-packages (from httpx>=0.10.0->universal-analytics-python3<2,>=1.0.1->fiftyone) (2021.10.8)\n",
            "Requirement already satisfied: sniffio in /usr/local/lib/python3.7/dist-packages (from httpx>=0.10.0->universal-analytics-python3<2,>=1.0.1->fiftyone) (1.2.0)\n",
            "Requirement already satisfied: rfc3986[idna2008]<2,>=1.3 in /usr/local/lib/python3.7/dist-packages (from httpx>=0.10.0->universal-analytics-python3<2,>=1.0.1->fiftyone) (1.5.0)\n",
            "Requirement already satisfied: anyio==3.* in /usr/local/lib/python3.7/dist-packages (from httpcore<0.15.0,>=0.14.0->httpx>=0.10.0->universal-analytics-python3<2,>=1.0.1->fiftyone) (3.5.0)\n",
            "Requirement already satisfied: h11<0.13,>=0.11 in /usr/local/lib/python3.7/dist-packages (from httpcore<0.15.0,>=0.14.0->httpx>=0.10.0->universal-analytics-python3<2,>=1.0.1->fiftyone) (0.12.0)\n",
            "Requirement already satisfied: typing-extensions in /usr/local/lib/python3.7/dist-packages (from anyio==3.*->httpcore<0.15.0,>=0.14.0->httpx>=0.10.0->universal-analytics-python3<2,>=1.0.1->fiftyone) (3.10.0.2)\n",
            "Requirement already satisfied: idna>=2.8 in /usr/local/lib/python3.7/dist-packages (from anyio==3.*->httpcore<0.15.0,>=0.14.0->httpx>=0.10.0->universal-analytics-python3<2,>=1.0.1->fiftyone) (2.10)\n",
            "Requirement already satisfied: python-dateutil in /usr/local/lib/python3.7/dist-packages (from voxel51-eta<0.7,>=0.6.2->fiftyone) (2.8.2)\n",
            "Requirement already satisfied: tzlocal in /usr/local/lib/python3.7/dist-packages (from voxel51-eta<0.7,>=0.6.2->fiftyone) (1.5.1)\n",
            "Requirement already satisfied: patool in /usr/local/lib/python3.7/dist-packages (from voxel51-eta<0.7,>=0.6.2->fiftyone) (1.12)\n",
            "Requirement already satisfied: dill in /usr/local/lib/python3.7/dist-packages (from voxel51-eta<0.7,>=0.6.2->fiftyone) (0.3.4)\n",
            "Requirement already satisfied: importlib-metadata in /usr/local/lib/python3.7/dist-packages (from voxel51-eta<0.7,>=0.6.2->fiftyone) (4.10.0)\n",
            "Requirement already satisfied: ndjson in /usr/local/lib/python3.7/dist-packages (from voxel51-eta<0.7,>=0.6.2->fiftyone) (0.3.1)\n",
            "Requirement already satisfied: requests in /usr/local/lib/python3.7/dist-packages (from voxel51-eta<0.7,>=0.6.2->fiftyone) (2.23.0)\n",
            "Requirement already satisfied: glob2 in /usr/local/lib/python3.7/dist-packages (from voxel51-eta<0.7,>=0.6.2->fiftyone) (0.7)\n",
            "Requirement already satisfied: sortedcontainers in /usr/local/lib/python3.7/dist-packages (from voxel51-eta<0.7,>=0.6.2->fiftyone) (2.4.0)\n",
            "Requirement already satisfied: zipp>=0.5 in /usr/local/lib/python3.7/dist-packages (from importlib-metadata->voxel51-eta<0.7,>=0.6.2->fiftyone) (3.7.0)\n",
            "Requirement already satisfied: s3transfer<0.6.0,>=0.5.0 in /usr/local/lib/python3.7/dist-packages (from boto3->fiftyone) (0.5.0)\n",
            "Requirement already satisfied: botocore<1.24.0,>=1.23.41 in /usr/local/lib/python3.7/dist-packages (from boto3->fiftyone) (1.23.41)\n",
            "Requirement already satisfied: jmespath<1.0.0,>=0.7.1 in /usr/local/lib/python3.7/dist-packages (from boto3->fiftyone) (0.10.0)\n",
            "Requirement already satisfied: urllib3<1.27,>=1.25.4 in /usr/local/lib/python3.7/dist-packages (from botocore<1.24.0,>=1.23.41->boto3->fiftyone) (1.25.11)\n",
            "Requirement already satisfied: wrapt<2,>=1.10 in /usr/local/lib/python3.7/dist-packages (from Deprecated->fiftyone) (1.13.3)\n",
            "Requirement already satisfied: greenlet>=0.3 in /usr/local/lib/python3.7/dist-packages (from eventlet->fiftyone) (1.1.2)\n",
            "Requirement already satisfied: dnspython>=1.15.0 in /usr/local/lib/python3.7/dist-packages (from eventlet->fiftyone) (2.2.0)\n",
            "Requirement already satisfied: MarkupSafe>=0.23 in /usr/local/lib/python3.7/dist-packages (from Jinja2->fiftyone) (2.0.1)\n",
            "Requirement already satisfied: cycler>=0.10 in /usr/local/lib/python3.7/dist-packages (from matplotlib->fiftyone) (0.11.0)\n",
            "Requirement already satisfied: pyparsing!=2.0.4,!=2.1.2,!=2.1.6,>=2.0.1 in /usr/local/lib/python3.7/dist-packages (from matplotlib->fiftyone) (3.0.6)\n",
            "Requirement already satisfied: kiwisolver>=1.0.1 in /usr/local/lib/python3.7/dist-packages (from matplotlib->fiftyone) (1.3.2)\n",
            "Requirement already satisfied: chardet<4,>=3.0.2 in /usr/local/lib/python3.7/dist-packages (from requests->voxel51-eta<0.7,>=0.6.2->fiftyone) (3.0.4)\n",
            "Requirement already satisfied: imageio>=2.3.0 in /usr/local/lib/python3.7/dist-packages (from scikit-image->fiftyone) (2.4.1)\n",
            "Requirement already satisfied: PyWavelets>=1.1.1 in /usr/local/lib/python3.7/dist-packages (from scikit-image->fiftyone) (1.2.0)\n",
            "Requirement already satisfied: tifffile>=2019.7.26 in /usr/local/lib/python3.7/dist-packages (from scikit-image->fiftyone) (2021.11.2)\n",
            "Requirement already satisfied: networkx>=2.0 in /usr/local/lib/python3.7/dist-packages (from scikit-image->fiftyone) (2.6.3)\n",
            "Requirement already satisfied: joblib>=0.11 in /usr/local/lib/python3.7/dist-packages (from scikit-learn->fiftyone) (1.1.0)\n",
            "Requirement already satisfied: threadpoolctl>=2.0.0 in /usr/local/lib/python3.7/dist-packages (from scikit-learn->fiftyone) (3.0.0)\n",
            "Looking in links: https://data.pyg.org/whl/torch-1.10.0+cu113.html\n",
            "Requirement already satisfied: torch-scatter in /usr/local/lib/python3.7/dist-packages (2.0.9)\n",
            "Looking in links: https://data.pyg.org/whl/torch-1.10.0+cu113.html\n",
            "Requirement already satisfied: torch-sparse in /usr/local/lib/python3.7/dist-packages (0.6.12)\n",
            "Requirement already satisfied: scipy in /usr/local/lib/python3.7/dist-packages (from torch-sparse) (1.4.1)\n",
            "Requirement already satisfied: numpy>=1.13.3 in /usr/local/lib/python3.7/dist-packages (from scipy->torch-sparse) (1.19.5)\n",
            "Requirement already satisfied: torch-geometric in /usr/local/lib/python3.7/dist-packages (2.0.3)\n",
            "Requirement already satisfied: yacs in /usr/local/lib/python3.7/dist-packages (from torch-geometric) (0.1.8)\n",
            "Requirement already satisfied: pyparsing in /usr/local/lib/python3.7/dist-packages (from torch-geometric) (3.0.6)\n",
            "Requirement already satisfied: scipy in /usr/local/lib/python3.7/dist-packages (from torch-geometric) (1.4.1)\n",
            "Requirement already satisfied: pandas in /usr/local/lib/python3.7/dist-packages (from torch-geometric) (1.1.5)\n",
            "Requirement already satisfied: scikit-learn in /usr/local/lib/python3.7/dist-packages (from torch-geometric) (1.0.2)\n",
            "Requirement already satisfied: numpy in /usr/local/lib/python3.7/dist-packages (from torch-geometric) (1.19.5)\n",
            "Requirement already satisfied: googledrivedownloader in /usr/local/lib/python3.7/dist-packages (from torch-geometric) (0.4)\n",
            "Requirement already satisfied: rdflib in /usr/local/lib/python3.7/dist-packages (from torch-geometric) (6.1.1)\n",
            "Requirement already satisfied: requests in /usr/local/lib/python3.7/dist-packages (from torch-geometric) (2.23.0)\n",
            "Requirement already satisfied: PyYAML in /usr/local/lib/python3.7/dist-packages (from torch-geometric) (3.13)\n",
            "Requirement already satisfied: tqdm in /usr/local/lib/python3.7/dist-packages (from torch-geometric) (4.62.3)\n",
            "Requirement already satisfied: jinja2 in /usr/local/lib/python3.7/dist-packages (from torch-geometric) (2.11.3)\n",
            "Requirement already satisfied: networkx in /usr/local/lib/python3.7/dist-packages (from torch-geometric) (2.6.3)\n",
            "Requirement already satisfied: MarkupSafe>=0.23 in /usr/local/lib/python3.7/dist-packages (from jinja2->torch-geometric) (2.0.1)\n",
            "Requirement already satisfied: pytz>=2017.2 in /usr/local/lib/python3.7/dist-packages (from pandas->torch-geometric) (2018.9)\n",
            "Requirement already satisfied: python-dateutil>=2.7.3 in /usr/local/lib/python3.7/dist-packages (from pandas->torch-geometric) (2.8.2)\n",
            "Requirement already satisfied: six>=1.5 in /usr/local/lib/python3.7/dist-packages (from python-dateutil>=2.7.3->pandas->torch-geometric) (1.15.0)\n",
            "Requirement already satisfied: importlib-metadata in /usr/local/lib/python3.7/dist-packages (from rdflib->torch-geometric) (4.10.0)\n",
            "Requirement already satisfied: setuptools in /usr/local/lib/python3.7/dist-packages (from rdflib->torch-geometric) (57.4.0)\n",
            "Requirement already satisfied: isodate in /usr/local/lib/python3.7/dist-packages (from rdflib->torch-geometric) (0.6.1)\n",
            "Requirement already satisfied: zipp>=0.5 in /usr/local/lib/python3.7/dist-packages (from importlib-metadata->rdflib->torch-geometric) (3.7.0)\n",
            "Requirement already satisfied: typing-extensions>=3.6.4 in /usr/local/lib/python3.7/dist-packages (from importlib-metadata->rdflib->torch-geometric) (3.10.0.2)\n",
            "Requirement already satisfied: idna<3,>=2.5 in /usr/local/lib/python3.7/dist-packages (from requests->torch-geometric) (2.10)\n",
            "Requirement already satisfied: chardet<4,>=3.0.2 in /usr/local/lib/python3.7/dist-packages (from requests->torch-geometric) (3.0.4)\n",
            "Requirement already satisfied: urllib3!=1.25.0,!=1.25.1,<1.26,>=1.21.1 in /usr/local/lib/python3.7/dist-packages (from requests->torch-geometric) (1.25.11)\n",
            "Requirement already satisfied: certifi>=2017.4.17 in /usr/local/lib/python3.7/dist-packages (from requests->torch-geometric) (2021.10.8)\n",
            "Requirement already satisfied: threadpoolctl>=2.0.0 in /usr/local/lib/python3.7/dist-packages (from scikit-learn->torch-geometric) (3.0.0)\n",
            "Requirement already satisfied: joblib>=0.11 in /usr/local/lib/python3.7/dist-packages (from scikit-learn->torch-geometric) (1.1.0)\n"
          ]
        }
      ]
    },
    {
      "cell_type": "code",
      "source": [
        "# # USE FOR CLOUD\n",
        "# !python -c \"import torch; print(torch.__version__)\"\n",
        "# # These two command are used for googlecolab. They should not be run on cloud\n",
        "\n",
        "# !pip install fiftyone\n",
        "# !pip install torch-scatter -f https://data.pyg.org/whl/torch-1.10.0+cu113.html\n",
        "# !pip install torch-sparse -f https://data.pyg.org/whl/torch-1.10.0+cu113.html\n",
        "# !pip install torch-geometric\n",
        "# !pip install pycocotools\n",
        "# # !pip install torch-scatter torch-sparse torch-cluster torch-spline-conv torch-geometric -f https://data.pyg.org/whl/torch-1.10.0+cpu.html"
      ],
      "metadata": {
        "id": "73qAPEr7_bJJ"
      },
      "execution_count": 2,
      "outputs": []
    },
    {
      "cell_type": "code",
      "source": [
        "# # These commands are for google colab\n",
        "\n",
        "%%shell\n",
        "\n",
        "# Download TorchVision repo to use some files from\n",
        "# references/detection\n",
        "git clone https://github.com/pytorch/vision.git\n",
        "cd vision\n",
        "git checkout v0.8.2\n",
        "\n",
        "cp references/detection/utils.py ../\n",
        "cp references/detection/transforms.py ../\n",
        "cp references/detection/coco_eval.py ../\n",
        "cp references/detection/engine.py ../\n",
        "cp references/detection/coco_utils.py ../\n",
        "\n",
        "cd ..\n",
        "rm -r vision"
      ],
      "metadata": {
        "id": "IVAIYHqQkX9I",
        "colab": {
          "base_uri": "https://localhost:8080/"
        },
        "outputId": "ddfb3fae-79d3-48f8-9663-4605c4509c70"
      },
      "execution_count": 3,
      "outputs": [
        {
          "output_type": "stream",
          "name": "stdout",
          "text": [
            "Cloning into 'vision'...\n",
            "remote: Enumerating objects: 81307, done.\u001b[K\n",
            "remote: Counting objects: 100% (16439/16439), done.\u001b[K\n",
            "remote: Compressing objects: 100% (1377/1377), done.\u001b[K\n",
            "remote: Total 81307 (delta 15141), reused 16136 (delta 14972), pack-reused 64868\n",
            "Receiving objects: 100% (81307/81307), 159.50 MiB | 29.25 MiB/s, done.\n",
            "Resolving deltas: 100% (68216/68216), done.\n",
            "Note: checking out 'v0.8.2'.\n",
            "\n",
            "You are in 'detached HEAD' state. You can look around, make experimental\n",
            "changes and commit them, and you can discard any commits you make in this\n",
            "state without impacting any branches by performing another checkout.\n",
            "\n",
            "If you want to create a new branch to retain commits you create, you may\n",
            "do so (now or later) by using -b with the checkout command again. Example:\n",
            "\n",
            "  git checkout -b <new-branch-name>\n",
            "\n",
            "HEAD is now at 2f40a483d [v0.8.X] .circleci: Add Python 3.9 to CI (#3063)\n"
          ]
        },
        {
          "output_type": "execute_result",
          "data": {
            "text/plain": [
              ""
            ]
          },
          "metadata": {},
          "execution_count": 3
        }
      ]
    },
    {
      "cell_type": "code",
      "source": [
        "# # These commands are for cloud\n",
        "\n",
        "# # Download TorchVision repo to use some files from\n",
        "# # references/detection\n",
        "# !git clone https://github.com/pytorch/vision.git --branch  v0.8.2\n",
        "\n",
        "# !cp vision/references/detection/utils.py ./\n",
        "# !cp vision/references/detection/transforms.py ./\n",
        "# !cp vision/references/detection/coco_eval.py ./\n",
        "# !cp vision/references/detection/engine.py ./\n",
        "# !cp vision/references/detection/coco_utils.py ./"
      ],
      "metadata": {
        "id": "5FR4kjvz8heu"
      },
      "execution_count": 4,
      "outputs": []
    },
    {
      "cell_type": "code",
      "source": [
        "import fiftyone as fo\n",
        "import fiftyone.zoo as foz\n",
        "import fiftyone.utils.coco as fouc\n",
        "from fiftyone import ViewField as VF\n",
        "import numpy as np\n",
        "from itertools import product\n",
        "from tqdm import tqdm\n",
        "import seaborn as sns\n",
        "import networkx as nx\n",
        "import torchvision\n",
        "import torch\n",
        "import torch.nn as nn\n",
        "import torch.nn.functional as F\n",
        "from torch.utils.data import DataLoader\n",
        "import torchvision.transforms as T\n",
        "from torchvision.transforms import functional as TVF\n",
        "from torchvision.ops import box_iou\n",
        "from torchvision.ops import boxes as box_ops\n",
        "from transforms import Compose, ToTensor\n",
        "from PIL import Image\n",
        "import matplotlib.pylab as plt\n",
        "import matplotlib.patches as patches\n",
        "from matplotlib.pyplot import figure\n",
        "import torch_geometric as pyg\n",
        "import torch_geometric.data as pyg_data\n",
        "from torch_geometric.nn import GATConv, GATv2Conv, MessagePassing\n",
        "\n",
        "from engine import train_one_epoch, evaluate\n",
        "import utils\n",
        "\n",
        "import math\n",
        "import os\n",
        "import os.path as osp"
      ],
      "metadata": {
        "id": "XN38W3_Wkccv"
      },
      "execution_count": 5,
      "outputs": []
    },
    {
      "cell_type": "code",
      "source": [
        "dataset = foz.load_zoo_dataset(\n",
        "    \"coco-2017\",\n",
        "    split=\"train\",\n",
        "    max_samples=200,\n",
        ")\n",
        "dataset.persistent = True\n",
        "\n",
        "# session = fo.launch_app(dataset)"
      ],
      "metadata": {
        "id": "PggQ7R73mOk9",
        "colab": {
          "base_uri": "https://localhost:8080/"
        },
        "outputId": "636ba7b1-f9a5-42a9-9fea-69e64278e1d5"
      },
      "execution_count": 6,
      "outputs": [
        {
          "output_type": "stream",
          "name": "stdout",
          "text": [
            "Downloading split 'train' to '/root/fiftyone/coco-2017/train' if necessary\n",
            "Found annotations at '/root/fiftyone/coco-2017/raw/instances_train2017.json'\n",
            "Sufficient images already downloaded\n",
            "Existing download of split 'train' is sufficient\n",
            "Loading existing dataset 'coco-2017-train-200'. To reload from disk, either delete the existing dataset or provide a custom `dataset_name` to use\n"
          ]
        }
      ]
    },
    {
      "cell_type": "markdown",
      "source": [
        "### Visualizing co-occurrence matrix"
      ],
      "metadata": {
        "id": "8fNrbUQOm5Xc"
      }
    },
    {
      "cell_type": "code",
      "source": [
        "class_names = ['background','person','bicycle','car','motorcycle','airplane','bus','train','truck','boat','traffic light','fire hydrant','street sign','stop sign','parking meter','bench','bird','cat','dog','horse',\n",
        "'sheep','cow','elephant','bear','zebra','giraffe','hat','backpack','umbrella','shoe','eye glasses','handbag','tie','suitcase','frisbee','skis','snowboard','sports ball','kite','baseball bat','baseball glove','skateboard',\n",
        "'surfboard','tennis racket','bottle','plate','wine glass','cup','fork','knife','spoon','bowl','banana','apple','sandwich','orange','broccoli','carrot','hot dog','pizza','donut','cake','chair','couch','potted plant','bed',\n",
        "'mirror','dining table','window','desk','toilet','door','tv','laptop','mouse','remote','keyboard','cell phone','microwave','oven','toaster','sink','refrigerator','blender','book','clock','vase','scissors','teddy bear',\n",
        "'hair drier','toothbrush','hair brush'\n",
        "]\n",
        "\n",
        "class_name_to_idx = {elem:idx for idx, elem in enumerate(class_names)}\n",
        "n_classes = len(class_names)\n",
        "co_occurrence_matrix = np.zeros((n_classes, n_classes))\n",
        "\n",
        "with fo.ProgressBar() as pb:\n",
        "  for sample in pb(dataset):\n",
        "    detections = sample.ground_truth.detections\n",
        "    for attention_pair in product(detections, detections):\n",
        "      i = class_name_to_idx[attention_pair[0].label]\n",
        "      j = class_name_to_idx[attention_pair[1].label]\n",
        "      co_occurrence_matrix[i][j] += 1\n",
        "      co_occurrence_matrix[j][i] += 1"
      ],
      "metadata": {
        "id": "rpwK7r_HmWjJ",
        "colab": {
          "base_uri": "https://localhost:8080/"
        },
        "outputId": "085294e7-158f-4315-f17c-f3a8b6f79761"
      },
      "execution_count": 7,
      "outputs": [
        {
          "output_type": "stream",
          "name": "stdout",
          "text": [
            " 100% |█████████████████| 200/200 [1.0s elapsed, 0s remaining, 193.0 samples/s]         \n"
          ]
        }
      ]
    },
    {
      "cell_type": "code",
      "source": [
        "normalized_matrix = co_occurrence_matrix / np.amax(co_occurrence_matrix + 1.0, axis=1)\n",
        "\n",
        "figure(figsize=(20, 20), dpi=80)\n",
        "ax = sns.heatmap(normalized_matrix, linewidth=0.5, xticklabels=class_names, yticklabels=class_names, cmap=\"Blues\")\n",
        "plt.show()"
      ],
      "metadata": {
        "id": "fA_VGr0roL5X",
        "colab": {
          "base_uri": "https://localhost:8080/",
          "height": 1000
        },
        "outputId": "b6bd4198-d2b0-4114-b122-ecef08ef018f"
      },
      "execution_count": 8,
      "outputs": [
        {
          "output_type": "display_data",
          "data": {
            "image/png": "[encoded data removed]",
            "text/plain": [
              "<Figure size 1600x1600 with 2 Axes>"
            ]
          },
          "metadata": {
            "needs_background": "light"
          }
        }
      ]
    },
    {
      "cell_type": "markdown",
      "source": [
        "### Defining PyTorch dataset"
      ],
      "metadata": {
        "id": "pmsMpYrnrDUA"
      }
    },
    {
      "cell_type": "code",
      "source": [
        "device = torch.device('cuda') if torch.cuda.is_available() else torch.device('cpu')"
      ],
      "metadata": {
        "id": "_OC7C5JevCgq"
      },
      "execution_count": 9,
      "outputs": []
    },
    {
      "cell_type": "code",
      "source": [
        "class Resize(object):\n",
        "  def __init__(self, size, interpolation=TVF.InterpolationMode.BILINEAR, max_size=None, antialias=None):\n",
        "    self.size = size\n",
        "    self.max_size = max_size\n",
        "    self.interpolation = interpolation\n",
        "    self.antialias = antialias\n",
        "\n",
        "  def __call__(self, image, target):\n",
        "    assert torch.is_tensor(image), \"Image is expected to be of type torch.tensor\"\n",
        "    original_shape = image.shape\n",
        "    image = TVF.resize(image, self.size, self.interpolation, self.max_size, self.antialias)\n",
        "    transformed_shape = image.shape\n",
        "    x_scale = transformed_shape[2] / original_shape[2]\n",
        "    y_scale = transformed_shape[1] / original_shape[1]\n",
        "    scale_tensor = torch.tensor([x_scale, y_scale]).repeat(target['boxes'].shape[0], 2)\n",
        "    target['boxes'] = torch.mul(target['boxes'], scale_tensor)\n",
        "    return image, target"
      ],
      "metadata": {
        "id": "0f4N0hFYrmUq"
      },
      "execution_count": 10,
      "outputs": []
    },
    {
      "cell_type": "code",
      "source": [
        "class TorchCocoDataset(torch.utils.data.Dataset):\n",
        "  def __init__(self, fiftyone_dataset, transforms=None, gt_field=\"ground_truth\"):\n",
        "    self.samples = fiftyone_dataset\n",
        "    self.transforms = transforms\n",
        "    self.gt_field = gt_field\n",
        "    self.img_paths = self.samples.values(\"filepath\")\n",
        "    self.classes = class_names\n",
        "    self.labels_map_rev = class_name_to_idx\n",
        "\n",
        "  def __getitem__(self, idx):\n",
        "    img_path = self.img_paths[idx]\n",
        "    sample = self.samples[img_path]\n",
        "    metadata = sample.metadata\n",
        "    img = Image.open(img_path).convert(\"RGB\")\n",
        "\n",
        "    boxes = []\n",
        "    labels = []\n",
        "    area = []\n",
        "    iscrowd = []\n",
        "    detections = sample[self.gt_field].detections\n",
        "\n",
        "    for det in detections:\n",
        "      category_id = self.labels_map_rev[det.label]\n",
        "      coco_obj = fouc.COCOObject.from_label(\n",
        "          det, metadata, category_id=category_id,\n",
        "      )\n",
        "      x, y, w, h = coco_obj.bbox\n",
        "      boxes.append([x, y, x + w, y + h])\n",
        "      labels.append(coco_obj.category_id)\n",
        "      area.append(coco_obj.area)\n",
        "      iscrowd.append(coco_obj.iscrowd)\n",
        "\n",
        "    target = {}\n",
        "    target[\"boxes\"] = torch.as_tensor(boxes, dtype=torch.float32)\n",
        "    target[\"labels\"] = torch.as_tensor(labels, dtype=torch.int64)\n",
        "    target[\"image_id\"] = torch.as_tensor([idx])\n",
        "    target[\"area\"] = torch.as_tensor(area, dtype=torch.float32)\n",
        "    target[\"iscrowd\"] = torch.as_tensor(iscrowd, dtype=torch.int64)\n",
        "\n",
        "    if self.transforms:\n",
        "        img, target = self.transforms(img, target)\n",
        "\n",
        "    return img, target\n",
        "\n",
        "  def __len__(self):\n",
        "    return len(self.img_paths)\n",
        "\n",
        "  def get_classes(self):\n",
        "    return self.classes"
      ],
      "metadata": {
        "id": "OhBWtDFwqdEU"
      },
      "execution_count": 11,
      "outputs": []
    },
    {
      "cell_type": "code",
      "source": [
        "has_bounding_box_view = dataset.filter_labels(\n",
        "        \"ground_truth\",\n",
        "        VF(\"label\").is_in(class_names)\n",
        ")\n",
        "\n",
        "train_transforms = Compose([ToTensor(), Resize(size=(512, 512))])\n",
        "test_transforms = Compose([ToTensor()])\n",
        "\n",
        "train_view = has_bounding_box_view.take(9000, seed=51)\n",
        "test_view = has_bounding_box_view.exclude([s.id for s in train_view])\n",
        "\n",
        "print(f\"Number of training samples: {len(train_view)}\")\n",
        "print(f\"Number of test samples: {len(test_view)}\")\n",
        "\n",
        "torch_dataset_train = TorchCocoDataset(train_view, train_transforms)\n",
        "torch_dataset_test = TorchCocoDataset(test_view, test_transforms)"
      ],
      "metadata": {
        "id": "wKLyHQYlt-H_",
        "colab": {
          "base_uri": "https://localhost:8080/"
        },
        "outputId": "3a39c0dc-1680-4ebc-e2ce-8ce82eae239c"
      },
      "execution_count": 12,
      "outputs": [
        {
          "output_type": "stream",
          "name": "stdout",
          "text": [
            "Number of training samples: 198\n",
            "Number of test samples: 0\n"
          ]
        }
      ]
    },
    {
      "cell_type": "code",
      "source": [
        "def draw_image_with_bounding_boxes(image, target):\n",
        "  fig, ax = plt.subplots()\n",
        "  ax.imshow(image.permute(1, 2, 0))\n",
        "  for box in target['boxes']:\n",
        "    x = box[0]\n",
        "    y = box[1]\n",
        "    h = box[2] - x\n",
        "    w = box[3] - y\n",
        "    rect = patches.Rectangle((x, y), h, w, linewidth=1, edgecolor='r', facecolor='none')\n",
        "    ax.add_patch(rect)\n",
        "  plt.show()"
      ],
      "metadata": {
        "id": "-YHMZA5MuYh4"
      },
      "execution_count": 13,
      "outputs": []
    },
    {
      "cell_type": "code",
      "source": [
        "draw_image_with_bounding_boxes(*torch_dataset_train[0])"
      ],
      "metadata": {
        "id": "Bw-7xlh51xBd",
        "colab": {
          "base_uri": "https://localhost:8080/",
          "height": 269
        },
        "outputId": "052d0b06-b801-4b8e-cd32-e1e6543865ad"
      },
      "execution_count": 14,
      "outputs": [
        {
          "output_type": "display_data",
          "data": {
            "image/png": "[encoded data removed]",
            "text/plain": [
              "<Figure size 432x288 with 1 Axes>"
            ]
          },
          "metadata": {
            "needs_background": "light"
          }
        }
      ]
    },
    {
      "cell_type": "markdown",
      "source": [
        "### Defining the model"
      ],
      "metadata": {
        "id": "RTJ22qC9xJXc"
      }
    },
    {
      "cell_type": "code",
      "source": [
        "class GATorGraph(object):\n",
        "  def __init__(self, on_data_created=None, method_name=\"simple_iou\"):\n",
        "    self.on_data_created = on_data_created\n",
        "    self.edge_detection_method = self.select_edge_detetion_method(method_name)\n",
        "\n",
        "  def select_edge_detetion_method(self, method_name):\n",
        "    if method_name == \"simple_iou\":\n",
        "      return self.simple_box_iou_edge_detection\n",
        "    elif method_name == \"complex_distance_semantic\":\n",
        "      return self.complex_distance_semantic_edge_detection\n",
        "\n",
        "  \n",
        "  def __call__(self, x, batched_boxes, image_shapes):\n",
        "    # print(f\"GATorGraph: x shape before: {x.shape}\")\n",
        "    edges = []\n",
        "    for index, (boxes, image_shape) in enumerate(zip(batched_boxes, image_shapes)):\n",
        "      edge_list = self.edge_detection_method(boxes, x[index])\n",
        "      # print(f\"GATorGraph: x shape in for loop: {x[index].shape}\") \n",
        "      data = pyg_data.Data(x=x[index], edge_index=edge_list.T, boxes=boxes, image_shape=image_shape)\n",
        "      # print(f\"GATorGraph: data shape: {data}\")\n",
        "      if self.on_data_created:\n",
        "        self.on_data_created(data, index)\n",
        "      edges.append(data)\n",
        "\n",
        "    batched_edge_lists = pyg_data.Batch.from_data_list(edges)\n",
        "    # print(f\"GATorGraph: x shape after: {x.shape}\")\n",
        "    # print(f\"GATorGraph: data num nodes: {edges[0]}\")\n",
        "    return batched_edge_lists\n",
        "\n",
        "  def simple_box_iou_edge_detection(self, bboxes, _x):\n",
        "      ious = box_iou(bboxes, bboxes)\n",
        "      ious = torch.triu(ious, diagonal=1)\n",
        "      return (ious > 0.5).nonzero(as_tuple=False)\n",
        "\n",
        "\n",
        "  def complex_distance_semantic_edge_detection(self, bboxes, x):\n",
        "\n",
        "    # central_boxes dim = (512,4)\n",
        "\n",
        "    semantic_similarity = self.calcualte_semantic_similarity(x)\n",
        "    # print(f\"GATorGraph: semantic_similarity shape: {semantic_similarity.shape}\")\n",
        "    # print(f\"GATorGraph: semantic_similarity count before filter: {len(semantic_similarity.nonzero(as_tuple=True)[0])}\")\n",
        "    spatial_relationships = self.calculate_complex_spatial_relationships(bboxes)\n",
        "    # print(f\"GATorGraph: spatial_relationships shape: {semantic_similarity.shape}\")\n",
        "    # print(f\"GATorGraph: spatial_relationships count before filter: {len(spatial_relationships.nonzero(as_tuple=True)[0])}\")\n",
        "\n",
        "    edge_score = torch.add(semantic_similarity, spatial_relationships)\n",
        "    # print(f\"GATorGraph: edge_score shape: {semantic_similarity.shape}\")\n",
        "\n",
        "    # filter out overlapping boxes\n",
        "    ious = box_iou(bboxes, bboxes)\n",
        "    filter_mask = torch.where(ious > 0.5, 0, 1)\n",
        "    # print(f\"GATorGraph: edge_score count before filter: {len(edge_score.nonzero(as_tuple=True)[0])}\")\n",
        "    filtered_scores = torch.mul(edge_score, filter_mask)\n",
        "    # print(f\"GATorGraph: edge_score count after filter: {len(filtered_scores.nonzero(as_tuple=True)[0])}\")\n",
        "\n",
        "    # chose only upper triange so there would be no duplicate edges because the graph is undirected\n",
        "    edge_score = torch.triu(filtered_scores, diagonal=1)\n",
        "\n",
        "    # TODO we should multiply the cosine_similarity and gauss_distance matrices\n",
        "    return edge_score.nonzero(as_tuple=False)\n",
        "\n",
        "  def calculate_complex_spatial_relationships(self, bboxes, detection_distance = 250, distance_threshold=0.5):\n",
        "    # transform central_boxes coordinates into center coordinates\n",
        "    # TODO make a distance trheshold parameter\n",
        "    centers = self.calculate_bbox_center(bboxes)\n",
        "    euclidean_distance = torch.cdist(bboxes, bboxes)\n",
        "    # constant to reduce the distance values\n",
        "    k = np.log(distance_threshold)/(detection_distance)\n",
        "    gauss_distance = torch.exp(torch.mul(k, euclidean_distance))\n",
        "    _, top_k_distances_indexes = torch.topk(gauss_distance, k=16, dim= 1, largest=True)\n",
        "    dist_matrix = torch.scatter(torch.zeros(euclidean_distance.shape, device=device),1, top_k_distances_indexes, 1)\n",
        "    return dist_matrix\n",
        "\n",
        "  def calcualte_semantic_similarity(self, x):\n",
        "    # TODO we should generate a matrix of cosine similarities\n",
        "    # x shape = (512,1024)\n",
        "    # bboxes shape = (512, 4)\n",
        "    # out shape = (512, 512)\n",
        "    x_norm = x/x.norm(dim=1).unsqueeze(1)\n",
        "    cosine_similarity = torch.matmul(x_norm,x_norm.T)\n",
        "    # torch.set_printoptions(profile=\"default\")\n",
        "    # print(f\"GATorGraph: semantic_similarity matrix\\n: {cosine_similarity}\")\n",
        "    cosine_similarity = torch.where(cosine_similarity > 0.9, 1, 0)\n",
        "    return cosine_similarity\n",
        "\n",
        "  def calculate_bbox_center(self, bbox):\n",
        "    x = (bbox[:,0] + bbox[:,2])/2\n",
        "    # print(x)\n",
        "    y = (bbox[:,1] + bbox[:,3])/2\n",
        "    # print(y)\n",
        "    res = torch.concat((x.unsqueeze(1), y.unsqueeze(1)), dim=1)\n",
        "    # print(res)\n",
        "    return res\n"
      ],
      "metadata": {
        "id": "kftiJY9CICT9"
      },
      "execution_count": 15,
      "outputs": []
    },
    {
      "cell_type": "code",
      "source": [
        "t1 = torch.tensor([[1,2,3,4],[5,6,7,8]], dtype=torch.float)\n",
        "# print(t1)\n",
        "t2 = torch.tensor([[1,2,3,4],[5,6,7,8]], dtype=torch.float)\n",
        "# print(t2)\n",
        "# columns = (t1[:,2]/2 + t2[:,3]/2).unsqueeze(1)\n",
        "# print(columns)\n",
        "# x = (t1[:,0] + t1[:,2])/2\n",
        "# print(x)\n",
        "# y = (t1[:,1] + t1[:,3])/2\n",
        "# print(y)\n",
        "# res = torch.concat((x.unsqueeze(1), y.unsqueeze(1)), dim=1)\n",
        "# print(res)\n",
        "norm1 = t1/t1.norm(dim=1).unsqueeze(1)\n",
        "norm2 = t2/t2.norm(dim=1).unsqueeze(1)\n",
        "m = torch.matmul(norm1,norm1.T)\n",
        "# print(m)\n",
        "# sim = torch.cosine_similarity(torch.tensor([[1,2,3,4]],dtype=torch.float), torch.tensor([[5,6,7,8]],dtype=torch.float))\n",
        "# print(sim)\n",
        "# print(torch.mul(t1,t2))\n",
        "# print(torch.triu(torch.tensor([[1,2,3],[4,5,6],[7,8,9]]), diagonal=1))\n",
        "t3 = torch.tensor([[1,22,33],[44,5,6],[7,8,251]],dtype=torch.float)\n",
        "print(t3)\n",
        "k = np.log(0.5)/(250)\n",
        "print(k)\n",
        "gauss_distance = torch.exp(torch.mul(k, t3))\n",
        "print(gauss_distance)\n",
        "_, top_k_distances_indexes = torch.topk(gauss_distance,k=2, dim= 1, largest=True)\n",
        "dist_matrix = torch.scatter(torch.zeros(gauss_distance.shape),1, top_k_distances_indexes, 1.)\n",
        "print(dist_matrix)"
      ],
      "metadata": {
        "colab": {
          "base_uri": "https://localhost:8080/"
        },
        "id": "gDmUukN4v9vc",
        "outputId": "d3163785-97b9-4c35-8521-e701da740295"
      },
      "execution_count": 16,
      "outputs": [
        {
          "output_type": "stream",
          "name": "stdout",
          "text": [
            "tensor([[  1.,  22.,  33.],\n",
            "        [ 44.,   5.,   6.],\n",
            "        [  7.,   8., 251.]])\n",
            "-0.0027725887222397813\n",
            "tensor([[0.9972, 0.9408, 0.9126],\n",
            "        [0.8852, 0.9862, 0.9835],\n",
            "        [0.9808, 0.9781, 0.4986]])\n",
            "tensor([[1., 1., 0.],\n",
            "        [0., 1., 1.],\n",
            "        [1., 1., 0.]])\n"
          ]
        }
      ]
    },
    {
      "cell_type": "code",
      "source": [
        "print(\"AAAAAAAAAA\")"
      ],
      "metadata": {
        "colab": {
          "base_uri": "https://localhost:8080/"
        },
        "id": "CNwHuHzgynCp",
        "outputId": "4f86e66c-d1c0-412f-c34b-3c8617856f55"
      },
      "execution_count": 17,
      "outputs": [
        {
          "output_type": "stream",
          "name": "stdout",
          "text": [
            "AAAAAAAAAA\n"
          ]
        }
      ]
    },
    {
      "cell_type": "code",
      "source": [
        "class GATor(nn.Module):\n",
        "  def __init__(self, input_dim, hidden_dim, output_dim, layers, heads, dropout, edge_dim=None):\n",
        "    super(GATor, self).__init__()\n",
        "    self.convs = nn.ModuleList()\n",
        "    self.convs.append(GATv2Conv(in_channels=input_dim, out_channels=hidden_dim, heads=heads, edge_dim=edge_dim))\n",
        "    for l in range(layers-1):\n",
        "      self.convs.append(GATv2Conv(in_channels=heads * hidden_dim, out_channels=hidden_dim, heads=heads, edge_dim=edge_dim))\n",
        "    # post-message-passing\n",
        "    self.post_mp = nn.Sequential(\n",
        "      nn.Linear(heads * hidden_dim, hidden_dim), nn.Dropout(dropout), \n",
        "      nn.Linear(hidden_dim, output_dim))\n",
        "    self.dropout = dropout\n",
        "    self.num_layers = layers\n",
        "\n",
        "\n",
        "  def forward(self, data):\n",
        "    x, edge_index, batch = data.x, data.edge_index, data.batch\n",
        "    # print(f\"GATor x shape: {x.shape}\")  \n",
        "    # print(f\"GATor edge_index shape: {edge_index.shape}\")\n",
        "    for i in range(self.num_layers):\n",
        "      # print(f\"GATor current layer index: {i}\")\n",
        "      # print(f\"GATor current x shape: {x.shape}\")\n",
        "      x = self.convs[i](x, edge_index)\n",
        "      x = F.relu(x)\n",
        "      x = F.dropout(x, p=self.dropout, training=self.training)\n",
        "    x = self.post_mp(x)\n",
        "    return x"
      ],
      "metadata": {
        "id": "F5ViSKT680Xt"
      },
      "execution_count": 18,
      "outputs": []
    },
    {
      "cell_type": "code",
      "source": [
        "class MultiScaleRoIAlignWrapper(nn.Module):\n",
        "  def __init__(self, roi_align):\n",
        "    super(MultiScaleRoIAlignWrapper, self).__init__()\n",
        "    self.roi_align = roi_align\n",
        "\n",
        "  def forward(self, x, boxes, image_shapes):\n",
        "    # print(f\"MULTI SCALE ROI: X dictionary: {x}\")\n",
        "    # print(f\"MULTI SCALE ROI: boxes len: {len(boxes)}\")\n",
        "    # print(f\"MULTI SCALE ROI: boxe[0] shape: {boxes[0].shape}\")\n",
        "    # print(f\"MULTI SCALE ROI: image_shapes len: {len(image_shapes)}\")\n",
        "    # for a in x:\n",
        "    #   print(f\"MULTI SCALE ROI: shapes o elements in X: {a}\")\n",
        "    ret_val = self.roi_align(x, boxes, image_shapes)\n",
        "    # print(f\"MULTI SCALE ROI: retval: {ret_val}\")\n",
        "    # print(f\"MULTI SCALE ROI: retval shape: {ret_val.shape}\")\n",
        "    cached['boxes'] = boxes\n",
        "    cached['image_shapes'] = image_shapes\n",
        "    return ret_val"
      ],
      "metadata": {
        "id": "PNU5fMCOBbbL"
      },
      "execution_count": 19,
      "outputs": []
    },
    {
      "cell_type": "code",
      "source": [
        "class TwoMLPHeadWrapper(nn.Module):\n",
        "  def __init__(self, box_head, gator_graph, gator):\n",
        "    super(TwoMLPHeadWrapper, self).__init__()\n",
        "    self.box_head = box_head\n",
        "    self.gator_graph = gator_graph\n",
        "    self.gator = gator\n",
        "\n",
        "  def forward(self, x):\n",
        "    # print(f\"TwoMLPHeadWrapper: x shape: {x.shape}\")\n",
        "    node_features = self.box_head(x)\n",
        "    # print(f\"TwoMLPHeadWrapper: node_features shape: {node_features.shape}\")\n",
        "    B = len(cached['boxes'])\n",
        "    graph = self.gator_graph(node_features.view(B,-1, node_features.shape[1]), cached['boxes'], cached['image_shapes'])\n",
        "    ret_val = self.gator(graph)\n",
        "    # print(f\"TwoMLPHeadWrapper: Evo me\")\n",
        "    return ret_val"
      ],
      "metadata": {
        "id": "6sm1fgPfFTsX"
      },
      "execution_count": 20,
      "outputs": []
    },
    {
      "cell_type": "code",
      "source": [
        "class GATorLayer(MessagePassing):\n",
        "\n",
        "    def __init__(self, in_channels, out_channels, heads = 2,\n",
        "                 negative_slope = 0.2, dropout = 0., **kwargs):\n",
        "        super(GAT, self).__init__(node_dim=0, **kwargs)\n",
        "\n",
        "        self.in_channels = in_channels\n",
        "        self.out_channels = out_channels\n",
        "        self.heads = heads\n",
        "        self.negative_slope = negative_slope\n",
        "        self.dropout = dropout\n",
        "\n",
        "        self.lin_l = None\n",
        "        self.lin_r = None\n",
        "        self.att_l = None\n",
        "        self.att_r = None\n",
        "        \n",
        "\n",
        "\n",
        "        self.lin_l = Linear(in_channels, out_channels*self.heads)\n",
        "\n",
        "\n",
        "        self.lin_r = self.lin_l\n",
        "\n",
        "\n",
        "        self.att_l = Parameter(torch.Tensor(1, self.heads, out_channels))\n",
        "        self.att_r = Parameter(torch.Tensor(1, self.heads, out_channels))\n",
        "        self.attention = Parameter(torch.Tensor(1, self.heads, out_channels))\n",
        "\n",
        "\n",
        "        self.reset_parameters()\n",
        "\n",
        "    def reset_parameters(self):\n",
        "        nn.init.xavier_uniform_(self.lin_l.weight)\n",
        "        nn.init.xavier_uniform_(self.lin_r.weight)\n",
        "        nn.init.xavier_uniform_(self.att_l)\n",
        "        nn.init.xavier_uniform_(self.att_r)\n",
        "\n",
        "    def forward(self, x, edge_index, size = None):\n",
        "        \n",
        "        H, C = self.heads, self.out_channels\n",
        "\n",
        "        # print(f\"\\n========Forward========\")\n",
        "        # print(f\"x shape: {x.shape}\")\n",
        "        # print(f\"Edge index shape {edge_index.shape}\")\n",
        "        # print(f\"att_l shape: {self.att_l.shape}\")\n",
        "        # print(f\"att_r shape: {self.att_r.shape}\")\n",
        "\n",
        "\n",
        "        wh_l = self.lin_r(x).view(-1, H, C)\n",
        "        wh_r = self.lin_r(x).view(-1, H, C)\n",
        "        # print(f\"whl shape: {wh_l.shape}\")\n",
        "        # print(f\"whr shape: {wh_r.shape}\")\n",
        "\n",
        "        alpha_l = wh_l\n",
        "        alpha_r = wh_r\n",
        "        # print(f\"alpha_l shape: {alpha_l.shape}\")\n",
        "        # print(f\"alpha_r shape: {alpha_r.shape}\")\n",
        "\n",
        "        out = self.propagate(edge_index,x=(wh_l, wh_r), size=size, alpha=(alpha_l, alpha_r))\n",
        "        # print(f\"Shape of propagate out: {out.shape}\")\n",
        "\n",
        "        out = out.view(-1, H*C)\n",
        "        # print(f\"Shape of out after shape transformation to [N, H*C]: {out.shape}\")\n",
        "\n",
        "        return out\n",
        "\n",
        "\n",
        "    def message(self, x_j, alpha_j, alpha_i, index, ptr, size_i):\n",
        "\n",
        "        # Because TwoMLPHead layer from FasterRCNN gives embeddings for region proposals\n",
        "        # that are generated to be ready for classification and regression\n",
        "        # we can just use cosine similarity between the nodes to determine semantic similarity\n",
        "        # If semantic similarity is high, the central node i should pay more attention to that message\n",
        "\n",
        "        # print(f\"\\n========Message funnction========\")\n",
        "        # print(f\"x_j shape: {x_j.shape}\")\n",
        "        # print(f\"Alpha_j shape: {alpha_j.shape}\")\n",
        "        # print(f\"Alpha_i shape: {alpha_i.shape}\")\n",
        "        # print(f\"Index: {index.shape}\")\n",
        "        # print(f\"ptr shape: {ptr}\")\n",
        "        # print(f\"size_i: {size_i}\")\n",
        "\n",
        "        # TODO select just rows from x_j based on index\n",
        "        # alpha_i should be the central node embedding\n",
        "        cos_sim = torch.nn.CosineSimilarity(alpha_i, x_j)\n",
        "\n",
        "        attention = torch.mul(cos_sim, x_j)\n",
        "\n",
        "        attention = softmax(attention, ptr if ptr else index)\n",
        "        attention = F.dropout(att, self.dropout)\n",
        "\n",
        "        out = attention\n",
        "        # print(f\"out shape from message function should be [E, H, C]: {out.shape}\")\n",
        "\n",
        "        return out\n",
        "\n",
        "\n",
        "    def aggregate(self, inputs, index, dim_size = None):\n",
        "\n",
        "        out = torch_scatter.scatter(inputs, index = index, dim = self.node_dim, dim_size = dim_size, reduce = \"sum\")\n",
        "    \n",
        "        return out"
      ],
      "metadata": {
        "id": "DZ2EgdT6-x3_"
      },
      "execution_count": 21,
      "outputs": []
    },
    {
      "cell_type": "code",
      "source": [
        "def build_model():\n",
        "  model = torchvision.models.detection.fasterrcnn_resnet50_fpn(pretrained=True)\n",
        "  gator_graph = GATorGraph(method_name=\"complex_distance_semantic\")\n",
        "  gator = GATor(input_dim=1024, hidden_dim=1024, output_dim=1024, layers=2, heads=8, dropout=0.5, edge_dim=None)\n",
        "  # gat = GATModule(model.roi_heads.box_head, gator_graph)\n",
        "  # model.rpn = RPNWrapper(model.rpn)\n",
        "  model.roi_heads.box_roi_pool = MultiScaleRoIAlignWrapper(model.roi_heads.box_roi_pool)\n",
        "  model.roi_heads.box_head = TwoMLPHeadWrapper(model.roi_heads.box_head, gator_graph, gator)\n",
        "  # model.box_predictor.reset_parameters()\n",
        "  # model.roi_heads.box_head = gat\n",
        "  return model"
      ],
      "metadata": {
        "id": "1ARkkb2hIpVg"
      },
      "execution_count": 22,
      "outputs": []
    },
    {
      "cell_type": "code",
      "source": [
        "cached = {}\n",
        "model = build_model()\n",
        "model.to(device)"
      ],
      "metadata": {
        "id": "kNaBSo_AxikF",
        "colab": {
          "base_uri": "https://localhost:8080/"
        },
        "outputId": "3f0fc94d-5aca-411a-aac5-560b26bc413b"
      },
      "execution_count": 23,
      "outputs": [
        {
          "output_type": "execute_result",
          "data": {
            "text/plain": [
              "FasterRCNN(\n",
              "  (transform): GeneralizedRCNNTransform(\n",
              "      Normalize(mean=[0.485, 0.456, 0.406], std=[0.229, 0.224, 0.225])\n",
              "      Resize(min_size=(800,), max_size=1333, mode='bilinear')\n",
              "  )\n",
              "  (backbone): BackboneWithFPN(\n",
              "    (body): IntermediateLayerGetter(\n",
              "      (conv1): Conv2d(3, 64, kernel_size=(7, 7), stride=(2, 2), padding=(3, 3), bias=False)\n",
              "      (bn1): FrozenBatchNorm2d(64, eps=0.0)\n",
              "      (relu): ReLU(inplace=True)\n",
              "      (maxpool): MaxPool2d(kernel_size=3, stride=2, padding=1, dilation=1, ceil_mode=False)\n",
              "      (layer1): Sequential(\n",
              "        (0): Bottleneck(\n",
              "          (conv1): Conv2d(64, 64, kernel_size=(1, 1), stride=(1, 1), bias=False)\n",
              "          (bn1): FrozenBatchNorm2d(64, eps=0.0)\n",
              "          (conv2): Conv2d(64, 64, kernel_size=(3, 3), stride=(1, 1), padding=(1, 1), bias=False)\n",
              "          (bn2): FrozenBatchNorm2d(64, eps=0.0)\n",
              "          (conv3): Conv2d(64, 256, kernel_size=(1, 1), stride=(1, 1), bias=False)\n",
              "          (bn3): FrozenBatchNorm2d(256, eps=0.0)\n",
              "          (relu): ReLU(inplace=True)\n",
              "          (downsample): Sequential(\n",
              "            (0): Conv2d(64, 256, kernel_size=(1, 1), stride=(1, 1), bias=False)\n",
              "            (1): FrozenBatchNorm2d(256, eps=0.0)\n",
              "          )\n",
              "        )\n",
              "        (1): Bottleneck(\n",
              "          (conv1): Conv2d(256, 64, kernel_size=(1, 1), stride=(1, 1), bias=False)\n",
              "          (bn1): FrozenBatchNorm2d(64, eps=0.0)\n",
              "          (conv2): Conv2d(64, 64, kernel_size=(3, 3), stride=(1, 1), padding=(1, 1), bias=False)\n",
              "          (bn2): FrozenBatchNorm2d(64, eps=0.0)\n",
              "          (conv3): Conv2d(64, 256, kernel_size=(1, 1), stride=(1, 1), bias=False)\n",
              "          (bn3): FrozenBatchNorm2d(256, eps=0.0)\n",
              "          (relu): ReLU(inplace=True)\n",
              "        )\n",
              "        (2): Bottleneck(\n",
              "          (conv1): Conv2d(256, 64, kernel_size=(1, 1), stride=(1, 1), bias=False)\n",
              "          (bn1): FrozenBatchNorm2d(64, eps=0.0)\n",
              "          (conv2): Conv2d(64, 64, kernel_size=(3, 3), stride=(1, 1), padding=(1, 1), bias=False)\n",
              "          (bn2): FrozenBatchNorm2d(64, eps=0.0)\n",
              "          (conv3): Conv2d(64, 256, kernel_size=(1, 1), stride=(1, 1), bias=False)\n",
              "          (bn3): FrozenBatchNorm2d(256, eps=0.0)\n",
              "          (relu): ReLU(inplace=True)\n",
              "        )\n",
              "      )\n",
              "      (layer2): Sequential(\n",
              "        (0): Bottleneck(\n",
              "          (conv1): Conv2d(256, 128, kernel_size=(1, 1), stride=(1, 1), bias=False)\n",
              "          (bn1): FrozenBatchNorm2d(128, eps=0.0)\n",
              "          (conv2): Conv2d(128, 128, kernel_size=(3, 3), stride=(2, 2), padding=(1, 1), bias=False)\n",
              "          (bn2): FrozenBatchNorm2d(128, eps=0.0)\n",
              "          (conv3): Conv2d(128, 512, kernel_size=(1, 1), stride=(1, 1), bias=False)\n",
              "          (bn3): FrozenBatchNorm2d(512, eps=0.0)\n",
              "          (relu): ReLU(inplace=True)\n",
              "          (downsample): Sequential(\n",
              "            (0): Conv2d(256, 512, kernel_size=(1, 1), stride=(2, 2), bias=False)\n",
              "            (1): FrozenBatchNorm2d(512, eps=0.0)\n",
              "          )\n",
              "        )\n",
              "        (1): Bottleneck(\n",
              "          (conv1): Conv2d(512, 128, kernel_size=(1, 1), stride=(1, 1), bias=False)\n",
              "          (bn1): FrozenBatchNorm2d(128, eps=0.0)\n",
              "          (conv2): Conv2d(128, 128, kernel_size=(3, 3), stride=(1, 1), padding=(1, 1), bias=False)\n",
              "          (bn2): FrozenBatchNorm2d(128, eps=0.0)\n",
              "          (conv3): Conv2d(128, 512, kernel_size=(1, 1), stride=(1, 1), bias=False)\n",
              "          (bn3): FrozenBatchNorm2d(512, eps=0.0)\n",
              "          (relu): ReLU(inplace=True)\n",
              "        )\n",
              "        (2): Bottleneck(\n",
              "          (conv1): Conv2d(512, 128, kernel_size=(1, 1), stride=(1, 1), bias=False)\n",
              "          (bn1): FrozenBatchNorm2d(128, eps=0.0)\n",
              "          (conv2): Conv2d(128, 128, kernel_size=(3, 3), stride=(1, 1), padding=(1, 1), bias=False)\n",
              "          (bn2): FrozenBatchNorm2d(128, eps=0.0)\n",
              "          (conv3): Conv2d(128, 512, kernel_size=(1, 1), stride=(1, 1), bias=False)\n",
              "          (bn3): FrozenBatchNorm2d(512, eps=0.0)\n",
              "          (relu): ReLU(inplace=True)\n",
              "        )\n",
              "        (3): Bottleneck(\n",
              "          (conv1): Conv2d(512, 128, kernel_size=(1, 1), stride=(1, 1), bias=False)\n",
              "          (bn1): FrozenBatchNorm2d(128, eps=0.0)\n",
              "          (conv2): Conv2d(128, 128, kernel_size=(3, 3), stride=(1, 1), padding=(1, 1), bias=False)\n",
              "          (bn2): FrozenBatchNorm2d(128, eps=0.0)\n",
              "          (conv3): Conv2d(128, 512, kernel_size=(1, 1), stride=(1, 1), bias=False)\n",
              "          (bn3): FrozenBatchNorm2d(512, eps=0.0)\n",
              "          (relu): ReLU(inplace=True)\n",
              "        )\n",
              "      )\n",
              "      (layer3): Sequential(\n",
              "        (0): Bottleneck(\n",
              "          (conv1): Conv2d(512, 256, kernel_size=(1, 1), stride=(1, 1), bias=False)\n",
              "          (bn1): FrozenBatchNorm2d(256, eps=0.0)\n",
              "          (conv2): Conv2d(256, 256, kernel_size=(3, 3), stride=(2, 2), padding=(1, 1), bias=False)\n",
              "          (bn2): FrozenBatchNorm2d(256, eps=0.0)\n",
              "          (conv3): Conv2d(256, 1024, kernel_size=(1, 1), stride=(1, 1), bias=False)\n",
              "          (bn3): FrozenBatchNorm2d(1024, eps=0.0)\n",
              "          (relu): ReLU(inplace=True)\n",
              "          (downsample): Sequential(\n",
              "            (0): Conv2d(512, 1024, kernel_size=(1, 1), stride=(2, 2), bias=False)\n",
              "            (1): FrozenBatchNorm2d(1024, eps=0.0)\n",
              "          )\n",
              "        )\n",
              "        (1): Bottleneck(\n",
              "          (conv1): Conv2d(1024, 256, kernel_size=(1, 1), stride=(1, 1), bias=False)\n",
              "          (bn1): FrozenBatchNorm2d(256, eps=0.0)\n",
              "          (conv2): Conv2d(256, 256, kernel_size=(3, 3), stride=(1, 1), padding=(1, 1), bias=False)\n",
              "          (bn2): FrozenBatchNorm2d(256, eps=0.0)\n",
              "          (conv3): Conv2d(256, 1024, kernel_size=(1, 1), stride=(1, 1), bias=False)\n",
              "          (bn3): FrozenBatchNorm2d(1024, eps=0.0)\n",
              "          (relu): ReLU(inplace=True)\n",
              "        )\n",
              "        (2): Bottleneck(\n",
              "          (conv1): Conv2d(1024, 256, kernel_size=(1, 1), stride=(1, 1), bias=False)\n",
              "          (bn1): FrozenBatchNorm2d(256, eps=0.0)\n",
              "          (conv2): Conv2d(256, 256, kernel_size=(3, 3), stride=(1, 1), padding=(1, 1), bias=False)\n",
              "          (bn2): FrozenBatchNorm2d(256, eps=0.0)\n",
              "          (conv3): Conv2d(256, 1024, kernel_size=(1, 1), stride=(1, 1), bias=False)\n",
              "          (bn3): FrozenBatchNorm2d(1024, eps=0.0)\n",
              "          (relu): ReLU(inplace=True)\n",
              "        )\n",
              "        (3): Bottleneck(\n",
              "          (conv1): Conv2d(1024, 256, kernel_size=(1, 1), stride=(1, 1), bias=False)\n",
              "          (bn1): FrozenBatchNorm2d(256, eps=0.0)\n",
              "          (conv2): Conv2d(256, 256, kernel_size=(3, 3), stride=(1, 1), padding=(1, 1), bias=False)\n",
              "          (bn2): FrozenBatchNorm2d(256, eps=0.0)\n",
              "          (conv3): Conv2d(256, 1024, kernel_size=(1, 1), stride=(1, 1), bias=False)\n",
              "          (bn3): FrozenBatchNorm2d(1024, eps=0.0)\n",
              "          (relu): ReLU(inplace=True)\n",
              "        )\n",
              "        (4): Bottleneck(\n",
              "          (conv1): Conv2d(1024, 256, kernel_size=(1, 1), stride=(1, 1), bias=False)\n",
              "          (bn1): FrozenBatchNorm2d(256, eps=0.0)\n",
              "          (conv2): Conv2d(256, 256, kernel_size=(3, 3), stride=(1, 1), padding=(1, 1), bias=False)\n",
              "          (bn2): FrozenBatchNorm2d(256, eps=0.0)\n",
              "          (conv3): Conv2d(256, 1024, kernel_size=(1, 1), stride=(1, 1), bias=False)\n",
              "          (bn3): FrozenBatchNorm2d(1024, eps=0.0)\n",
              "          (relu): ReLU(inplace=True)\n",
              "        )\n",
              "        (5): Bottleneck(\n",
              "          (conv1): Conv2d(1024, 256, kernel_size=(1, 1), stride=(1, 1), bias=False)\n",
              "          (bn1): FrozenBatchNorm2d(256, eps=0.0)\n",
              "          (conv2): Conv2d(256, 256, kernel_size=(3, 3), stride=(1, 1), padding=(1, 1), bias=False)\n",
              "          (bn2): FrozenBatchNorm2d(256, eps=0.0)\n",
              "          (conv3): Conv2d(256, 1024, kernel_size=(1, 1), stride=(1, 1), bias=False)\n",
              "          (bn3): FrozenBatchNorm2d(1024, eps=0.0)\n",
              "          (relu): ReLU(inplace=True)\n",
              "        )\n",
              "      )\n",
              "      (layer4): Sequential(\n",
              "        (0): Bottleneck(\n",
              "          (conv1): Conv2d(1024, 512, kernel_size=(1, 1), stride=(1, 1), bias=False)\n",
              "          (bn1): FrozenBatchNorm2d(512, eps=0.0)\n",
              "          (conv2): Conv2d(512, 512, kernel_size=(3, 3), stride=(2, 2), padding=(1, 1), bias=False)\n",
              "          (bn2): FrozenBatchNorm2d(512, eps=0.0)\n",
              "          (conv3): Conv2d(512, 2048, kernel_size=(1, 1), stride=(1, 1), bias=False)\n",
              "          (bn3): FrozenBatchNorm2d(2048, eps=0.0)\n",
              "          (relu): ReLU(inplace=True)\n",
              "          (downsample): Sequential(\n",
              "            (0): Conv2d(1024, 2048, kernel_size=(1, 1), stride=(2, 2), bias=False)\n",
              "            (1): FrozenBatchNorm2d(2048, eps=0.0)\n",
              "          )\n",
              "        )\n",
              "        (1): Bottleneck(\n",
              "          (conv1): Conv2d(2048, 512, kernel_size=(1, 1), stride=(1, 1), bias=False)\n",
              "          (bn1): FrozenBatchNorm2d(512, eps=0.0)\n",
              "          (conv2): Conv2d(512, 512, kernel_size=(3, 3), stride=(1, 1), padding=(1, 1), bias=False)\n",
              "          (bn2): FrozenBatchNorm2d(512, eps=0.0)\n",
              "          (conv3): Conv2d(512, 2048, kernel_size=(1, 1), stride=(1, 1), bias=False)\n",
              "          (bn3): FrozenBatchNorm2d(2048, eps=0.0)\n",
              "          (relu): ReLU(inplace=True)\n",
              "        )\n",
              "        (2): Bottleneck(\n",
              "          (conv1): Conv2d(2048, 512, kernel_size=(1, 1), stride=(1, 1), bias=False)\n",
              "          (bn1): FrozenBatchNorm2d(512, eps=0.0)\n",
              "          (conv2): Conv2d(512, 512, kernel_size=(3, 3), stride=(1, 1), padding=(1, 1), bias=False)\n",
              "          (bn2): FrozenBatchNorm2d(512, eps=0.0)\n",
              "          (conv3): Conv2d(512, 2048, kernel_size=(1, 1), stride=(1, 1), bias=False)\n",
              "          (bn3): FrozenBatchNorm2d(2048, eps=0.0)\n",
              "          (relu): ReLU(inplace=True)\n",
              "        )\n",
              "      )\n",
              "    )\n",
              "    (fpn): FeaturePyramidNetwork(\n",
              "      (inner_blocks): ModuleList(\n",
              "        (0): Conv2d(256, 256, kernel_size=(1, 1), stride=(1, 1))\n",
              "        (1): Conv2d(512, 256, kernel_size=(1, 1), stride=(1, 1))\n",
              "        (2): Conv2d(1024, 256, kernel_size=(1, 1), stride=(1, 1))\n",
              "        (3): Conv2d(2048, 256, kernel_size=(1, 1), stride=(1, 1))\n",
              "      )\n",
              "      (layer_blocks): ModuleList(\n",
              "        (0): Conv2d(256, 256, kernel_size=(3, 3), stride=(1, 1), padding=(1, 1))\n",
              "        (1): Conv2d(256, 256, kernel_size=(3, 3), stride=(1, 1), padding=(1, 1))\n",
              "        (2): Conv2d(256, 256, kernel_size=(3, 3), stride=(1, 1), padding=(1, 1))\n",
              "        (3): Conv2d(256, 256, kernel_size=(3, 3), stride=(1, 1), padding=(1, 1))\n",
              "      )\n",
              "      (extra_blocks): LastLevelMaxPool()\n",
              "    )\n",
              "  )\n",
              "  (rpn): RegionProposalNetwork(\n",
              "    (anchor_generator): AnchorGenerator()\n",
              "    (head): RPNHead(\n",
              "      (conv): Conv2d(256, 256, kernel_size=(3, 3), stride=(1, 1), padding=(1, 1))\n",
              "      (cls_logits): Conv2d(256, 3, kernel_size=(1, 1), stride=(1, 1))\n",
              "      (bbox_pred): Conv2d(256, 12, kernel_size=(1, 1), stride=(1, 1))\n",
              "    )\n",
              "  )\n",
              "  (roi_heads): RoIHeads(\n",
              "    (box_roi_pool): MultiScaleRoIAlignWrapper(\n",
              "      (roi_align): MultiScaleRoIAlign(featmap_names=['0', '1', '2', '3'], output_size=(7, 7), sampling_ratio=2)\n",
              "    )\n",
              "    (box_head): TwoMLPHeadWrapper(\n",
              "      (box_head): TwoMLPHead(\n",
              "        (fc6): Linear(in_features=12544, out_features=1024, bias=True)\n",
              "        (fc7): Linear(in_features=1024, out_features=1024, bias=True)\n",
              "      )\n",
              "      (gator): GATor(\n",
              "        (convs): ModuleList(\n",
              "          (0): GATv2Conv(1024, 1024, heads=8)\n",
              "          (1): GATv2Conv(8192, 1024, heads=8)\n",
              "        )\n",
              "        (post_mp): Sequential(\n",
              "          (0): Linear(in_features=8192, out_features=1024, bias=True)\n",
              "          (1): Dropout(p=0.5, inplace=False)\n",
              "          (2): Linear(in_features=1024, out_features=1024, bias=True)\n",
              "        )\n",
              "      )\n",
              "    )\n",
              "    (box_predictor): FastRCNNPredictor(\n",
              "      (cls_score): Linear(in_features=1024, out_features=91, bias=True)\n",
              "      (bbox_pred): Linear(in_features=1024, out_features=364, bias=True)\n",
              "    )\n",
              "  )\n",
              ")"
            ]
          },
          "metadata": {},
          "execution_count": 23
        }
      ]
    },
    {
      "cell_type": "markdown",
      "source": [
        "### Defining PyTorch dataloaders"
      ],
      "metadata": {
        "id": "-JLQATBxx1ZA"
      }
    },
    {
      "cell_type": "code",
      "source": [
        "def collate_fn(batch):\n",
        "  return tuple(zip(*batch))"
      ],
      "metadata": {
        "id": "cspE-mQk1MS5"
      },
      "execution_count": 24,
      "outputs": []
    },
    {
      "cell_type": "code",
      "source": [
        "data_loader_train = DataLoader(torch_dataset_train, batch_size=2, shuffle=True, collate_fn=collate_fn, pin_memory=True)\n",
        "data_loader_test = DataLoader(torch_dataset_test, batch_size=1, shuffle=False, collate_fn=collate_fn)"
      ],
      "metadata": {
        "id": "z5ONelLMx9s2"
      },
      "execution_count": 25,
      "outputs": []
    },
    {
      "cell_type": "markdown",
      "source": [
        "### Training using standard COCO training pipeline"
      ],
      "metadata": {
        "id": "oSHErrODx4_c"
      }
    },
    {
      "cell_type": "code",
      "source": [
        "def save_model(model, path):\n",
        "  torch.save(model.state_dict(), path)"
      ],
      "metadata": {
        "id": "bpFYMb_DIRXL"
      },
      "execution_count": 26,
      "outputs": []
    },
    {
      "cell_type": "code",
      "source": [
        "def train(model, train_loader, test_loader, n_epochs, save_dir='models'):\n",
        "  if not osp.exists(save_dir):\n",
        "    os.mkdir(save_dir)\n",
        "  device = torch.device('cuda') if torch.cuda.is_available() else torch.device('cpu')\n",
        "  model.train()\n",
        "  for param in model.parameters():\n",
        "    param.requires_grad = False\n",
        "  for param in model.roi_heads.box_head.parameters():\n",
        "    param.requires_grad = True\n",
        "  for param in model.roi_heads.box_predictor.parameters():\n",
        "    param.requires_grad = True\n",
        "  model.to(device)\n",
        "  params = [p for p in model.parameters() if p.requires_grad]\n",
        "  optimizer = torch.optim.Adam(params)\n",
        "  # optimizer = torch.optim.SGD(params, lr=0.002, momentum=0.9, weight_decay=0.0005)\n",
        "\n",
        "  lr_scheduler = torch.optim.lr_scheduler.StepLR(optimizer,\n",
        "                                                step_size=3,\n",
        "                                                gamma=0.1)\n",
        "\n",
        "  for epoch in range(n_epochs):\n",
        "    # train for one epoch, printing every 10 iterations\n",
        "    train_one_epoch(model, optimizer, train_loader, device, epoch, print_freq=10)\n",
        "    # update the learning rate\n",
        "    # lr_scheduler.step()\n",
        "    # evaluate on the test dataset\n",
        "    evaluate(model, test_loader, device=device)\n",
        "    # save the state dict\n",
        "    torch.save(model.state_dict(), osp.join(save_dir, f'faster-rcnn-gator-epochs-{epoch}.pt'))"
      ],
      "metadata": {
        "id": "yY3YPOCYyOgB"
      },
      "execution_count": 27,
      "outputs": []
    },
    {
      "cell_type": "code",
      "source": [
        "import gc\n",
        "torch.cuda.empty_cache()\n",
        "gc.collect()\n",
        "torch.cuda.empty_cache()\n",
        "gc.collect()"
      ],
      "metadata": {
        "colab": {
          "base_uri": "https://localhost:8080/"
        },
        "id": "pGG97_zuOHTP",
        "outputId": "f723533f-2440-4707-811f-e6a05be0236e"
      },
      "execution_count": 28,
      "outputs": [
        {
          "output_type": "execute_result",
          "data": {
            "text/plain": [
              "0"
            ]
          },
          "metadata": {},
          "execution_count": 28
        }
      ]
    },
    {
      "cell_type": "code",
      "source": [
        "train(model, data_loader_train, data_loader_test, n_epochs=2, save_dir='models')"
      ],
      "metadata": {
        "id": "lkjjcTSwyiBF",
        "colab": {
          "base_uri": "https://localhost:8080/",
          "height": 452
        },
        "outputId": "2345999a-77de-4adb-8b35-dc0dfde7d446"
      },
      "execution_count": 29,
      "outputs": [
        {
          "output_type": "stream",
          "name": "stderr",
          "text": [
            "/usr/local/lib/python3.7/dist-packages/torch/functional.py:445: UserWarning: torch.meshgrid: in an upcoming release, it will be required to pass the indexing argument. (Triggered internally at  ../aten/src/ATen/native/TensorShape.cpp:2157.)\n",
            "  return _VF.meshgrid(tensors, **kwargs)  # type: ignore[attr-defined]\n"
          ]
        },
        {
          "output_type": "stream",
          "name": "stdout",
          "text": [
            "Epoch: [0]  [ 0/99]  eta: 0:02:43  lr: 0.000011  loss: 4.5518 (4.5518)  loss_classifier: 3.8189 (3.8189)  loss_box_reg: 0.6872 (0.6872)  loss_objectness: 0.0235 (0.0235)  loss_rpn_box_reg: 0.0222 (0.0222)  time: 1.6506  data: 0.0575  max mem: 3369\n",
            "Epoch: [0]  [10/99]  eta: 0:02:47  lr: 0.000113  loss: 2.6845 (2.9346)  loss_classifier: 1.8883 (2.2577)  loss_box_reg: 0.5140 (0.5614)  loss_objectness: 0.0354 (0.0553)  loss_rpn_box_reg: 0.0222 (0.0602)  time: 1.8822  data: 0.0549  max mem: 6559\n",
            "Epoch: [0]  [20/99]  eta: 0:02:24  lr: 0.000215  loss: 2.3200 (2.4316)  loss_classifier: 1.5615 (1.7225)  loss_box_reg: 0.5572 (0.5802)  loss_objectness: 0.0354 (0.0616)  loss_rpn_box_reg: 0.0346 (0.0673)  time: 1.8388  data: 0.0563  max mem: 6919\n"
          ]
        },
        {
          "output_type": "error",
          "ename": "RuntimeError",
          "evalue": "ignored",
          "traceback": [
            "\u001b[0;31m---------------------------------------------------------------------------\u001b[0m",
            "\u001b[0;31mRuntimeError\u001b[0m                              Traceback (most recent call last)",
            "\u001b[0;32m<ipython-input-29-99c5d8ef324b>\u001b[0m in \u001b[0;36m<module>\u001b[0;34m()\u001b[0m\n\u001b[0;32m----> 1\u001b[0;31m \u001b[0mtrain\u001b[0m\u001b[0;34m(\u001b[0m\u001b[0mmodel\u001b[0m\u001b[0;34m,\u001b[0m \u001b[0mdata_loader_train\u001b[0m\u001b[0;34m,\u001b[0m \u001b[0mdata_loader_test\u001b[0m\u001b[0;34m,\u001b[0m \u001b[0mn_epochs\u001b[0m\u001b[0;34m=\u001b[0m\u001b[0;36m2\u001b[0m\u001b[0;34m,\u001b[0m \u001b[0msave_dir\u001b[0m\u001b[0;34m=\u001b[0m\u001b[0;34m'models'\u001b[0m\u001b[0;34m)\u001b[0m\u001b[0;34m\u001b[0m\u001b[0;34m\u001b[0m\u001b[0m\n\u001b[0m",
            "\u001b[0;32m<ipython-input-27-4bd00badde2c>\u001b[0m in \u001b[0;36mtrain\u001b[0;34m(model, train_loader, test_loader, n_epochs, save_dir)\u001b[0m\n\u001b[1;32m     21\u001b[0m   \u001b[0;32mfor\u001b[0m \u001b[0mepoch\u001b[0m \u001b[0;32min\u001b[0m \u001b[0mrange\u001b[0m\u001b[0;34m(\u001b[0m\u001b[0mn_epochs\u001b[0m\u001b[0;34m)\u001b[0m\u001b[0;34m:\u001b[0m\u001b[0;34m\u001b[0m\u001b[0;34m\u001b[0m\u001b[0m\n\u001b[1;32m     22\u001b[0m     \u001b[0;31m# train for one epoch, printing every 10 iterations\u001b[0m\u001b[0;34m\u001b[0m\u001b[0;34m\u001b[0m\u001b[0;34m\u001b[0m\u001b[0m\n\u001b[0;32m---> 23\u001b[0;31m     \u001b[0mtrain_one_epoch\u001b[0m\u001b[0;34m(\u001b[0m\u001b[0mmodel\u001b[0m\u001b[0;34m,\u001b[0m \u001b[0moptimizer\u001b[0m\u001b[0;34m,\u001b[0m \u001b[0mtrain_loader\u001b[0m\u001b[0;34m,\u001b[0m \u001b[0mdevice\u001b[0m\u001b[0;34m,\u001b[0m \u001b[0mepoch\u001b[0m\u001b[0;34m,\u001b[0m \u001b[0mprint_freq\u001b[0m\u001b[0;34m=\u001b[0m\u001b[0;36m10\u001b[0m\u001b[0;34m)\u001b[0m\u001b[0;34m\u001b[0m\u001b[0;34m\u001b[0m\u001b[0m\n\u001b[0m\u001b[1;32m     24\u001b[0m     \u001b[0;31m# update the learning rate\u001b[0m\u001b[0;34m\u001b[0m\u001b[0;34m\u001b[0m\u001b[0;34m\u001b[0m\u001b[0m\n\u001b[1;32m     25\u001b[0m     \u001b[0;31m# lr_scheduler.step()\u001b[0m\u001b[0;34m\u001b[0m\u001b[0;34m\u001b[0m\u001b[0;34m\u001b[0m\u001b[0m\n",
            "\u001b[0;32m/content/engine.py\u001b[0m in \u001b[0;36mtrain_one_epoch\u001b[0;34m(model, optimizer, data_loader, device, epoch, print_freq)\u001b[0m\n\u001b[1;32m     28\u001b[0m         \u001b[0mtargets\u001b[0m \u001b[0;34m=\u001b[0m \u001b[0;34m[\u001b[0m\u001b[0;34m{\u001b[0m\u001b[0mk\u001b[0m\u001b[0;34m:\u001b[0m \u001b[0mv\u001b[0m\u001b[0;34m.\u001b[0m\u001b[0mto\u001b[0m\u001b[0;34m(\u001b[0m\u001b[0mdevice\u001b[0m\u001b[0;34m)\u001b[0m \u001b[0;32mfor\u001b[0m \u001b[0mk\u001b[0m\u001b[0;34m,\u001b[0m \u001b[0mv\u001b[0m \u001b[0;32min\u001b[0m \u001b[0mt\u001b[0m\u001b[0;34m.\u001b[0m\u001b[0mitems\u001b[0m\u001b[0;34m(\u001b[0m\u001b[0;34m)\u001b[0m\u001b[0;34m}\u001b[0m \u001b[0;32mfor\u001b[0m \u001b[0mt\u001b[0m \u001b[0;32min\u001b[0m \u001b[0mtargets\u001b[0m\u001b[0;34m]\u001b[0m\u001b[0;34m\u001b[0m\u001b[0;34m\u001b[0m\u001b[0m\n\u001b[1;32m     29\u001b[0m \u001b[0;34m\u001b[0m\u001b[0m\n\u001b[0;32m---> 30\u001b[0;31m         \u001b[0mloss_dict\u001b[0m \u001b[0;34m=\u001b[0m \u001b[0mmodel\u001b[0m\u001b[0;34m(\u001b[0m\u001b[0mimages\u001b[0m\u001b[0;34m,\u001b[0m \u001b[0mtargets\u001b[0m\u001b[0;34m)\u001b[0m\u001b[0;34m\u001b[0m\u001b[0;34m\u001b[0m\u001b[0m\n\u001b[0m\u001b[1;32m     31\u001b[0m \u001b[0;34m\u001b[0m\u001b[0m\n\u001b[1;32m     32\u001b[0m         \u001b[0mlosses\u001b[0m \u001b[0;34m=\u001b[0m \u001b[0msum\u001b[0m\u001b[0;34m(\u001b[0m\u001b[0mloss\u001b[0m \u001b[0;32mfor\u001b[0m \u001b[0mloss\u001b[0m \u001b[0;32min\u001b[0m \u001b[0mloss_dict\u001b[0m\u001b[0;34m.\u001b[0m\u001b[0mvalues\u001b[0m\u001b[0;34m(\u001b[0m\u001b[0;34m)\u001b[0m\u001b[0;34m)\u001b[0m\u001b[0;34m\u001b[0m\u001b[0;34m\u001b[0m\u001b[0m\n",
            "\u001b[0;32m/usr/local/lib/python3.7/dist-packages/torch/nn/modules/module.py\u001b[0m in \u001b[0;36m_call_impl\u001b[0;34m(self, *input, **kwargs)\u001b[0m\n\u001b[1;32m   1100\u001b[0m         if not (self._backward_hooks or self._forward_hooks or self._forward_pre_hooks or _global_backward_hooks\n\u001b[1;32m   1101\u001b[0m                 or _global_forward_hooks or _global_forward_pre_hooks):\n\u001b[0;32m-> 1102\u001b[0;31m             \u001b[0;32mreturn\u001b[0m \u001b[0mforward_call\u001b[0m\u001b[0;34m(\u001b[0m\u001b[0;34m*\u001b[0m\u001b[0minput\u001b[0m\u001b[0;34m,\u001b[0m \u001b[0;34m**\u001b[0m\u001b[0mkwargs\u001b[0m\u001b[0;34m)\u001b[0m\u001b[0;34m\u001b[0m\u001b[0;34m\u001b[0m\u001b[0m\n\u001b[0m\u001b[1;32m   1103\u001b[0m         \u001b[0;31m# Do not call functions when jit is used\u001b[0m\u001b[0;34m\u001b[0m\u001b[0;34m\u001b[0m\u001b[0;34m\u001b[0m\u001b[0m\n\u001b[1;32m   1104\u001b[0m         \u001b[0mfull_backward_hooks\u001b[0m\u001b[0;34m,\u001b[0m \u001b[0mnon_full_backward_hooks\u001b[0m \u001b[0;34m=\u001b[0m \u001b[0;34m[\u001b[0m\u001b[0;34m]\u001b[0m\u001b[0;34m,\u001b[0m \u001b[0;34m[\u001b[0m\u001b[0;34m]\u001b[0m\u001b[0;34m\u001b[0m\u001b[0;34m\u001b[0m\u001b[0m\n",
            "\u001b[0;32m/usr/local/lib/python3.7/dist-packages/torchvision/models/detection/generalized_rcnn.py\u001b[0m in \u001b[0;36mforward\u001b[0;34m(self, images, targets)\u001b[0m\n\u001b[1;32m     95\u001b[0m             \u001b[0mfeatures\u001b[0m \u001b[0;34m=\u001b[0m \u001b[0mOrderedDict\u001b[0m\u001b[0;34m(\u001b[0m\u001b[0;34m[\u001b[0m\u001b[0;34m(\u001b[0m\u001b[0;34m'0'\u001b[0m\u001b[0;34m,\u001b[0m \u001b[0mfeatures\u001b[0m\u001b[0;34m)\u001b[0m\u001b[0;34m]\u001b[0m\u001b[0;34m)\u001b[0m\u001b[0;34m\u001b[0m\u001b[0;34m\u001b[0m\u001b[0m\n\u001b[1;32m     96\u001b[0m         \u001b[0mproposals\u001b[0m\u001b[0;34m,\u001b[0m \u001b[0mproposal_losses\u001b[0m \u001b[0;34m=\u001b[0m \u001b[0mself\u001b[0m\u001b[0;34m.\u001b[0m\u001b[0mrpn\u001b[0m\u001b[0;34m(\u001b[0m\u001b[0mimages\u001b[0m\u001b[0;34m,\u001b[0m \u001b[0mfeatures\u001b[0m\u001b[0;34m,\u001b[0m \u001b[0mtargets\u001b[0m\u001b[0;34m)\u001b[0m\u001b[0;34m\u001b[0m\u001b[0;34m\u001b[0m\u001b[0m\n\u001b[0;32m---> 97\u001b[0;31m         \u001b[0mdetections\u001b[0m\u001b[0;34m,\u001b[0m \u001b[0mdetector_losses\u001b[0m \u001b[0;34m=\u001b[0m \u001b[0mself\u001b[0m\u001b[0;34m.\u001b[0m\u001b[0mroi_heads\u001b[0m\u001b[0;34m(\u001b[0m\u001b[0mfeatures\u001b[0m\u001b[0;34m,\u001b[0m \u001b[0mproposals\u001b[0m\u001b[0;34m,\u001b[0m \u001b[0mimages\u001b[0m\u001b[0;34m.\u001b[0m\u001b[0mimage_sizes\u001b[0m\u001b[0;34m,\u001b[0m \u001b[0mtargets\u001b[0m\u001b[0;34m)\u001b[0m\u001b[0;34m\u001b[0m\u001b[0;34m\u001b[0m\u001b[0m\n\u001b[0m\u001b[1;32m     98\u001b[0m         \u001b[0mdetections\u001b[0m \u001b[0;34m=\u001b[0m \u001b[0mself\u001b[0m\u001b[0;34m.\u001b[0m\u001b[0mtransform\u001b[0m\u001b[0;34m.\u001b[0m\u001b[0mpostprocess\u001b[0m\u001b[0;34m(\u001b[0m\u001b[0mdetections\u001b[0m\u001b[0;34m,\u001b[0m \u001b[0mimages\u001b[0m\u001b[0;34m.\u001b[0m\u001b[0mimage_sizes\u001b[0m\u001b[0;34m,\u001b[0m \u001b[0moriginal_image_sizes\u001b[0m\u001b[0;34m)\u001b[0m\u001b[0;34m\u001b[0m\u001b[0;34m\u001b[0m\u001b[0m\n\u001b[1;32m     99\u001b[0m \u001b[0;34m\u001b[0m\u001b[0m\n",
            "\u001b[0;32m/usr/local/lib/python3.7/dist-packages/torch/nn/modules/module.py\u001b[0m in \u001b[0;36m_call_impl\u001b[0;34m(self, *input, **kwargs)\u001b[0m\n\u001b[1;32m   1100\u001b[0m         if not (self._backward_hooks or self._forward_hooks or self._forward_pre_hooks or _global_backward_hooks\n\u001b[1;32m   1101\u001b[0m                 or _global_forward_hooks or _global_forward_pre_hooks):\n\u001b[0;32m-> 1102\u001b[0;31m             \u001b[0;32mreturn\u001b[0m \u001b[0mforward_call\u001b[0m\u001b[0;34m(\u001b[0m\u001b[0;34m*\u001b[0m\u001b[0minput\u001b[0m\u001b[0;34m,\u001b[0m \u001b[0;34m**\u001b[0m\u001b[0mkwargs\u001b[0m\u001b[0;34m)\u001b[0m\u001b[0;34m\u001b[0m\u001b[0;34m\u001b[0m\u001b[0m\n\u001b[0m\u001b[1;32m   1103\u001b[0m         \u001b[0;31m# Do not call functions when jit is used\u001b[0m\u001b[0;34m\u001b[0m\u001b[0;34m\u001b[0m\u001b[0;34m\u001b[0m\u001b[0m\n\u001b[1;32m   1104\u001b[0m         \u001b[0mfull_backward_hooks\u001b[0m\u001b[0;34m,\u001b[0m \u001b[0mnon_full_backward_hooks\u001b[0m \u001b[0;34m=\u001b[0m \u001b[0;34m[\u001b[0m\u001b[0;34m]\u001b[0m\u001b[0;34m,\u001b[0m \u001b[0;34m[\u001b[0m\u001b[0;34m]\u001b[0m\u001b[0;34m\u001b[0m\u001b[0;34m\u001b[0m\u001b[0m\n",
            "\u001b[0;32m/usr/local/lib/python3.7/dist-packages/torchvision/models/detection/roi_heads.py\u001b[0m in \u001b[0;36mforward\u001b[0;34m(self, features, proposals, image_shapes, targets)\u001b[0m\n\u001b[1;32m    751\u001b[0m \u001b[0;34m\u001b[0m\u001b[0m\n\u001b[1;32m    752\u001b[0m         \u001b[0mbox_features\u001b[0m \u001b[0;34m=\u001b[0m \u001b[0mself\u001b[0m\u001b[0;34m.\u001b[0m\u001b[0mbox_roi_pool\u001b[0m\u001b[0;34m(\u001b[0m\u001b[0mfeatures\u001b[0m\u001b[0;34m,\u001b[0m \u001b[0mproposals\u001b[0m\u001b[0;34m,\u001b[0m \u001b[0mimage_shapes\u001b[0m\u001b[0;34m)\u001b[0m\u001b[0;34m\u001b[0m\u001b[0;34m\u001b[0m\u001b[0m\n\u001b[0;32m--> 753\u001b[0;31m         \u001b[0mbox_features\u001b[0m \u001b[0;34m=\u001b[0m \u001b[0mself\u001b[0m\u001b[0;34m.\u001b[0m\u001b[0mbox_head\u001b[0m\u001b[0;34m(\u001b[0m\u001b[0mbox_features\u001b[0m\u001b[0;34m)\u001b[0m\u001b[0;34m\u001b[0m\u001b[0;34m\u001b[0m\u001b[0m\n\u001b[0m\u001b[1;32m    754\u001b[0m         \u001b[0mclass_logits\u001b[0m\u001b[0;34m,\u001b[0m \u001b[0mbox_regression\u001b[0m \u001b[0;34m=\u001b[0m \u001b[0mself\u001b[0m\u001b[0;34m.\u001b[0m\u001b[0mbox_predictor\u001b[0m\u001b[0;34m(\u001b[0m\u001b[0mbox_features\u001b[0m\u001b[0;34m)\u001b[0m\u001b[0;34m\u001b[0m\u001b[0;34m\u001b[0m\u001b[0m\n\u001b[1;32m    755\u001b[0m \u001b[0;34m\u001b[0m\u001b[0m\n",
            "\u001b[0;32m/usr/local/lib/python3.7/dist-packages/torch/nn/modules/module.py\u001b[0m in \u001b[0;36m_call_impl\u001b[0;34m(self, *input, **kwargs)\u001b[0m\n\u001b[1;32m   1100\u001b[0m         if not (self._backward_hooks or self._forward_hooks or self._forward_pre_hooks or _global_backward_hooks\n\u001b[1;32m   1101\u001b[0m                 or _global_forward_hooks or _global_forward_pre_hooks):\n\u001b[0;32m-> 1102\u001b[0;31m             \u001b[0;32mreturn\u001b[0m \u001b[0mforward_call\u001b[0m\u001b[0;34m(\u001b[0m\u001b[0;34m*\u001b[0m\u001b[0minput\u001b[0m\u001b[0;34m,\u001b[0m \u001b[0;34m**\u001b[0m\u001b[0mkwargs\u001b[0m\u001b[0;34m)\u001b[0m\u001b[0;34m\u001b[0m\u001b[0;34m\u001b[0m\u001b[0m\n\u001b[0m\u001b[1;32m   1103\u001b[0m         \u001b[0;31m# Do not call functions when jit is used\u001b[0m\u001b[0;34m\u001b[0m\u001b[0;34m\u001b[0m\u001b[0;34m\u001b[0m\u001b[0m\n\u001b[1;32m   1104\u001b[0m         \u001b[0mfull_backward_hooks\u001b[0m\u001b[0;34m,\u001b[0m \u001b[0mnon_full_backward_hooks\u001b[0m \u001b[0;34m=\u001b[0m \u001b[0;34m[\u001b[0m\u001b[0;34m]\u001b[0m\u001b[0;34m,\u001b[0m \u001b[0;34m[\u001b[0m\u001b[0;34m]\u001b[0m\u001b[0;34m\u001b[0m\u001b[0;34m\u001b[0m\u001b[0m\n",
            "\u001b[0;32m<ipython-input-20-f3ccc4bd7d50>\u001b[0m in \u001b[0;36mforward\u001b[0;34m(self, x)\u001b[0m\n\u001b[1;32m     12\u001b[0m     \u001b[0mB\u001b[0m \u001b[0;34m=\u001b[0m \u001b[0mlen\u001b[0m\u001b[0;34m(\u001b[0m\u001b[0mcached\u001b[0m\u001b[0;34m[\u001b[0m\u001b[0;34m'boxes'\u001b[0m\u001b[0;34m]\u001b[0m\u001b[0;34m)\u001b[0m\u001b[0;34m\u001b[0m\u001b[0;34m\u001b[0m\u001b[0m\n\u001b[1;32m     13\u001b[0m     \u001b[0mgraph\u001b[0m \u001b[0;34m=\u001b[0m \u001b[0mself\u001b[0m\u001b[0;34m.\u001b[0m\u001b[0mgator_graph\u001b[0m\u001b[0;34m(\u001b[0m\u001b[0mnode_features\u001b[0m\u001b[0;34m.\u001b[0m\u001b[0mview\u001b[0m\u001b[0;34m(\u001b[0m\u001b[0mB\u001b[0m\u001b[0;34m,\u001b[0m\u001b[0;34m-\u001b[0m\u001b[0;36m1\u001b[0m\u001b[0;34m,\u001b[0m \u001b[0mnode_features\u001b[0m\u001b[0;34m.\u001b[0m\u001b[0mshape\u001b[0m\u001b[0;34m[\u001b[0m\u001b[0;36m1\u001b[0m\u001b[0;34m]\u001b[0m\u001b[0;34m)\u001b[0m\u001b[0;34m,\u001b[0m \u001b[0mcached\u001b[0m\u001b[0;34m[\u001b[0m\u001b[0;34m'boxes'\u001b[0m\u001b[0;34m]\u001b[0m\u001b[0;34m,\u001b[0m \u001b[0mcached\u001b[0m\u001b[0;34m[\u001b[0m\u001b[0;34m'image_shapes'\u001b[0m\u001b[0;34m]\u001b[0m\u001b[0;34m)\u001b[0m\u001b[0;34m\u001b[0m\u001b[0;34m\u001b[0m\u001b[0m\n\u001b[0;32m---> 14\u001b[0;31m     \u001b[0mret_val\u001b[0m \u001b[0;34m=\u001b[0m \u001b[0mself\u001b[0m\u001b[0;34m.\u001b[0m\u001b[0mgator\u001b[0m\u001b[0;34m(\u001b[0m\u001b[0mgraph\u001b[0m\u001b[0;34m)\u001b[0m\u001b[0;34m\u001b[0m\u001b[0;34m\u001b[0m\u001b[0m\n\u001b[0m\u001b[1;32m     15\u001b[0m     \u001b[0;31m# print(f\"TwoMLPHeadWrapper: Evo me\")\u001b[0m\u001b[0;34m\u001b[0m\u001b[0;34m\u001b[0m\u001b[0;34m\u001b[0m\u001b[0m\n\u001b[1;32m     16\u001b[0m     \u001b[0;32mreturn\u001b[0m \u001b[0mret_val\u001b[0m\u001b[0;34m\u001b[0m\u001b[0;34m\u001b[0m\u001b[0m\n",
            "\u001b[0;32m/usr/local/lib/python3.7/dist-packages/torch/nn/modules/module.py\u001b[0m in \u001b[0;36m_call_impl\u001b[0;34m(self, *input, **kwargs)\u001b[0m\n\u001b[1;32m   1100\u001b[0m         if not (self._backward_hooks or self._forward_hooks or self._forward_pre_hooks or _global_backward_hooks\n\u001b[1;32m   1101\u001b[0m                 or _global_forward_hooks or _global_forward_pre_hooks):\n\u001b[0;32m-> 1102\u001b[0;31m             \u001b[0;32mreturn\u001b[0m \u001b[0mforward_call\u001b[0m\u001b[0;34m(\u001b[0m\u001b[0;34m*\u001b[0m\u001b[0minput\u001b[0m\u001b[0;34m,\u001b[0m \u001b[0;34m**\u001b[0m\u001b[0mkwargs\u001b[0m\u001b[0;34m)\u001b[0m\u001b[0;34m\u001b[0m\u001b[0;34m\u001b[0m\u001b[0m\n\u001b[0m\u001b[1;32m   1103\u001b[0m         \u001b[0;31m# Do not call functions when jit is used\u001b[0m\u001b[0;34m\u001b[0m\u001b[0;34m\u001b[0m\u001b[0;34m\u001b[0m\u001b[0m\n\u001b[1;32m   1104\u001b[0m         \u001b[0mfull_backward_hooks\u001b[0m\u001b[0;34m,\u001b[0m \u001b[0mnon_full_backward_hooks\u001b[0m \u001b[0;34m=\u001b[0m \u001b[0;34m[\u001b[0m\u001b[0;34m]\u001b[0m\u001b[0;34m,\u001b[0m \u001b[0;34m[\u001b[0m\u001b[0;34m]\u001b[0m\u001b[0;34m\u001b[0m\u001b[0;34m\u001b[0m\u001b[0m\n",
            "\u001b[0;32m<ipython-input-18-e0a353cdd418>\u001b[0m in \u001b[0;36mforward\u001b[0;34m(self, data)\u001b[0m\n\u001b[1;32m     21\u001b[0m       \u001b[0;31m# print(f\"GATor current layer index: {i}\")\u001b[0m\u001b[0;34m\u001b[0m\u001b[0;34m\u001b[0m\u001b[0;34m\u001b[0m\u001b[0m\n\u001b[1;32m     22\u001b[0m       \u001b[0;31m# print(f\"GATor current x shape: {x.shape}\")\u001b[0m\u001b[0;34m\u001b[0m\u001b[0;34m\u001b[0m\u001b[0;34m\u001b[0m\u001b[0m\n\u001b[0;32m---> 23\u001b[0;31m       \u001b[0mx\u001b[0m \u001b[0;34m=\u001b[0m \u001b[0mself\u001b[0m\u001b[0;34m.\u001b[0m\u001b[0mconvs\u001b[0m\u001b[0;34m[\u001b[0m\u001b[0mi\u001b[0m\u001b[0;34m]\u001b[0m\u001b[0;34m(\u001b[0m\u001b[0mx\u001b[0m\u001b[0;34m,\u001b[0m \u001b[0medge_index\u001b[0m\u001b[0;34m)\u001b[0m\u001b[0;34m\u001b[0m\u001b[0;34m\u001b[0m\u001b[0m\n\u001b[0m\u001b[1;32m     24\u001b[0m       \u001b[0mx\u001b[0m \u001b[0;34m=\u001b[0m \u001b[0mF\u001b[0m\u001b[0;34m.\u001b[0m\u001b[0mrelu\u001b[0m\u001b[0;34m(\u001b[0m\u001b[0mx\u001b[0m\u001b[0;34m)\u001b[0m\u001b[0;34m\u001b[0m\u001b[0;34m\u001b[0m\u001b[0m\n\u001b[1;32m     25\u001b[0m       \u001b[0mx\u001b[0m \u001b[0;34m=\u001b[0m \u001b[0mF\u001b[0m\u001b[0;34m.\u001b[0m\u001b[0mdropout\u001b[0m\u001b[0;34m(\u001b[0m\u001b[0mx\u001b[0m\u001b[0;34m,\u001b[0m \u001b[0mp\u001b[0m\u001b[0;34m=\u001b[0m\u001b[0mself\u001b[0m\u001b[0;34m.\u001b[0m\u001b[0mdropout\u001b[0m\u001b[0;34m,\u001b[0m \u001b[0mtraining\u001b[0m\u001b[0;34m=\u001b[0m\u001b[0mself\u001b[0m\u001b[0;34m.\u001b[0m\u001b[0mtraining\u001b[0m\u001b[0;34m)\u001b[0m\u001b[0;34m\u001b[0m\u001b[0;34m\u001b[0m\u001b[0m\n",
            "\u001b[0;32m/usr/local/lib/python3.7/dist-packages/torch/nn/modules/module.py\u001b[0m in \u001b[0;36m_call_impl\u001b[0;34m(self, *input, **kwargs)\u001b[0m\n\u001b[1;32m   1100\u001b[0m         if not (self._backward_hooks or self._forward_hooks or self._forward_pre_hooks or _global_backward_hooks\n\u001b[1;32m   1101\u001b[0m                 or _global_forward_hooks or _global_forward_pre_hooks):\n\u001b[0;32m-> 1102\u001b[0;31m             \u001b[0;32mreturn\u001b[0m \u001b[0mforward_call\u001b[0m\u001b[0;34m(\u001b[0m\u001b[0;34m*\u001b[0m\u001b[0minput\u001b[0m\u001b[0;34m,\u001b[0m \u001b[0;34m**\u001b[0m\u001b[0mkwargs\u001b[0m\u001b[0;34m)\u001b[0m\u001b[0;34m\u001b[0m\u001b[0;34m\u001b[0m\u001b[0m\n\u001b[0m\u001b[1;32m   1103\u001b[0m         \u001b[0;31m# Do not call functions when jit is used\u001b[0m\u001b[0;34m\u001b[0m\u001b[0;34m\u001b[0m\u001b[0;34m\u001b[0m\u001b[0m\n\u001b[1;32m   1104\u001b[0m         \u001b[0mfull_backward_hooks\u001b[0m\u001b[0;34m,\u001b[0m \u001b[0mnon_full_backward_hooks\u001b[0m \u001b[0;34m=\u001b[0m \u001b[0;34m[\u001b[0m\u001b[0;34m]\u001b[0m\u001b[0;34m,\u001b[0m \u001b[0;34m[\u001b[0m\u001b[0;34m]\u001b[0m\u001b[0;34m\u001b[0m\u001b[0;34m\u001b[0m\u001b[0m\n",
            "\u001b[0;32m/usr/local/lib/python3.7/dist-packages/torch_geometric/nn/conv/gatv2_conv.py\u001b[0m in \u001b[0;36mforward\u001b[0;34m(self, x, edge_index, edge_attr, return_attention_weights)\u001b[0m\n\u001b[1;32m    219\u001b[0m         \u001b[0;31m# propagate_type: (x: PairTensor, edge_attr: OptTensor)\u001b[0m\u001b[0;34m\u001b[0m\u001b[0;34m\u001b[0m\u001b[0;34m\u001b[0m\u001b[0m\n\u001b[1;32m    220\u001b[0m         out = self.propagate(edge_index, x=(x_l, x_r), edge_attr=edge_attr,\n\u001b[0;32m--> 221\u001b[0;31m                              size=None)\n\u001b[0m\u001b[1;32m    222\u001b[0m \u001b[0;34m\u001b[0m\u001b[0m\n\u001b[1;32m    223\u001b[0m         \u001b[0malpha\u001b[0m \u001b[0;34m=\u001b[0m \u001b[0mself\u001b[0m\u001b[0;34m.\u001b[0m\u001b[0m_alpha\u001b[0m\u001b[0;34m\u001b[0m\u001b[0;34m\u001b[0m\u001b[0m\n",
            "\u001b[0;32m/usr/local/lib/python3.7/dist-packages/torch_geometric/nn/conv/message_passing.py\u001b[0m in \u001b[0;36mpropagate\u001b[0;34m(self, edge_index, size, **kwargs)\u001b[0m\n\u001b[1;32m    315\u001b[0m                     \u001b[0;32mif\u001b[0m \u001b[0mres\u001b[0m \u001b[0;32mis\u001b[0m \u001b[0;32mnot\u001b[0m \u001b[0;32mNone\u001b[0m\u001b[0;34m:\u001b[0m\u001b[0;34m\u001b[0m\u001b[0;34m\u001b[0m\u001b[0m\n\u001b[1;32m    316\u001b[0m                         \u001b[0mmsg_kwargs\u001b[0m \u001b[0;34m=\u001b[0m \u001b[0mres\u001b[0m\u001b[0;34m[\u001b[0m\u001b[0;36m0\u001b[0m\u001b[0;34m]\u001b[0m \u001b[0;32mif\u001b[0m \u001b[0misinstance\u001b[0m\u001b[0;34m(\u001b[0m\u001b[0mres\u001b[0m\u001b[0;34m,\u001b[0m \u001b[0mtuple\u001b[0m\u001b[0;34m)\u001b[0m \u001b[0;32melse\u001b[0m \u001b[0mres\u001b[0m\u001b[0;34m\u001b[0m\u001b[0;34m\u001b[0m\u001b[0m\n\u001b[0;32m--> 317\u001b[0;31m                 \u001b[0mout\u001b[0m \u001b[0;34m=\u001b[0m \u001b[0mself\u001b[0m\u001b[0;34m.\u001b[0m\u001b[0mmessage\u001b[0m\u001b[0;34m(\u001b[0m\u001b[0;34m**\u001b[0m\u001b[0mmsg_kwargs\u001b[0m\u001b[0;34m)\u001b[0m\u001b[0;34m\u001b[0m\u001b[0;34m\u001b[0m\u001b[0m\n\u001b[0m\u001b[1;32m    318\u001b[0m                 \u001b[0;32mfor\u001b[0m \u001b[0mhook\u001b[0m \u001b[0;32min\u001b[0m \u001b[0mself\u001b[0m\u001b[0;34m.\u001b[0m\u001b[0m_message_forward_hooks\u001b[0m\u001b[0;34m.\u001b[0m\u001b[0mvalues\u001b[0m\u001b[0;34m(\u001b[0m\u001b[0;34m)\u001b[0m\u001b[0;34m:\u001b[0m\u001b[0;34m\u001b[0m\u001b[0;34m\u001b[0m\u001b[0m\n\u001b[1;32m    319\u001b[0m                     \u001b[0mres\u001b[0m \u001b[0;34m=\u001b[0m \u001b[0mhook\u001b[0m\u001b[0;34m(\u001b[0m\u001b[0mself\u001b[0m\u001b[0;34m,\u001b[0m \u001b[0;34m(\u001b[0m\u001b[0mmsg_kwargs\u001b[0m\u001b[0;34m,\u001b[0m \u001b[0;34m)\u001b[0m\u001b[0;34m,\u001b[0m \u001b[0mout\u001b[0m\u001b[0;34m)\u001b[0m\u001b[0;34m\u001b[0m\u001b[0;34m\u001b[0m\u001b[0m\n",
            "\u001b[0;32m/usr/local/lib/python3.7/dist-packages/torch_geometric/nn/conv/gatv2_conv.py\u001b[0m in \u001b[0;36mmessage\u001b[0;34m(self, x_j, x_i, edge_attr, index, ptr, size_i)\u001b[0m\n\u001b[1;32m    255\u001b[0m \u001b[0;34m\u001b[0m\u001b[0m\n\u001b[1;32m    256\u001b[0m         \u001b[0mx\u001b[0m \u001b[0;34m=\u001b[0m \u001b[0mF\u001b[0m\u001b[0;34m.\u001b[0m\u001b[0mleaky_relu\u001b[0m\u001b[0;34m(\u001b[0m\u001b[0mx\u001b[0m\u001b[0;34m,\u001b[0m \u001b[0mself\u001b[0m\u001b[0;34m.\u001b[0m\u001b[0mnegative_slope\u001b[0m\u001b[0;34m)\u001b[0m\u001b[0;34m\u001b[0m\u001b[0;34m\u001b[0m\u001b[0m\n\u001b[0;32m--> 257\u001b[0;31m         \u001b[0malpha\u001b[0m \u001b[0;34m=\u001b[0m \u001b[0;34m(\u001b[0m\u001b[0mx\u001b[0m \u001b[0;34m*\u001b[0m \u001b[0mself\u001b[0m\u001b[0;34m.\u001b[0m\u001b[0matt\u001b[0m\u001b[0;34m)\u001b[0m\u001b[0;34m.\u001b[0m\u001b[0msum\u001b[0m\u001b[0;34m(\u001b[0m\u001b[0mdim\u001b[0m\u001b[0;34m=\u001b[0m\u001b[0;34m-\u001b[0m\u001b[0;36m1\u001b[0m\u001b[0;34m)\u001b[0m\u001b[0;34m\u001b[0m\u001b[0;34m\u001b[0m\u001b[0m\n\u001b[0m\u001b[1;32m    258\u001b[0m         \u001b[0malpha\u001b[0m \u001b[0;34m=\u001b[0m \u001b[0msoftmax\u001b[0m\u001b[0;34m(\u001b[0m\u001b[0malpha\u001b[0m\u001b[0;34m,\u001b[0m \u001b[0mindex\u001b[0m\u001b[0;34m,\u001b[0m \u001b[0mptr\u001b[0m\u001b[0;34m,\u001b[0m \u001b[0msize_i\u001b[0m\u001b[0;34m)\u001b[0m\u001b[0;34m\u001b[0m\u001b[0;34m\u001b[0m\u001b[0m\n\u001b[1;32m    259\u001b[0m         \u001b[0mself\u001b[0m\u001b[0;34m.\u001b[0m\u001b[0m_alpha\u001b[0m \u001b[0;34m=\u001b[0m \u001b[0malpha\u001b[0m\u001b[0;34m\u001b[0m\u001b[0;34m\u001b[0m\u001b[0m\n",
            "\u001b[0;31mRuntimeError\u001b[0m: CUDA out of memory. Tried to allocate 1.52 GiB (GPU 0; 11.17 GiB total capacity; 9.05 GiB already allocated; 957.81 MiB free; 9.69 GiB reserved in total by PyTorch) If reserved memory is >> allocated memory try setting max_split_size_mb to avoid fragmentation.  See documentation for Memory Management and PYTORCH_CUDA_ALLOC_CONF"
          ]
        }
      ]
    },
    {
      "cell_type": "code",
      "source": [
        "model.load_state_dict(torch.load('models/faster-rcnn-gator-epochs-0.pt'))"
      ],
      "metadata": {
        "colab": {
          "base_uri": "https://localhost:8080/",
          "height": 311
        },
        "id": "bsPPUvhFHSlm",
        "outputId": "6cbef455-f506-4278-a25b-d56009788e7f"
      },
      "execution_count": 35,
      "outputs": [
        {
          "output_type": "error",
          "ename": "FileNotFoundError",
          "evalue": "ignored",
          "traceback": [
            "\u001b[0;31m---------------------------------------------------------------------------\u001b[0m",
            "\u001b[0;31mFileNotFoundError\u001b[0m                         Traceback (most recent call last)",
            "\u001b[0;32m<ipython-input-35-42ba084691de>\u001b[0m in \u001b[0;36m<module>\u001b[0;34m()\u001b[0m\n\u001b[0;32m----> 1\u001b[0;31m \u001b[0mmodel\u001b[0m\u001b[0;34m.\u001b[0m\u001b[0mload_state_dict\u001b[0m\u001b[0;34m(\u001b[0m\u001b[0mtorch\u001b[0m\u001b[0;34m.\u001b[0m\u001b[0mload\u001b[0m\u001b[0;34m(\u001b[0m\u001b[0;34m'models/faster-rcnn-gator-epochs-0.pt'\u001b[0m\u001b[0;34m)\u001b[0m\u001b[0;34m)\u001b[0m\u001b[0;34m\u001b[0m\u001b[0;34m\u001b[0m\u001b[0m\n\u001b[0m",
            "\u001b[0;32m/usr/local/lib/python3.7/dist-packages/torch/serialization.py\u001b[0m in \u001b[0;36mload\u001b[0;34m(f, map_location, pickle_module, **pickle_load_args)\u001b[0m\n\u001b[1;32m    592\u001b[0m         \u001b[0mpickle_load_args\u001b[0m\u001b[0;34m[\u001b[0m\u001b[0;34m'encoding'\u001b[0m\u001b[0;34m]\u001b[0m \u001b[0;34m=\u001b[0m \u001b[0;34m'utf-8'\u001b[0m\u001b[0;34m\u001b[0m\u001b[0;34m\u001b[0m\u001b[0m\n\u001b[1;32m    593\u001b[0m \u001b[0;34m\u001b[0m\u001b[0m\n\u001b[0;32m--> 594\u001b[0;31m     \u001b[0;32mwith\u001b[0m \u001b[0m_open_file_like\u001b[0m\u001b[0;34m(\u001b[0m\u001b[0mf\u001b[0m\u001b[0;34m,\u001b[0m \u001b[0;34m'rb'\u001b[0m\u001b[0;34m)\u001b[0m \u001b[0;32mas\u001b[0m \u001b[0mopened_file\u001b[0m\u001b[0;34m:\u001b[0m\u001b[0;34m\u001b[0m\u001b[0;34m\u001b[0m\u001b[0m\n\u001b[0m\u001b[1;32m    595\u001b[0m         \u001b[0;32mif\u001b[0m \u001b[0m_is_zipfile\u001b[0m\u001b[0;34m(\u001b[0m\u001b[0mopened_file\u001b[0m\u001b[0;34m)\u001b[0m\u001b[0;34m:\u001b[0m\u001b[0;34m\u001b[0m\u001b[0;34m\u001b[0m\u001b[0m\n\u001b[1;32m    596\u001b[0m             \u001b[0;31m# The zipfile reader is going to advance the current file position.\u001b[0m\u001b[0;34m\u001b[0m\u001b[0;34m\u001b[0m\u001b[0;34m\u001b[0m\u001b[0m\n",
            "\u001b[0;32m/usr/local/lib/python3.7/dist-packages/torch/serialization.py\u001b[0m in \u001b[0;36m_open_file_like\u001b[0;34m(name_or_buffer, mode)\u001b[0m\n\u001b[1;32m    228\u001b[0m \u001b[0;32mdef\u001b[0m \u001b[0m_open_file_like\u001b[0m\u001b[0;34m(\u001b[0m\u001b[0mname_or_buffer\u001b[0m\u001b[0;34m,\u001b[0m \u001b[0mmode\u001b[0m\u001b[0;34m)\u001b[0m\u001b[0;34m:\u001b[0m\u001b[0;34m\u001b[0m\u001b[0;34m\u001b[0m\u001b[0m\n\u001b[1;32m    229\u001b[0m     \u001b[0;32mif\u001b[0m \u001b[0m_is_path\u001b[0m\u001b[0;34m(\u001b[0m\u001b[0mname_or_buffer\u001b[0m\u001b[0;34m)\u001b[0m\u001b[0;34m:\u001b[0m\u001b[0;34m\u001b[0m\u001b[0;34m\u001b[0m\u001b[0m\n\u001b[0;32m--> 230\u001b[0;31m         \u001b[0;32mreturn\u001b[0m \u001b[0m_open_file\u001b[0m\u001b[0;34m(\u001b[0m\u001b[0mname_or_buffer\u001b[0m\u001b[0;34m,\u001b[0m \u001b[0mmode\u001b[0m\u001b[0;34m)\u001b[0m\u001b[0;34m\u001b[0m\u001b[0;34m\u001b[0m\u001b[0m\n\u001b[0m\u001b[1;32m    231\u001b[0m     \u001b[0;32melse\u001b[0m\u001b[0;34m:\u001b[0m\u001b[0;34m\u001b[0m\u001b[0;34m\u001b[0m\u001b[0m\n\u001b[1;32m    232\u001b[0m         \u001b[0;32mif\u001b[0m \u001b[0;34m'w'\u001b[0m \u001b[0;32min\u001b[0m \u001b[0mmode\u001b[0m\u001b[0;34m:\u001b[0m\u001b[0;34m\u001b[0m\u001b[0;34m\u001b[0m\u001b[0m\n",
            "\u001b[0;32m/usr/local/lib/python3.7/dist-packages/torch/serialization.py\u001b[0m in \u001b[0;36m__init__\u001b[0;34m(self, name, mode)\u001b[0m\n\u001b[1;32m    209\u001b[0m \u001b[0;32mclass\u001b[0m \u001b[0m_open_file\u001b[0m\u001b[0;34m(\u001b[0m\u001b[0m_opener\u001b[0m\u001b[0;34m)\u001b[0m\u001b[0;34m:\u001b[0m\u001b[0;34m\u001b[0m\u001b[0;34m\u001b[0m\u001b[0m\n\u001b[1;32m    210\u001b[0m     \u001b[0;32mdef\u001b[0m \u001b[0m__init__\u001b[0m\u001b[0;34m(\u001b[0m\u001b[0mself\u001b[0m\u001b[0;34m,\u001b[0m \u001b[0mname\u001b[0m\u001b[0;34m,\u001b[0m \u001b[0mmode\u001b[0m\u001b[0;34m)\u001b[0m\u001b[0;34m:\u001b[0m\u001b[0;34m\u001b[0m\u001b[0;34m\u001b[0m\u001b[0m\n\u001b[0;32m--> 211\u001b[0;31m         \u001b[0msuper\u001b[0m\u001b[0;34m(\u001b[0m\u001b[0m_open_file\u001b[0m\u001b[0;34m,\u001b[0m \u001b[0mself\u001b[0m\u001b[0;34m)\u001b[0m\u001b[0;34m.\u001b[0m\u001b[0m__init__\u001b[0m\u001b[0;34m(\u001b[0m\u001b[0mopen\u001b[0m\u001b[0;34m(\u001b[0m\u001b[0mname\u001b[0m\u001b[0;34m,\u001b[0m \u001b[0mmode\u001b[0m\u001b[0;34m)\u001b[0m\u001b[0;34m)\u001b[0m\u001b[0;34m\u001b[0m\u001b[0;34m\u001b[0m\u001b[0m\n\u001b[0m\u001b[1;32m    212\u001b[0m \u001b[0;34m\u001b[0m\u001b[0m\n\u001b[1;32m    213\u001b[0m     \u001b[0;32mdef\u001b[0m \u001b[0m__exit__\u001b[0m\u001b[0;34m(\u001b[0m\u001b[0mself\u001b[0m\u001b[0;34m,\u001b[0m \u001b[0;34m*\u001b[0m\u001b[0margs\u001b[0m\u001b[0;34m)\u001b[0m\u001b[0;34m:\u001b[0m\u001b[0;34m\u001b[0m\u001b[0;34m\u001b[0m\u001b[0m\n",
            "\u001b[0;31mFileNotFoundError\u001b[0m: [Errno 2] No such file or directory: 'models/faster-rcnn-gator-epochs-0.pt'"
          ]
        }
      ]
    },
    {
      "cell_type": "code",
      "source": [
        "save_model(model.roi_heads, 'models/gator-roi-heads.pt')"
      ],
      "metadata": {
        "id": "Jv5HViyaIDBs"
      },
      "execution_count": null,
      "outputs": []
    },
    {
      "cell_type": "code",
      "source": [
        "model = build_model()\n",
        "model.to(device)\n",
        "model.roi_heads.load_state_dict(torch.load('models/gator-roi-heads.pt'))"
      ],
      "metadata": {
        "colab": {
          "base_uri": "https://localhost:8080/"
        },
        "id": "1u9jn3COIiON",
        "outputId": "ca673868-1c7b-47e6-c2b5-fc7e53532baf"
      },
      "execution_count": null,
      "outputs": [
        {
          "output_type": "execute_result",
          "data": {
            "text/plain": [
              "<All keys matched successfully>"
            ]
          },
          "metadata": {},
          "execution_count": 66
        }
      ]
    },
    {
      "cell_type": "code",
      "source": [
        "train(model, data_loader_train, data_loader_test, n_epochs=1, save_dir='models')"
      ],
      "metadata": {
        "colab": {
          "base_uri": "https://localhost:8080/"
        },
        "id": "uuIzEZG2aXzc",
        "outputId": "6a0a5036-fa34-414a-bd4b-7081add3cba1"
      },
      "execution_count": null,
      "outputs": [
        {
          "output_type": "stream",
          "name": "stdout",
          "text": [
            "Epoch: [0]  [   0/2250]  eta: 0:59:22  lr: 0.000010  loss: 0.3936 (0.3936)  loss_classifier: 0.1004 (0.1004)  loss_box_reg: 0.2498 (0.2498)  loss_objectness: 0.0062 (0.0062)  loss_rpn_box_reg: 0.0373 (0.0373)  time: 1.5833  data: 0.9062  max mem: 2612\n",
            "Epoch: [0]  [  10/2250]  eta: 0:58:19  lr: 0.000060  loss: 0.8530 (0.8803)  loss_classifier: 0.1935 (0.2170)  loss_box_reg: 0.4508 (0.4214)  loss_objectness: 0.0394 (0.0859)  loss_rpn_box_reg: 0.1216 (0.1560)  time: 1.5622  data: 0.9174  max mem: 2612\n",
            "Epoch: [0]  [  20/2250]  eta: 0:57:44  lr: 0.000110  loss: 0.7744 (0.8178)  loss_classifier: 0.2136 (0.2220)  loss_box_reg: 0.4431 (0.4233)  loss_objectness: 0.0315 (0.0650)  loss_rpn_box_reg: 0.0586 (0.1076)  time: 1.5520  data: 0.9097  max mem: 2612\n",
            "Epoch: [0]  [  30/2250]  eta: 0:57:40  lr: 0.000160  loss: 0.6894 (0.7918)  loss_classifier: 0.2092 (0.2139)  loss_box_reg: 0.3944 (0.4033)  loss_objectness: 0.0315 (0.0685)  loss_rpn_box_reg: 0.0370 (0.1061)  time: 1.5568  data: 0.9133  max mem: 2612\n",
            "Epoch: [0]  [  40/2250]  eta: 0:57:35  lr: 0.000210  loss: 0.6686 (0.7672)  loss_classifier: 0.1756 (0.2072)  loss_box_reg: 0.3781 (0.4025)  loss_objectness: 0.0450 (0.0632)  loss_rpn_box_reg: 0.0399 (0.0943)  time: 1.5745  data: 0.9271  max mem: 2612\n",
            "Epoch: [0]  [  50/2250]  eta: 0:57:21  lr: 0.000260  loss: 0.6357 (0.7558)  loss_classifier: 0.1710 (0.2050)  loss_box_reg: 0.3843 (0.4023)  loss_objectness: 0.0333 (0.0627)  loss_rpn_box_reg: 0.0356 (0.0858)  time: 1.5730  data: 0.9230  max mem: 2612\n",
            "Epoch: [0]  [  60/2250]  eta: 0:57:00  lr: 0.000310  loss: 0.6218 (0.7471)  loss_classifier: 0.1934 (0.2056)  loss_box_reg: 0.3812 (0.3984)  loss_objectness: 0.0331 (0.0621)  loss_rpn_box_reg: 0.0327 (0.0810)  time: 1.5579  data: 0.9088  max mem: 2612\n",
            "Epoch: [0]  [  70/2250]  eta: 0:56:46  lr: 0.000360  loss: 0.7446 (0.7585)  loss_classifier: 0.2309 (0.2108)  loss_box_reg: 0.4154 (0.4057)  loss_objectness: 0.0394 (0.0639)  loss_rpn_box_reg: 0.0350 (0.0781)  time: 1.5578  data: 0.9068  max mem: 2612\n",
            "Epoch: [0]  [  80/2250]  eta: 0:56:30  lr: 0.000410  loss: 0.8083 (0.7676)  loss_classifier: 0.2317 (0.2132)  loss_box_reg: 0.4283 (0.4097)  loss_objectness: 0.0565 (0.0660)  loss_rpn_box_reg: 0.0387 (0.0788)  time: 1.5646  data: 0.9119  max mem: 2612\n",
            "Epoch: [0]  [  90/2250]  eta: 0:56:16  lr: 0.000460  loss: 0.7026 (0.7698)  loss_classifier: 0.1990 (0.2147)  loss_box_reg: 0.4126 (0.4128)  loss_objectness: 0.0564 (0.0669)  loss_rpn_box_reg: 0.0526 (0.0754)  time: 1.5648  data: 0.9127  max mem: 2612\n",
            "Epoch: [0]  [ 100/2250]  eta: 0:55:59  lr: 0.000509  loss: 0.6591 (0.7613)  loss_classifier: 0.1855 (0.2114)  loss_box_reg: 0.3658 (0.4099)  loss_objectness: 0.0408 (0.0669)  loss_rpn_box_reg: 0.0383 (0.0730)  time: 1.5633  data: 0.9110  max mem: 2612\n",
            "Epoch: [0]  [ 110/2250]  eta: 0:55:45  lr: 0.000559  loss: 0.6591 (0.7536)  loss_classifier: 0.1831 (0.2098)  loss_box_reg: 0.3611 (0.4079)  loss_objectness: 0.0297 (0.0652)  loss_rpn_box_reg: 0.0335 (0.0706)  time: 1.5646  data: 0.9120  max mem: 2612\n",
            "Epoch: [0]  [ 120/2250]  eta: 0:55:29  lr: 0.000609  loss: 0.7237 (0.7537)  loss_classifier: 0.2015 (0.2105)  loss_box_reg: 0.3919 (0.4076)  loss_objectness: 0.0329 (0.0651)  loss_rpn_box_reg: 0.0511 (0.0705)  time: 1.5668  data: 0.9130  max mem: 2612\n",
            "Epoch: [0]  [ 130/2250]  eta: 0:55:14  lr: 0.000659  loss: 0.5866 (0.7372)  loss_classifier: 0.1653 (0.2060)  loss_box_reg: 0.3304 (0.4011)  loss_objectness: 0.0414 (0.0628)  loss_rpn_box_reg: 0.0230 (0.0673)  time: 1.5651  data: 0.9043  max mem: 2612\n",
            "Epoch: [0]  [ 140/2250]  eta: 0:55:06  lr: 0.000709  loss: 0.6069 (0.7404)  loss_classifier: 0.1741 (0.2073)  loss_box_reg: 0.3813 (0.4033)  loss_objectness: 0.0386 (0.0616)  loss_rpn_box_reg: 0.0332 (0.0682)  time: 1.5911  data: 0.9159  max mem: 2612\n",
            "Epoch: [0]  [ 150/2250]  eta: 0:54:58  lr: 0.000759  loss: 0.7571 (0.7415)  loss_classifier: 0.2091 (0.2084)  loss_box_reg: 0.4251 (0.4050)  loss_objectness: 0.0383 (0.0613)  loss_rpn_box_reg: 0.0409 (0.0668)  time: 1.6168  data: 0.9298  max mem: 2612\n",
            "Epoch: [0]  [ 160/2250]  eta: 0:54:48  lr: 0.000809  loss: 0.6241 (0.7368)  loss_classifier: 0.1908 (0.2079)  loss_box_reg: 0.3753 (0.4019)  loss_objectness: 0.0278 (0.0608)  loss_rpn_box_reg: 0.0316 (0.0663)  time: 1.6149  data: 0.9186  max mem: 2612\n",
            "Epoch: [0]  [ 170/2250]  eta: 0:54:37  lr: 0.000859  loss: 0.6291 (0.7340)  loss_classifier: 0.1667 (0.2072)  loss_box_reg: 0.3640 (0.4022)  loss_objectness: 0.0227 (0.0592)  loss_rpn_box_reg: 0.0201 (0.0654)  time: 1.6162  data: 0.9074  max mem: 2612\n",
            "Epoch: [0]  [ 180/2250]  eta: 0:54:25  lr: 0.000909  loss: 0.7421 (0.7356)  loss_classifier: 0.2128 (0.2079)  loss_box_reg: 0.4358 (0.4050)  loss_objectness: 0.0313 (0.0584)  loss_rpn_box_reg: 0.0357 (0.0642)  time: 1.6113  data: 0.9091  max mem: 2612\n",
            "Epoch: [0]  [ 190/2250]  eta: 0:54:10  lr: 0.000959  loss: 0.7555 (0.7408)  loss_classifier: 0.2305 (0.2095)  loss_box_reg: 0.4638 (0.4082)  loss_objectness: 0.0426 (0.0588)  loss_rpn_box_reg: 0.0467 (0.0643)  time: 1.5962  data: 0.9149  max mem: 2612\n",
            "Epoch: [0]  [ 200/2250]  eta: 0:53:55  lr: 0.001009  loss: 0.7201 (0.7431)  loss_classifier: 0.2168 (0.2112)  loss_box_reg: 0.4087 (0.4086)  loss_objectness: 0.0452 (0.0592)  loss_rpn_box_reg: 0.0463 (0.0641)  time: 1.5863  data: 0.9155  max mem: 2612\n",
            "Epoch: [0]  [ 210/2250]  eta: 0:53:39  lr: 0.001059  loss: 0.6304 (0.7417)  loss_classifier: 0.2005 (0.2102)  loss_box_reg: 0.3894 (0.4084)  loss_objectness: 0.0315 (0.0596)  loss_rpn_box_reg: 0.0310 (0.0636)  time: 1.5794  data: 0.9110  max mem: 2612\n",
            "Epoch: [0]  [ 220/2250]  eta: 0:53:24  lr: 0.001109  loss: 0.6815 (0.7451)  loss_classifier: 0.2071 (0.2112)  loss_box_reg: 0.4186 (0.4095)  loss_objectness: 0.0538 (0.0604)  loss_rpn_box_reg: 0.0320 (0.0640)  time: 1.5819  data: 0.9105  max mem: 2612\n",
            "Epoch: [0]  [ 230/2250]  eta: 0:53:09  lr: 0.001159  loss: 0.7110 (0.7434)  loss_classifier: 0.2058 (0.2106)  loss_box_reg: 0.4447 (0.4092)  loss_objectness: 0.0538 (0.0598)  loss_rpn_box_reg: 0.0513 (0.0638)  time: 1.5886  data: 0.9143  max mem: 2612\n",
            "Epoch: [0]  [ 240/2250]  eta: 0:52:54  lr: 0.001209  loss: 0.6924 (0.7449)  loss_classifier: 0.1869 (0.2101)  loss_box_reg: 0.3997 (0.4102)  loss_objectness: 0.0431 (0.0606)  loss_rpn_box_reg: 0.0401 (0.0640)  time: 1.5879  data: 0.9170  max mem: 2612\n",
            "Epoch: [0]  [ 250/2250]  eta: 0:52:38  lr: 0.001259  loss: 0.6214 (0.7434)  loss_classifier: 0.1920 (0.2101)  loss_box_reg: 0.3556 (0.4091)  loss_objectness: 0.0474 (0.0604)  loss_rpn_box_reg: 0.0401 (0.0638)  time: 1.5798  data: 0.9126  max mem: 2612\n",
            "Epoch: [0]  [ 260/2250]  eta: 0:52:22  lr: 0.001309  loss: 0.6214 (0.7416)  loss_classifier: 0.1920 (0.2097)  loss_box_reg: 0.3421 (0.4090)  loss_objectness: 0.0334 (0.0599)  loss_rpn_box_reg: 0.0386 (0.0630)  time: 1.5753  data: 0.9103  max mem: 2612\n",
            "Epoch: [0]  [ 270/2250]  eta: 0:52:05  lr: 0.001359  loss: 0.6328 (0.7411)  loss_classifier: 0.1870 (0.2102)  loss_box_reg: 0.3687 (0.4088)  loss_objectness: 0.0338 (0.0595)  loss_rpn_box_reg: 0.0386 (0.0625)  time: 1.5725  data: 0.9095  max mem: 2612\n",
            "Epoch: [0]  [ 280/2250]  eta: 0:51:49  lr: 0.001409  loss: 0.6277 (0.7389)  loss_classifier: 0.1870 (0.2089)  loss_box_reg: 0.3828 (0.4077)  loss_objectness: 0.0351 (0.0598)  loss_rpn_box_reg: 0.0386 (0.0626)  time: 1.5699  data: 0.9076  max mem: 2612\n",
            "Epoch: [0]  [ 290/2250]  eta: 0:51:33  lr: 0.001459  loss: 0.6738 (0.7402)  loss_classifier: 0.1948 (0.2086)  loss_box_reg: 0.3796 (0.4077)  loss_objectness: 0.0570 (0.0613)  loss_rpn_box_reg: 0.0416 (0.0627)  time: 1.5744  data: 0.9116  max mem: 2612\n",
            "Epoch: [0]  [ 300/2250]  eta: 0:51:17  lr: 0.001508  loss: 0.7711 (0.7407)  loss_classifier: 0.2145 (0.2091)  loss_box_reg: 0.3822 (0.4078)  loss_objectness: 0.0647 (0.0611)  loss_rpn_box_reg: 0.0521 (0.0627)  time: 1.5735  data: 0.9107  max mem: 2612\n",
            "Epoch: [0]  [ 310/2250]  eta: 0:51:01  lr: 0.001558  loss: 0.8066 (0.7465)  loss_classifier: 0.2306 (0.2100)  loss_box_reg: 0.4278 (0.4096)  loss_objectness: 0.0696 (0.0632)  loss_rpn_box_reg: 0.0657 (0.0638)  time: 1.5702  data: 0.9088  max mem: 2612\n",
            "Epoch: [0]  [ 320/2250]  eta: 0:50:44  lr: 0.001608  loss: 0.7591 (0.7436)  loss_classifier: 0.2050 (0.2091)  loss_box_reg: 0.4278 (0.4093)  loss_objectness: 0.0498 (0.0625)  loss_rpn_box_reg: 0.0407 (0.0627)  time: 1.5683  data: 0.9072  max mem: 2612\n",
            "Epoch: [0]  [ 330/2250]  eta: 0:50:27  lr: 0.001658  loss: 0.6786 (0.7420)  loss_classifier: 0.1827 (0.2089)  loss_box_reg: 0.3942 (0.4086)  loss_objectness: 0.0225 (0.0622)  loss_rpn_box_reg: 0.0309 (0.0623)  time: 1.5622  data: 0.9014  max mem: 2612\n",
            "Epoch: [0]  [ 340/2250]  eta: 0:50:11  lr: 0.001708  loss: 0.6424 (0.7397)  loss_classifier: 0.1814 (0.2083)  loss_box_reg: 0.3859 (0.4082)  loss_objectness: 0.0348 (0.0615)  loss_rpn_box_reg: 0.0438 (0.0618)  time: 1.5653  data: 0.9047  max mem: 2612\n",
            "Epoch: [0]  [ 350/2250]  eta: 0:49:54  lr: 0.001758  loss: 0.5969 (0.7355)  loss_classifier: 0.1608 (0.2068)  loss_box_reg: 0.3677 (0.4070)  loss_objectness: 0.0348 (0.0605)  loss_rpn_box_reg: 0.0307 (0.0612)  time: 1.5664  data: 0.9057  max mem: 2612\n",
            "Epoch: [0]  [ 360/2250]  eta: 0:49:38  lr: 0.001808  loss: 0.6602 (0.7408)  loss_classifier: 0.1773 (0.2079)  loss_box_reg: 0.3651 (0.4081)  loss_objectness: 0.0390 (0.0617)  loss_rpn_box_reg: 0.0429 (0.0630)  time: 1.5657  data: 0.9033  max mem: 2612\n",
            "Epoch: [0]  [ 370/2250]  eta: 0:49:22  lr: 0.001858  loss: 0.6910 (0.7398)  loss_classifier: 0.1912 (0.2074)  loss_box_reg: 0.4335 (0.4076)  loss_objectness: 0.0508 (0.0613)  loss_rpn_box_reg: 0.0659 (0.0635)  time: 1.5629  data: 0.8999  max mem: 2612\n",
            "Epoch: [0]  [ 380/2250]  eta: 0:49:05  lr: 0.001908  loss: 0.6469 (0.7388)  loss_classifier: 0.1893 (0.2076)  loss_box_reg: 0.3531 (0.4069)  loss_objectness: 0.0324 (0.0609)  loss_rpn_box_reg: 0.0491 (0.0634)  time: 1.5594  data: 0.8979  max mem: 2612\n",
            "Epoch: [0]  [ 390/2250]  eta: 0:48:49  lr: 0.001958  loss: 0.6964 (0.7402)  loss_classifier: 0.1920 (0.2083)  loss_box_reg: 0.3987 (0.4079)  loss_objectness: 0.0554 (0.0609)  loss_rpn_box_reg: 0.0402 (0.0632)  time: 1.5677  data: 0.9057  max mem: 2612\n",
            "Epoch: [0]  [ 400/2250]  eta: 0:48:33  lr: 0.002008  loss: 0.6177 (0.7374)  loss_classifier: 0.1742 (0.2073)  loss_box_reg: 0.3761 (0.4070)  loss_objectness: 0.0433 (0.0607)  loss_rpn_box_reg: 0.0357 (0.0623)  time: 1.5639  data: 0.9016  max mem: 2612\n",
            "Epoch: [0]  [ 410/2250]  eta: 0:48:16  lr: 0.002058  loss: 0.6646 (0.7390)  loss_classifier: 0.1754 (0.2073)  loss_box_reg: 0.3780 (0.4071)  loss_objectness: 0.0349 (0.0611)  loss_rpn_box_reg: 0.0382 (0.0634)  time: 1.5592  data: 0.8974  max mem: 2612\n",
            "Epoch: [0]  [ 420/2250]  eta: 0:48:00  lr: 0.002108  loss: 0.7040 (0.7381)  loss_classifier: 0.1901 (0.2071)  loss_box_reg: 0.3819 (0.4070)  loss_objectness: 0.0349 (0.0609)  loss_rpn_box_reg: 0.0511 (0.0631)  time: 1.5643  data: 0.9027  max mem: 2612\n",
            "Epoch: [0]  [ 430/2250]  eta: 0:47:44  lr: 0.002158  loss: 0.5893 (0.7348)  loss_classifier: 0.1754 (0.2061)  loss_box_reg: 0.3725 (0.4063)  loss_objectness: 0.0276 (0.0601)  loss_rpn_box_reg: 0.0259 (0.0622)  time: 1.5671  data: 0.9045  max mem: 2612\n",
            "Epoch: [0]  [ 440/2250]  eta: 0:47:28  lr: 0.002208  loss: 0.5634 (0.7316)  loss_classifier: 0.1531 (0.2054)  loss_box_reg: 0.3657 (0.4055)  loss_objectness: 0.0161 (0.0593)  loss_rpn_box_reg: 0.0197 (0.0614)  time: 1.5602  data: 0.8987  max mem: 2612\n",
            "Epoch: [0]  [ 450/2250]  eta: 0:47:11  lr: 0.002258  loss: 0.6683 (0.7307)  loss_classifier: 0.1848 (0.2054)  loss_box_reg: 0.4023 (0.4054)  loss_objectness: 0.0279 (0.0589)  loss_rpn_box_reg: 0.0328 (0.0611)  time: 1.5550  data: 0.8944  max mem: 2612\n",
            "Epoch: [0]  [ 460/2250]  eta: 0:46:55  lr: 0.002308  loss: 0.7110 (0.7308)  loss_classifier: 0.2159 (0.2052)  loss_box_reg: 0.3988 (0.4051)  loss_objectness: 0.0409 (0.0595)  loss_rpn_box_reg: 0.0495 (0.0610)  time: 1.5574  data: 0.8965  max mem: 2612\n",
            "Epoch: [0]  [ 470/2250]  eta: 0:46:39  lr: 0.002358  loss: 0.7255 (0.7321)  loss_classifier: 0.2159 (0.2058)  loss_box_reg: 0.4184 (0.4060)  loss_objectness: 0.0512 (0.0594)  loss_rpn_box_reg: 0.0423 (0.0608)  time: 1.5653  data: 0.9050  max mem: 2612\n",
            "Epoch: [0]  [ 480/2250]  eta: 0:46:23  lr: 0.002408  loss: 0.7166 (0.7303)  loss_classifier: 0.1962 (0.2054)  loss_box_reg: 0.3921 (0.4054)  loss_objectness: 0.0273 (0.0589)  loss_rpn_box_reg: 0.0330 (0.0605)  time: 1.5660  data: 0.9047  max mem: 2612\n",
            "Epoch: [0]  [ 490/2250]  eta: 0:46:08  lr: 0.002458  loss: 0.5903 (0.7287)  loss_classifier: 0.1675 (0.2050)  loss_box_reg: 0.3599 (0.4045)  loss_objectness: 0.0308 (0.0590)  loss_rpn_box_reg: 0.0303 (0.0603)  time: 1.5758  data: 0.9083  max mem: 2612\n",
            "Epoch: [0]  [ 500/2250]  eta: 0:45:53  lr: 0.002507  loss: 0.6764 (0.7308)  loss_classifier: 0.1672 (0.2054)  loss_box_reg: 0.3816 (0.4055)  loss_objectness: 0.0380 (0.0594)  loss_rpn_box_reg: 0.0420 (0.0605)  time: 1.5934  data: 0.9147  max mem: 2612\n",
            "Epoch: [0]  [ 510/2250]  eta: 0:45:38  lr: 0.002557  loss: 0.6219 (0.7286)  loss_classifier: 0.1507 (0.2044)  loss_box_reg: 0.3988 (0.4048)  loss_objectness: 0.0443 (0.0593)  loss_rpn_box_reg: 0.0378 (0.0601)  time: 1.5968  data: 0.9059  max mem: 2612\n",
            "Epoch: [0]  [ 520/2250]  eta: 0:45:23  lr: 0.002607  loss: 0.6141 (0.7262)  loss_classifier: 0.1507 (0.2037)  loss_box_reg: 0.3687 (0.4037)  loss_objectness: 0.0263 (0.0591)  loss_rpn_box_reg: 0.0234 (0.0597)  time: 1.6024  data: 0.8993  max mem: 2612\n",
            "Epoch: [0]  [ 530/2250]  eta: 0:45:08  lr: 0.002657  loss: 0.5256 (0.7243)  loss_classifier: 0.1638 (0.2030)  loss_box_reg: 0.3075 (0.4026)  loss_objectness: 0.0284 (0.0591)  loss_rpn_box_reg: 0.0234 (0.0596)  time: 1.6011  data: 0.9000  max mem: 2612\n",
            "Epoch: [0]  [ 540/2250]  eta: 0:44:53  lr: 0.002707  loss: 0.6532 (0.7246)  loss_classifier: 0.1816 (0.2033)  loss_box_reg: 0.3436 (0.4025)  loss_objectness: 0.0380 (0.0593)  loss_rpn_box_reg: 0.0344 (0.0595)  time: 1.5862  data: 0.9027  max mem: 2612\n",
            "Epoch: [0]  [ 550/2250]  eta: 0:44:37  lr: 0.002757  loss: 0.6532 (0.7240)  loss_classifier: 0.1994 (0.2030)  loss_box_reg: 0.3773 (0.4025)  loss_objectness: 0.0243 (0.0591)  loss_rpn_box_reg: 0.0390 (0.0595)  time: 1.5744  data: 0.9025  max mem: 2612\n",
            "Epoch: [0]  [ 560/2250]  eta: 0:44:21  lr: 0.002807  loss: 0.6199 (0.7232)  loss_classifier: 0.1921 (0.2031)  loss_box_reg: 0.3756 (0.4023)  loss_objectness: 0.0243 (0.0588)  loss_rpn_box_reg: 0.0359 (0.0590)  time: 1.5741  data: 0.9029  max mem: 2612\n",
            "Epoch: [0]  [ 570/2250]  eta: 0:44:05  lr: 0.002857  loss: 0.5868 (0.7219)  loss_classifier: 0.1921 (0.2027)  loss_box_reg: 0.3723 (0.4023)  loss_objectness: 0.0290 (0.0584)  loss_rpn_box_reg: 0.0328 (0.0586)  time: 1.5729  data: 0.9008  max mem: 2612\n",
            "Epoch: [0]  [ 580/2250]  eta: 0:43:50  lr: 0.002907  loss: 0.7038 (0.7233)  loss_classifier: 0.2110 (0.2031)  loss_box_reg: 0.4274 (0.4026)  loss_objectness: 0.0290 (0.0583)  loss_rpn_box_reg: 0.0407 (0.0593)  time: 1.5739  data: 0.9001  max mem: 2612\n",
            "Epoch: [0]  [ 590/2250]  eta: 0:43:34  lr: 0.002957  loss: 0.8363 (0.7251)  loss_classifier: 0.2249 (0.2036)  loss_box_reg: 0.4219 (0.4032)  loss_objectness: 0.0468 (0.0586)  loss_rpn_box_reg: 0.0502 (0.0597)  time: 1.5768  data: 0.9053  max mem: 2612\n",
            "Epoch: [0]  [ 600/2250]  eta: 0:43:18  lr: 0.003007  loss: 0.6936 (0.7237)  loss_classifier: 0.2110 (0.2032)  loss_box_reg: 0.4112 (0.4030)  loss_objectness: 0.0300 (0.0582)  loss_rpn_box_reg: 0.0352 (0.0593)  time: 1.5712  data: 0.9045  max mem: 2612\n",
            "Epoch: [0]  [ 610/2250]  eta: 0:43:02  lr: 0.003057  loss: 0.6536 (0.7247)  loss_classifier: 0.1809 (0.2032)  loss_box_reg: 0.4031 (0.4037)  loss_objectness: 0.0246 (0.0587)  loss_rpn_box_reg: 0.0319 (0.0592)  time: 1.5674  data: 0.9027  max mem: 2612\n",
            "Epoch: [0]  [ 620/2250]  eta: 0:42:46  lr: 0.003107  loss: 0.6179 (0.7247)  loss_classifier: 0.1905 (0.2033)  loss_box_reg: 0.3804 (0.4037)  loss_objectness: 0.0263 (0.0588)  loss_rpn_box_reg: 0.0319 (0.0589)  time: 1.5695  data: 0.9067  max mem: 2612\n",
            "Epoch: [0]  [ 630/2250]  eta: 0:42:30  lr: 0.003157  loss: 0.6179 (0.7226)  loss_classifier: 0.1905 (0.2030)  loss_box_reg: 0.3728 (0.4026)  loss_objectness: 0.0256 (0.0584)  loss_rpn_box_reg: 0.0312 (0.0586)  time: 1.5629  data: 0.9006  max mem: 2612\n",
            "Epoch: [0]  [ 640/2250]  eta: 0:42:14  lr: 0.003207  loss: 0.6258 (0.7209)  loss_classifier: 0.1786 (0.2024)  loss_box_reg: 0.3520 (0.4022)  loss_objectness: 0.0223 (0.0579)  loss_rpn_box_reg: 0.0275 (0.0584)  time: 1.5523  data: 0.8877  max mem: 2612\n",
            "Epoch: [0]  [ 650/2250]  eta: 0:41:58  lr: 0.003257  loss: 0.5225 (0.7188)  loss_classifier: 0.1410 (0.2019)  loss_box_reg: 0.3114 (0.4013)  loss_objectness: 0.0260 (0.0576)  loss_rpn_box_reg: 0.0224 (0.0580)  time: 1.5589  data: 0.8875  max mem: 2612\n",
            "Epoch: [0]  [ 660/2250]  eta: 0:41:43  lr: 0.003307  loss: 0.5225 (0.7177)  loss_classifier: 0.1318 (0.2014)  loss_box_reg: 0.3328 (0.4007)  loss_objectness: 0.0282 (0.0578)  loss_rpn_box_reg: 0.0241 (0.0578)  time: 1.5951  data: 0.9124  max mem: 2612\n",
            "Epoch: [0]  [ 670/2250]  eta: 0:41:28  lr: 0.003357  loss: 0.6133 (0.7165)  loss_classifier: 0.1618 (0.2012)  loss_box_reg: 0.3490 (0.4003)  loss_objectness: 0.0281 (0.0574)  loss_rpn_box_reg: 0.0257 (0.0574)  time: 1.6122  data: 0.9137  max mem: 2612\n",
            "Epoch: [0]  [ 680/2250]  eta: 0:41:13  lr: 0.003407  loss: 0.6419 (0.7168)  loss_classifier: 0.1775 (0.2011)  loss_box_reg: 0.3757 (0.4003)  loss_objectness: 0.0347 (0.0575)  loss_rpn_box_reg: 0.0405 (0.0578)  time: 1.6160  data: 0.9001  max mem: 2612\n",
            "Epoch: [0]  [ 690/2250]  eta: 0:40:59  lr: 0.003457  loss: 0.6968 (0.7184)  loss_classifier: 0.2066 (0.2016)  loss_box_reg: 0.3937 (0.4010)  loss_objectness: 0.0452 (0.0576)  loss_rpn_box_reg: 0.0597 (0.0581)  time: 1.6226  data: 0.9054  max mem: 2612\n",
            "Epoch: [0]  [ 700/2250]  eta: 0:40:43  lr: 0.003506  loss: 0.6968 (0.7179)  loss_classifier: 0.2032 (0.2014)  loss_box_reg: 0.3779 (0.4004)  loss_objectness: 0.0402 (0.0577)  loss_rpn_box_reg: 0.0614 (0.0584)  time: 1.6030  data: 0.9049  max mem: 2612\n",
            "Epoch: [0]  [ 710/2250]  eta: 0:40:27  lr: 0.003556  loss: 0.6110 (0.7163)  loss_classifier: 0.1667 (0.2008)  loss_box_reg: 0.3208 (0.3997)  loss_objectness: 0.0283 (0.0576)  loss_rpn_box_reg: 0.0277 (0.0581)  time: 1.5792  data: 0.8994  max mem: 2612\n",
            "Epoch: [0]  [ 720/2250]  eta: 0:40:11  lr: 0.003606  loss: 0.5305 (0.7162)  loss_classifier: 0.1667 (0.2008)  loss_box_reg: 0.3109 (0.3997)  loss_objectness: 0.0128 (0.0577)  loss_rpn_box_reg: 0.0260 (0.0580)  time: 1.5682  data: 0.8970  max mem: 2612\n",
            "Epoch: [0]  [ 730/2250]  eta: 0:39:55  lr: 0.003656  loss: 0.6706 (0.7177)  loss_classifier: 0.1876 (0.2010)  loss_box_reg: 0.4110 (0.4003)  loss_objectness: 0.0370 (0.0580)  loss_rpn_box_reg: 0.0527 (0.0584)  time: 1.5713  data: 0.9014  max mem: 2612\n",
            "Epoch: [0]  [ 740/2250]  eta: 0:39:40  lr: 0.003706  loss: 0.7374 (0.7178)  loss_classifier: 0.1965 (0.2011)  loss_box_reg: 0.4320 (0.4009)  loss_objectness: 0.0280 (0.0576)  loss_rpn_box_reg: 0.0526 (0.0582)  time: 1.5788  data: 0.9069  max mem: 2612\n",
            "Epoch: [0]  [ 750/2250]  eta: 0:39:24  lr: 0.003756  loss: 0.7133 (0.7171)  loss_classifier: 0.1887 (0.2009)  loss_box_reg: 0.4309 (0.4005)  loss_objectness: 0.0241 (0.0576)  loss_rpn_box_reg: 0.0279 (0.0581)  time: 1.5748  data: 0.9056  max mem: 2612\n",
            "Epoch: [0]  [ 760/2250]  eta: 0:39:08  lr: 0.003806  loss: 0.7012 (0.7170)  loss_classifier: 0.1922 (0.2009)  loss_box_reg: 0.4006 (0.4008)  loss_objectness: 0.0327 (0.0573)  loss_rpn_box_reg: 0.0308 (0.0580)  time: 1.5657  data: 0.8980  max mem: 2612\n",
            "Epoch: [0]  [ 770/2250]  eta: 0:38:52  lr: 0.003856  loss: 0.7174 (0.7169)  loss_classifier: 0.1975 (0.2009)  loss_box_reg: 0.4434 (0.4009)  loss_objectness: 0.0434 (0.0572)  loss_rpn_box_reg: 0.0449 (0.0580)  time: 1.5669  data: 0.8981  max mem: 2612\n",
            "Epoch: [0]  [ 780/2250]  eta: 0:38:36  lr: 0.003906  loss: 0.6606 (0.7157)  loss_classifier: 0.1748 (0.2005)  loss_box_reg: 0.4141 (0.4006)  loss_objectness: 0.0303 (0.0569)  loss_rpn_box_reg: 0.0461 (0.0578)  time: 1.5653  data: 0.8995  max mem: 2612\n",
            "Epoch: [0]  [ 790/2250]  eta: 0:38:20  lr: 0.003956  loss: 0.7407 (0.7173)  loss_classifier: 0.2065 (0.2009)  loss_box_reg: 0.4141 (0.4012)  loss_objectness: 0.0307 (0.0572)  loss_rpn_box_reg: 0.0466 (0.0580)  time: 1.5660  data: 0.9005  max mem: 2612\n",
            "Epoch: [0]  [ 800/2250]  eta: 0:38:04  lr: 0.004006  loss: 0.8397 (0.7188)  loss_classifier: 0.2525 (0.2015)  loss_box_reg: 0.4258 (0.4013)  loss_objectness: 0.0570 (0.0573)  loss_rpn_box_reg: 0.0560 (0.0587)  time: 1.5745  data: 0.9079  max mem: 2612\n",
            "Epoch: [0]  [ 810/2250]  eta: 0:37:49  lr: 0.004056  loss: 0.7029 (0.7184)  loss_classifier: 0.1938 (0.2015)  loss_box_reg: 0.3884 (0.4012)  loss_objectness: 0.0343 (0.0570)  loss_rpn_box_reg: 0.0418 (0.0587)  time: 1.5743  data: 0.9094  max mem: 2612\n",
            "Epoch: [0]  [ 820/2250]  eta: 0:37:33  lr: 0.004106  loss: 0.6143 (0.7175)  loss_classifier: 0.1773 (0.2012)  loss_box_reg: 0.3780 (0.4008)  loss_objectness: 0.0214 (0.0570)  loss_rpn_box_reg: 0.0300 (0.0585)  time: 1.5677  data: 0.9024  max mem: 2612\n",
            "Epoch: [0]  [ 830/2250]  eta: 0:37:17  lr: 0.004156  loss: 0.6218 (0.7168)  loss_classifier: 0.1735 (0.2010)  loss_box_reg: 0.3705 (0.4006)  loss_objectness: 0.0151 (0.0569)  loss_rpn_box_reg: 0.0171 (0.0584)  time: 1.5699  data: 0.9029  max mem: 2612\n",
            "Epoch: [0]  [ 840/2250]  eta: 0:37:01  lr: 0.004206  loss: 0.6957 (0.7178)  loss_classifier: 0.1823 (0.2012)  loss_box_reg: 0.4173 (0.4010)  loss_objectness: 0.0505 (0.0572)  loss_rpn_box_reg: 0.0431 (0.0585)  time: 1.5723  data: 0.9063  max mem: 2612\n",
            "Epoch: [0]  [ 850/2250]  eta: 0:36:45  lr: 0.004256  loss: 0.6957 (0.7159)  loss_classifier: 0.1842 (0.2007)  loss_box_reg: 0.3906 (0.4000)  loss_objectness: 0.0421 (0.0569)  loss_rpn_box_reg: 0.0312 (0.0582)  time: 1.5679  data: 0.9041  max mem: 2612\n",
            "Epoch: [0]  [ 860/2250]  eta: 0:36:29  lr: 0.004306  loss: 0.5983 (0.7154)  loss_classifier: 0.1842 (0.2006)  loss_box_reg: 0.3863 (0.4002)  loss_objectness: 0.0286 (0.0567)  loss_rpn_box_reg: 0.0214 (0.0579)  time: 1.5655  data: 0.9025  max mem: 2612\n",
            "Epoch: [0]  [ 870/2250]  eta: 0:36:13  lr: 0.004356  loss: 0.8433 (0.7170)  loss_classifier: 0.2034 (0.2010)  loss_box_reg: 0.4691 (0.4007)  loss_objectness: 0.0379 (0.0571)  loss_rpn_box_reg: 0.0454 (0.0583)  time: 1.5719  data: 0.9093  max mem: 2612\n",
            "Epoch: [0]  [ 880/2250]  eta: 0:35:57  lr: 0.004406  loss: 0.5163 (0.7148)  loss_classifier: 0.1551 (0.2001)  loss_box_reg: 0.3387 (0.3999)  loss_objectness: 0.0326 (0.0570)  loss_rpn_box_reg: 0.0224 (0.0578)  time: 1.5685  data: 0.9079  max mem: 2612\n",
            "Epoch: [0]  [ 890/2250]  eta: 0:35:41  lr: 0.004456  loss: 0.5255 (0.7145)  loss_classifier: 0.1551 (0.2003)  loss_box_reg: 0.3387 (0.3995)  loss_objectness: 0.0227 (0.0570)  loss_rpn_box_reg: 0.0142 (0.0578)  time: 1.5602  data: 0.8987  max mem: 2612\n",
            "Epoch: [0]  [ 900/2250]  eta: 0:35:25  lr: 0.004505  loss: 0.6065 (0.7139)  loss_classifier: 0.1711 (0.2000)  loss_box_reg: 0.3603 (0.3992)  loss_objectness: 0.0295 (0.0569)  loss_rpn_box_reg: 0.0371 (0.0579)  time: 1.5593  data: 0.8975  max mem: 2612\n",
            "Epoch: [0]  [ 910/2250]  eta: 0:35:09  lr: 0.004555  loss: 0.5772 (0.7133)  loss_classifier: 0.1642 (0.1998)  loss_box_reg: 0.3510 (0.3989)  loss_objectness: 0.0351 (0.0569)  loss_rpn_box_reg: 0.0428 (0.0578)  time: 1.5565  data: 0.8969  max mem: 2612\n",
            "Epoch: [0]  [ 920/2250]  eta: 0:34:53  lr: 0.004605  loss: 0.5702 (0.7114)  loss_classifier: 0.1622 (0.1992)  loss_box_reg: 0.3476 (0.3982)  loss_objectness: 0.0280 (0.0565)  loss_rpn_box_reg: 0.0293 (0.0575)  time: 1.5555  data: 0.8969  max mem: 2612\n",
            "Epoch: [0]  [ 930/2250]  eta: 0:34:37  lr: 0.004655  loss: 0.6235 (0.7117)  loss_classifier: 0.1995 (0.1995)  loss_box_reg: 0.3495 (0.3983)  loss_objectness: 0.0247 (0.0565)  loss_rpn_box_reg: 0.0321 (0.0575)  time: 1.5579  data: 0.8999  max mem: 2612\n",
            "Epoch: [0]  [ 940/2250]  eta: 0:34:21  lr: 0.004705  loss: 0.7089 (0.7115)  loss_classifier: 0.1997 (0.1994)  loss_box_reg: 0.3907 (0.3983)  loss_objectness: 0.0357 (0.0564)  loss_rpn_box_reg: 0.0444 (0.0574)  time: 1.5532  data: 0.8965  max mem: 2612\n",
            "Epoch: [0]  [ 950/2250]  eta: 0:34:05  lr: 0.004755  loss: 0.7302 (0.7127)  loss_classifier: 0.1812 (0.1998)  loss_box_reg: 0.4240 (0.3988)  loss_objectness: 0.0469 (0.0565)  loss_rpn_box_reg: 0.0444 (0.0575)  time: 1.5539  data: 0.8977  max mem: 2612\n",
            "Epoch: [0]  [ 960/2250]  eta: 0:33:50  lr: 0.004805  loss: 0.7302 (0.7122)  loss_classifier: 0.1973 (0.1999)  loss_box_reg: 0.4193 (0.3985)  loss_objectness: 0.0469 (0.0564)  loss_rpn_box_reg: 0.0568 (0.0575)  time: 1.5614  data: 0.9029  max mem: 2612\n",
            "Epoch: [0]  [ 970/2250]  eta: 0:33:34  lr: 0.004855  loss: 0.6869 (0.7132)  loss_classifier: 0.2149 (0.2002)  loss_box_reg: 0.4143 (0.3990)  loss_objectness: 0.0483 (0.0567)  loss_rpn_box_reg: 0.0463 (0.0574)  time: 1.5567  data: 0.8978  max mem: 2612\n",
            "Epoch: [0]  [ 980/2250]  eta: 0:33:18  lr: 0.004905  loss: 0.7815 (0.7135)  loss_classifier: 0.2164 (0.2005)  loss_box_reg: 0.4188 (0.3990)  loss_objectness: 0.0484 (0.0566)  loss_rpn_box_reg: 0.0365 (0.0574)  time: 1.5538  data: 0.8957  max mem: 2612\n",
            "Epoch: [0]  [ 990/2250]  eta: 0:33:02  lr: 0.004955  loss: 0.6326 (0.7121)  loss_classifier: 0.2027 (0.2002)  loss_box_reg: 0.3570 (0.3984)  loss_objectness: 0.0336 (0.0563)  loss_rpn_box_reg: 0.0270 (0.0571)  time: 1.5538  data: 0.8962  max mem: 2612\n",
            "Epoch: [0]  [1000/2250]  eta: 0:32:46  lr: 0.005000  loss: 0.6326 (0.7134)  loss_classifier: 0.2116 (0.2008)  loss_box_reg: 0.3761 (0.3989)  loss_objectness: 0.0358 (0.0563)  loss_rpn_box_reg: 0.0316 (0.0573)  time: 1.5572  data: 0.8998  max mem: 2612\n",
            "Epoch: [0]  [1010/2250]  eta: 0:32:30  lr: 0.005000  loss: 0.7721 (0.7134)  loss_classifier: 0.2403 (0.2009)  loss_box_reg: 0.4003 (0.3988)  loss_objectness: 0.0412 (0.0563)  loss_rpn_box_reg: 0.0493 (0.0575)  time: 1.5605  data: 0.9023  max mem: 2612\n",
            "Epoch: [0]  [1020/2250]  eta: 0:32:14  lr: 0.005000  loss: 0.7006 (0.7134)  loss_classifier: 0.2122 (0.2010)  loss_box_reg: 0.3795 (0.3989)  loss_objectness: 0.0329 (0.0562)  loss_rpn_box_reg: 0.0217 (0.0574)  time: 1.5633  data: 0.9043  max mem: 2612\n",
            "Epoch: [0]  [1030/2250]  eta: 0:31:58  lr: 0.005000  loss: 0.6768 (0.7134)  loss_classifier: 0.2019 (0.2010)  loss_box_reg: 0.3941 (0.3990)  loss_objectness: 0.0335 (0.0560)  loss_rpn_box_reg: 0.0230 (0.0573)  time: 1.5642  data: 0.9041  max mem: 2612\n",
            "Epoch: [0]  [1040/2250]  eta: 0:31:42  lr: 0.005000  loss: 0.7337 (0.7141)  loss_classifier: 0.2019 (0.2013)  loss_box_reg: 0.4002 (0.3994)  loss_objectness: 0.0362 (0.0561)  loss_rpn_box_reg: 0.0356 (0.0573)  time: 1.5686  data: 0.9077  max mem: 2612\n",
            "Epoch: [0]  [1050/2250]  eta: 0:31:27  lr: 0.005000  loss: 0.7099 (0.7138)  loss_classifier: 0.2102 (0.2015)  loss_box_reg: 0.4276 (0.3994)  loss_objectness: 0.0380 (0.0560)  loss_rpn_box_reg: 0.0291 (0.0570)  time: 1.5666  data: 0.9063  max mem: 2612\n",
            "Epoch: [0]  [1060/2250]  eta: 0:31:11  lr: 0.005000  loss: 0.6983 (0.7137)  loss_classifier: 0.2102 (0.2013)  loss_box_reg: 0.3868 (0.3992)  loss_objectness: 0.0335 (0.0560)  loss_rpn_box_reg: 0.0291 (0.0572)  time: 1.5634  data: 0.9042  max mem: 2612\n",
            "Epoch: [0]  [1070/2250]  eta: 0:30:55  lr: 0.005000  loss: 0.6789 (0.7137)  loss_classifier: 0.1867 (0.2014)  loss_box_reg: 0.3680 (0.3991)  loss_objectness: 0.0382 (0.0560)  loss_rpn_box_reg: 0.0381 (0.0573)  time: 1.5608  data: 0.9029  max mem: 2612\n",
            "Epoch: [0]  [1080/2250]  eta: 0:30:39  lr: 0.005000  loss: 0.6633 (0.7145)  loss_classifier: 0.2106 (0.2017)  loss_box_reg: 0.3998 (0.3993)  loss_objectness: 0.0486 (0.0560)  loss_rpn_box_reg: 0.0521 (0.0576)  time: 1.5572  data: 0.8994  max mem: 2612\n",
            "Epoch: [0]  [1090/2250]  eta: 0:30:23  lr: 0.005000  loss: 0.7015 (0.7150)  loss_classifier: 0.2279 (0.2019)  loss_box_reg: 0.4125 (0.3995)  loss_objectness: 0.0339 (0.0561)  loss_rpn_box_reg: 0.0321 (0.0576)  time: 1.5547  data: 0.8978  max mem: 2612\n",
            "Epoch: [0]  [1100/2250]  eta: 0:30:07  lr: 0.005000  loss: 0.7015 (0.7154)  loss_classifier: 0.2136 (0.2020)  loss_box_reg: 0.4125 (0.3995)  loss_objectness: 0.0339 (0.0563)  loss_rpn_box_reg: 0.0275 (0.0576)  time: 1.5546  data: 0.8971  max mem: 2612\n",
            "Epoch: [0]  [1110/2250]  eta: 0:29:51  lr: 0.005000  loss: 0.6611 (0.7156)  loss_classifier: 0.2016 (0.2021)  loss_box_reg: 0.3792 (0.3995)  loss_objectness: 0.0401 (0.0564)  loss_rpn_box_reg: 0.0375 (0.0576)  time: 1.5615  data: 0.9013  max mem: 2612\n",
            "Epoch: [0]  [1120/2250]  eta: 0:29:36  lr: 0.005000  loss: 0.7576 (0.7170)  loss_classifier: 0.2034 (0.2026)  loss_box_reg: 0.4656 (0.4003)  loss_objectness: 0.0422 (0.0564)  loss_rpn_box_reg: 0.0490 (0.0577)  time: 1.5606  data: 0.9006  max mem: 2612\n",
            "Epoch: [0]  [1130/2250]  eta: 0:29:20  lr: 0.005000  loss: 0.7553 (0.7168)  loss_classifier: 0.2247 (0.2025)  loss_box_reg: 0.4256 (0.4000)  loss_objectness: 0.0422 (0.0565)  loss_rpn_box_reg: 0.0478 (0.0577)  time: 1.5614  data: 0.9022  max mem: 2612\n",
            "Epoch: [0]  [1140/2250]  eta: 0:29:04  lr: 0.005000  loss: 0.7697 (0.7181)  loss_classifier: 0.2296 (0.2031)  loss_box_reg: 0.4148 (0.4004)  loss_objectness: 0.0452 (0.0567)  loss_rpn_box_reg: 0.0500 (0.0579)  time: 1.5635  data: 0.9034  max mem: 2612\n",
            "Epoch: [0]  [1150/2250]  eta: 0:28:48  lr: 0.005000  loss: 0.7697 (0.7180)  loss_classifier: 0.2332 (0.2030)  loss_box_reg: 0.4522 (0.4005)  loss_objectness: 0.0432 (0.0567)  loss_rpn_box_reg: 0.0497 (0.0577)  time: 1.5643  data: 0.9038  max mem: 2612\n",
            "Epoch: [0]  [1160/2250]  eta: 0:28:32  lr: 0.005000  loss: 0.7212 (0.7186)  loss_classifier: 0.2227 (0.2034)  loss_box_reg: 0.4498 (0.4008)  loss_objectness: 0.0317 (0.0567)  loss_rpn_box_reg: 0.0430 (0.0577)  time: 1.5624  data: 0.9020  max mem: 2612\n",
            "Epoch: [0]  [1170/2250]  eta: 0:28:17  lr: 0.005000  loss: 0.7115 (0.7181)  loss_classifier: 0.2500 (0.2034)  loss_box_reg: 0.3902 (0.4006)  loss_objectness: 0.0198 (0.0566)  loss_rpn_box_reg: 0.0213 (0.0575)  time: 1.5617  data: 0.9015  max mem: 2612\n",
            "Epoch: [0]  [1180/2250]  eta: 0:28:01  lr: 0.005000  loss: 0.6285 (0.7183)  loss_classifier: 0.1927 (0.2035)  loss_box_reg: 0.3665 (0.4008)  loss_objectness: 0.0232 (0.0566)  loss_rpn_box_reg: 0.0234 (0.0574)  time: 1.5616  data: 0.9023  max mem: 2612\n",
            "Epoch: [0]  [1190/2250]  eta: 0:27:45  lr: 0.005000  loss: 0.6666 (0.7173)  loss_classifier: 0.1897 (0.2033)  loss_box_reg: 0.3842 (0.4003)  loss_objectness: 0.0250 (0.0564)  loss_rpn_box_reg: 0.0270 (0.0573)  time: 1.5590  data: 0.8991  max mem: 2612\n",
            "Epoch: [0]  [1200/2250]  eta: 0:27:29  lr: 0.005000  loss: 0.6914 (0.7177)  loss_classifier: 0.1736 (0.2033)  loss_box_reg: 0.3390 (0.4005)  loss_objectness: 0.0447 (0.0566)  loss_rpn_box_reg: 0.0416 (0.0573)  time: 1.5552  data: 0.8961  max mem: 2612\n",
            "Epoch: [0]  [1210/2250]  eta: 0:27:13  lr: 0.005000  loss: 0.7149 (0.7179)  loss_classifier: 0.1993 (0.2033)  loss_box_reg: 0.4041 (0.4003)  loss_objectness: 0.0359 (0.0567)  loss_rpn_box_reg: 0.0534 (0.0576)  time: 1.5593  data: 0.9008  max mem: 2612\n",
            "Epoch: [0]  [1220/2250]  eta: 0:26:57  lr: 0.005000  loss: 0.6719 (0.7182)  loss_classifier: 0.2189 (0.2034)  loss_box_reg: 0.3966 (0.4004)  loss_objectness: 0.0295 (0.0566)  loss_rpn_box_reg: 0.0445 (0.0577)  time: 1.5619  data: 0.9041  max mem: 2612\n",
            "Epoch: [0]  [1230/2250]  eta: 0:26:42  lr: 0.005000  loss: 0.7712 (0.7194)  loss_classifier: 0.2472 (0.2040)  loss_box_reg: 0.3966 (0.4009)  loss_objectness: 0.0450 (0.0568)  loss_rpn_box_reg: 0.0540 (0.0577)  time: 1.5601  data: 0.9027  max mem: 2612\n",
            "Epoch: [0]  [1240/2250]  eta: 0:26:26  lr: 0.005000  loss: 0.6968 (0.7189)  loss_classifier: 0.1957 (0.2039)  loss_box_reg: 0.3785 (0.4006)  loss_objectness: 0.0559 (0.0568)  loss_rpn_box_reg: 0.0421 (0.0576)  time: 1.5565  data: 0.9000  max mem: 2612\n",
            "Epoch: [0]  [1250/2250]  eta: 0:26:10  lr: 0.005000  loss: 0.6792 (0.7191)  loss_classifier: 0.1957 (0.2039)  loss_box_reg: 0.3753 (0.4006)  loss_objectness: 0.0429 (0.0569)  loss_rpn_box_reg: 0.0415 (0.0576)  time: 1.5497  data: 0.8954  max mem: 2612\n",
            "Epoch: [0]  [1260/2250]  eta: 0:25:54  lr: 0.005000  loss: 0.6959 (0.7193)  loss_classifier: 0.2146 (0.2040)  loss_box_reg: 0.4149 (0.4008)  loss_objectness: 0.0404 (0.0569)  loss_rpn_box_reg: 0.0417 (0.0577)  time: 1.5506  data: 0.8944  max mem: 2612\n",
            "Epoch: [0]  [1270/2250]  eta: 0:25:38  lr: 0.005000  loss: 0.6152 (0.7191)  loss_classifier: 0.1665 (0.2039)  loss_box_reg: 0.4001 (0.4009)  loss_objectness: 0.0173 (0.0567)  loss_rpn_box_reg: 0.0462 (0.0576)  time: 1.5561  data: 0.8975  max mem: 2612\n",
            "Epoch: [0]  [1280/2250]  eta: 0:25:22  lr: 0.005000  loss: 0.6912 (0.7192)  loss_classifier: 0.1911 (0.2038)  loss_box_reg: 0.3937 (0.4007)  loss_objectness: 0.0227 (0.0568)  loss_rpn_box_reg: 0.0510 (0.0578)  time: 1.5538  data: 0.8960  max mem: 2612\n",
            "Epoch: [0]  [1290/2250]  eta: 0:25:07  lr: 0.005000  loss: 0.7893 (0.7201)  loss_classifier: 0.2127 (0.2041)  loss_box_reg: 0.4153 (0.4011)  loss_objectness: 0.0409 (0.0569)  loss_rpn_box_reg: 0.0747 (0.0580)  time: 1.5529  data: 0.8955  max mem: 2612\n",
            "Epoch: [0]  [1300/2250]  eta: 0:24:51  lr: 0.005000  loss: 0.8204 (0.7208)  loss_classifier: 0.2034 (0.2042)  loss_box_reg: 0.4300 (0.4011)  loss_objectness: 0.0577 (0.0571)  loss_rpn_box_reg: 0.0747 (0.0584)  time: 1.5587  data: 0.9011  max mem: 2612\n",
            "Epoch: [0]  [1310/2250]  eta: 0:24:35  lr: 0.005000  loss: 0.5979 (0.7202)  loss_classifier: 0.1645 (0.2040)  loss_box_reg: 0.3578 (0.4008)  loss_objectness: 0.0333 (0.0570)  loss_rpn_box_reg: 0.0302 (0.0583)  time: 1.5574  data: 0.9005  max mem: 2612\n",
            "Epoch: [0]  [1320/2250]  eta: 0:24:19  lr: 0.005000  loss: 0.6038 (0.7205)  loss_classifier: 0.1645 (0.2042)  loss_box_reg: 0.3801 (0.4011)  loss_objectness: 0.0237 (0.0570)  loss_rpn_box_reg: 0.0434 (0.0583)  time: 1.5531  data: 0.8958  max mem: 2612\n",
            "Epoch: [0]  [1330/2250]  eta: 0:24:03  lr: 0.005000  loss: 0.7529 (0.7203)  loss_classifier: 0.2043 (0.2042)  loss_box_reg: 0.4388 (0.4009)  loss_objectness: 0.0312 (0.0569)  loss_rpn_box_reg: 0.0517 (0.0583)  time: 1.5530  data: 0.8950  max mem: 2612\n",
            "Epoch: [0]  [1340/2250]  eta: 0:23:48  lr: 0.005000  loss: 0.6334 (0.7201)  loss_classifier: 0.1857 (0.2042)  loss_box_reg: 0.3750 (0.4010)  loss_objectness: 0.0250 (0.0567)  loss_rpn_box_reg: 0.0344 (0.0582)  time: 1.5588  data: 0.9002  max mem: 2612\n",
            "Epoch: [0]  [1350/2250]  eta: 0:23:32  lr: 0.005000  loss: 0.6511 (0.7198)  loss_classifier: 0.1828 (0.2042)  loss_box_reg: 0.3919 (0.4008)  loss_objectness: 0.0307 (0.0567)  loss_rpn_box_reg: 0.0402 (0.0581)  time: 1.5618  data: 0.9038  max mem: 2612\n",
            "Epoch: [0]  [1360/2250]  eta: 0:23:16  lr: 0.005000  loss: 0.6399 (0.7197)  loss_classifier: 0.1816 (0.2042)  loss_box_reg: 0.3921 (0.4009)  loss_objectness: 0.0413 (0.0565)  loss_rpn_box_reg: 0.0402 (0.0581)  time: 1.5563  data: 0.8990  max mem: 2612\n",
            "Epoch: [0]  [1370/2250]  eta: 0:23:00  lr: 0.005000  loss: 0.5927 (0.7197)  loss_classifier: 0.1585 (0.2042)  loss_box_reg: 0.3921 (0.4008)  loss_objectness: 0.0173 (0.0566)  loss_rpn_box_reg: 0.0203 (0.0582)  time: 1.5517  data: 0.8944  max mem: 2612\n",
            "Epoch: [0]  [1380/2250]  eta: 0:22:45  lr: 0.005000  loss: 0.6626 (0.7198)  loss_classifier: 0.1957 (0.2042)  loss_box_reg: 0.4041 (0.4009)  loss_objectness: 0.0139 (0.0565)  loss_rpn_box_reg: 0.0210 (0.0581)  time: 1.5541  data: 0.8961  max mem: 2612\n",
            "Epoch: [0]  [1390/2250]  eta: 0:22:29  lr: 0.005000  loss: 0.6591 (0.7192)  loss_classifier: 0.1662 (0.2041)  loss_box_reg: 0.4041 (0.4008)  loss_objectness: 0.0144 (0.0563)  loss_rpn_box_reg: 0.0168 (0.0580)  time: 1.5524  data: 0.8952  max mem: 2612\n",
            "Epoch: [0]  [1400/2250]  eta: 0:22:13  lr: 0.005000  loss: 0.6622 (0.7191)  loss_classifier: 0.1622 (0.2041)  loss_box_reg: 0.3588 (0.4007)  loss_objectness: 0.0166 (0.0562)  loss_rpn_box_reg: 0.0376 (0.0581)  time: 1.5505  data: 0.8932  max mem: 2612\n",
            "Epoch: [0]  [1410/2250]  eta: 0:21:57  lr: 0.005000  loss: 0.6536 (0.7184)  loss_classifier: 0.1776 (0.2040)  loss_box_reg: 0.3588 (0.4004)  loss_objectness: 0.0267 (0.0561)  loss_rpn_box_reg: 0.0376 (0.0579)  time: 1.5503  data: 0.8915  max mem: 2612\n",
            "Epoch: [0]  [1420/2250]  eta: 0:21:41  lr: 0.005000  loss: 0.6082 (0.7179)  loss_classifier: 0.1792 (0.2039)  loss_box_reg: 0.3813 (0.4002)  loss_objectness: 0.0263 (0.0561)  loss_rpn_box_reg: 0.0253 (0.0578)  time: 1.5539  data: 0.8942  max mem: 2612\n",
            "Epoch: [0]  [1430/2250]  eta: 0:21:26  lr: 0.005000  loss: 0.6216 (0.7183)  loss_classifier: 0.1805 (0.2039)  loss_box_reg: 0.3845 (0.4006)  loss_objectness: 0.0373 (0.0561)  loss_rpn_box_reg: 0.0287 (0.0579)  time: 1.5633  data: 0.9019  max mem: 2612\n",
            "Epoch: [0]  [1440/2250]  eta: 0:21:10  lr: 0.005000  loss: 0.8402 (0.7182)  loss_classifier: 0.1805 (0.2039)  loss_box_reg: 0.4564 (0.4005)  loss_objectness: 0.0373 (0.0561)  loss_rpn_box_reg: 0.0446 (0.0578)  time: 1.5581  data: 0.8978  max mem: 2612\n",
            "Epoch: [0]  [1450/2250]  eta: 0:20:54  lr: 0.005000  loss: 0.5860 (0.7183)  loss_classifier: 0.1744 (0.2039)  loss_box_reg: 0.3721 (0.4005)  loss_objectness: 0.0328 (0.0561)  loss_rpn_box_reg: 0.0271 (0.0577)  time: 1.5527  data: 0.8937  max mem: 2612\n",
            "Epoch: [0]  [1460/2250]  eta: 0:20:38  lr: 0.005000  loss: 0.7043 (0.7177)  loss_classifier: 0.1840 (0.2038)  loss_box_reg: 0.4045 (0.4004)  loss_objectness: 0.0245 (0.0559)  loss_rpn_box_reg: 0.0271 (0.0576)  time: 1.5593  data: 0.8992  max mem: 2612\n",
            "Epoch: [0]  [1470/2250]  eta: 0:20:23  lr: 0.005000  loss: 0.7028 (0.7176)  loss_classifier: 0.1840 (0.2037)  loss_box_reg: 0.3972 (0.4004)  loss_objectness: 0.0286 (0.0560)  loss_rpn_box_reg: 0.0367 (0.0575)  time: 1.5618  data: 0.9017  max mem: 2612\n",
            "Epoch: [0]  [1480/2250]  eta: 0:20:07  lr: 0.005000  loss: 0.7295 (0.7184)  loss_classifier: 0.2043 (0.2040)  loss_box_reg: 0.4251 (0.4008)  loss_objectness: 0.0366 (0.0559)  loss_rpn_box_reg: 0.0441 (0.0577)  time: 1.5585  data: 0.8987  max mem: 2612\n",
            "Epoch: [0]  [1490/2250]  eta: 0:19:51  lr: 0.005000  loss: 0.6124 (0.7177)  loss_classifier: 0.1836 (0.2038)  loss_box_reg: 0.3845 (0.4005)  loss_objectness: 0.0324 (0.0558)  loss_rpn_box_reg: 0.0224 (0.0576)  time: 1.5571  data: 0.8983  max mem: 2612\n",
            "Epoch: [0]  [1500/2250]  eta: 0:19:36  lr: 0.005000  loss: 0.6185 (0.7191)  loss_classifier: 0.1873 (0.2042)  loss_box_reg: 0.3928 (0.4011)  loss_objectness: 0.0290 (0.0560)  loss_rpn_box_reg: 0.0411 (0.0578)  time: 1.5648  data: 0.9055  max mem: 2612\n",
            "Epoch: [0]  [1510/2250]  eta: 0:19:20  lr: 0.005000  loss: 0.8287 (0.7190)  loss_classifier: 0.2284 (0.2042)  loss_box_reg: 0.4505 (0.4009)  loss_objectness: 0.0461 (0.0560)  loss_rpn_box_reg: 0.0648 (0.0578)  time: 1.5654  data: 0.9061  max mem: 2612\n",
            "Epoch: [0]  [1520/2250]  eta: 0:19:04  lr: 0.005000  loss: 0.6723 (0.7192)  loss_classifier: 0.2129 (0.2044)  loss_box_reg: 0.3314 (0.4008)  loss_objectness: 0.0510 (0.0561)  loss_rpn_box_reg: 0.0581 (0.0579)  time: 1.5565  data: 0.8993  max mem: 2612\n",
            "Epoch: [0]  [1530/2250]  eta: 0:18:48  lr: 0.005000  loss: 0.6723 (0.7192)  loss_classifier: 0.2151 (0.2043)  loss_box_reg: 0.3314 (0.4004)  loss_objectness: 0.0447 (0.0565)  loss_rpn_box_reg: 0.0581 (0.0580)  time: 1.5519  data: 0.8958  max mem: 2612\n",
            "Epoch: [0]  [1540/2250]  eta: 0:18:33  lr: 0.005000  loss: 0.5983 (0.7189)  loss_classifier: 0.1854 (0.2042)  loss_box_reg: 0.3569 (0.4003)  loss_objectness: 0.0243 (0.0564)  loss_rpn_box_reg: 0.0274 (0.0579)  time: 1.5505  data: 0.8939  max mem: 2612\n",
            "Epoch: [0]  [1550/2250]  eta: 0:18:17  lr: 0.005000  loss: 0.5983 (0.7189)  loss_classifier: 0.1793 (0.2043)  loss_box_reg: 0.3514 (0.4003)  loss_objectness: 0.0260 (0.0565)  loss_rpn_box_reg: 0.0240 (0.0578)  time: 1.5584  data: 0.8999  max mem: 2612\n",
            "Epoch: [0]  [1560/2250]  eta: 0:18:01  lr: 0.005000  loss: 0.6619 (0.7191)  loss_classifier: 0.2161 (0.2044)  loss_box_reg: 0.3698 (0.4004)  loss_objectness: 0.0424 (0.0565)  loss_rpn_box_reg: 0.0434 (0.0578)  time: 1.5634  data: 0.9034  max mem: 2612\n",
            "Epoch: [0]  [1570/2250]  eta: 0:17:45  lr: 0.005000  loss: 0.7696 (0.7201)  loss_classifier: 0.2339 (0.2046)  loss_box_reg: 0.4311 (0.4008)  loss_objectness: 0.0443 (0.0569)  loss_rpn_box_reg: 0.0456 (0.0579)  time: 1.5616  data: 0.9019  max mem: 2612\n",
            "Epoch: [0]  [1580/2250]  eta: 0:17:30  lr: 0.005000  loss: 0.7093 (0.7201)  loss_classifier: 0.2134 (0.2048)  loss_box_reg: 0.4046 (0.4007)  loss_objectness: 0.0408 (0.0567)  loss_rpn_box_reg: 0.0402 (0.0578)  time: 1.5625  data: 0.9036  max mem: 2612\n",
            "Epoch: [0]  [1590/2250]  eta: 0:17:14  lr: 0.005000  loss: 0.7006 (0.7205)  loss_classifier: 0.2134 (0.2049)  loss_box_reg: 0.3895 (0.4010)  loss_objectness: 0.0408 (0.0568)  loss_rpn_box_reg: 0.0402 (0.0578)  time: 1.5650  data: 0.9066  max mem: 2612\n",
            "Epoch: [0]  [1600/2250]  eta: 0:16:58  lr: 0.005000  loss: 0.7315 (0.7209)  loss_classifier: 0.2082 (0.2051)  loss_box_reg: 0.4239 (0.4012)  loss_objectness: 0.0499 (0.0568)  loss_rpn_box_reg: 0.0348 (0.0578)  time: 1.5591  data: 0.9011  max mem: 2612\n",
            "Epoch: [0]  [1610/2250]  eta: 0:16:43  lr: 0.005000  loss: 0.5769 (0.7199)  loss_classifier: 0.1588 (0.2048)  loss_box_reg: 0.3556 (0.4008)  loss_objectness: 0.0330 (0.0566)  loss_rpn_box_reg: 0.0334 (0.0577)  time: 1.5546  data: 0.8956  max mem: 2612\n",
            "Epoch: [0]  [1620/2250]  eta: 0:16:27  lr: 0.005000  loss: 0.5653 (0.7193)  loss_classifier: 0.1657 (0.2047)  loss_box_reg: 0.3405 (0.4006)  loss_objectness: 0.0217 (0.0564)  loss_rpn_box_reg: 0.0323 (0.0576)  time: 1.5580  data: 0.8994  max mem: 2612\n",
            "Epoch: [0]  [1630/2250]  eta: 0:16:11  lr: 0.005000  loss: 0.6869 (0.7195)  loss_classifier: 0.2026 (0.2047)  loss_box_reg: 0.4103 (0.4008)  loss_objectness: 0.0255 (0.0564)  loss_rpn_box_reg: 0.0323 (0.0576)  time: 1.5545  data: 0.8975  max mem: 2612\n",
            "Epoch: [0]  [1640/2250]  eta: 0:15:55  lr: 0.005000  loss: 0.6869 (0.7194)  loss_classifier: 0.2087 (0.2047)  loss_box_reg: 0.4029 (0.4007)  loss_objectness: 0.0282 (0.0565)  loss_rpn_box_reg: 0.0295 (0.0576)  time: 1.5529  data: 0.8951  max mem: 2612\n",
            "Epoch: [0]  [1650/2250]  eta: 0:15:40  lr: 0.005000  loss: 0.5396 (0.7178)  loss_classifier: 0.1526 (0.2042)  loss_box_reg: 0.3067 (0.3998)  loss_objectness: 0.0240 (0.0563)  loss_rpn_box_reg: 0.0194 (0.0574)  time: 1.5500  data: 0.8930  max mem: 2612\n",
            "Epoch: [0]  [1660/2250]  eta: 0:15:24  lr: 0.005000  loss: 0.5550 (0.7174)  loss_classifier: 0.1482 (0.2040)  loss_box_reg: 0.3502 (0.3998)  loss_objectness: 0.0165 (0.0562)  loss_rpn_box_reg: 0.0207 (0.0575)  time: 1.5474  data: 0.8911  max mem: 2612\n",
            "Epoch: [0]  [1670/2250]  eta: 0:15:08  lr: 0.005000  loss: 0.6319 (0.7180)  loss_classifier: 0.1755 (0.2041)  loss_box_reg: 0.3970 (0.4001)  loss_objectness: 0.0376 (0.0563)  loss_rpn_box_reg: 0.0325 (0.0575)  time: 1.5512  data: 0.8922  max mem: 2612\n",
            "Epoch: [0]  [1680/2250]  eta: 0:14:53  lr: 0.005000  loss: 0.7764 (0.7183)  loss_classifier: 0.2084 (0.2041)  loss_box_reg: 0.4265 (0.4002)  loss_objectness: 0.0432 (0.0563)  loss_rpn_box_reg: 0.0302 (0.0576)  time: 1.5602  data: 0.9007  max mem: 2612\n",
            "Epoch: [0]  [1690/2250]  eta: 0:14:37  lr: 0.005000  loss: 0.7764 (0.7183)  loss_classifier: 0.2089 (0.2041)  loss_box_reg: 0.4110 (0.4002)  loss_objectness: 0.0432 (0.0564)  loss_rpn_box_reg: 0.0386 (0.0576)  time: 1.5605  data: 0.9020  max mem: 2612\n",
            "Epoch: [0]  [1700/2250]  eta: 0:14:21  lr: 0.005000  loss: 0.6993 (0.7186)  loss_classifier: 0.2089 (0.2043)  loss_box_reg: 0.3699 (0.4004)  loss_objectness: 0.0444 (0.0564)  loss_rpn_box_reg: 0.0293 (0.0576)  time: 1.5616  data: 0.9031  max mem: 2612\n",
            "Epoch: [0]  [1710/2250]  eta: 0:14:06  lr: 0.005000  loss: 0.6993 (0.7189)  loss_classifier: 0.2140 (0.2044)  loss_box_reg: 0.4101 (0.4006)  loss_objectness: 0.0444 (0.0563)  loss_rpn_box_reg: 0.0405 (0.0576)  time: 1.5702  data: 0.9110  max mem: 2612\n",
            "Epoch: [0]  [1720/2250]  eta: 0:13:50  lr: 0.005000  loss: 0.7315 (0.7188)  loss_classifier: 0.2075 (0.2043)  loss_box_reg: 0.4293 (0.4006)  loss_objectness: 0.0448 (0.0563)  loss_rpn_box_reg: 0.0405 (0.0575)  time: 1.5645  data: 0.9061  max mem: 2612\n",
            "Epoch: [0]  [1730/2250]  eta: 0:13:34  lr: 0.005000  loss: 0.6589 (0.7190)  loss_classifier: 0.1823 (0.2044)  loss_box_reg: 0.3953 (0.4007)  loss_objectness: 0.0430 (0.0564)  loss_rpn_box_reg: 0.0468 (0.0575)  time: 1.5593  data: 0.9008  max mem: 2612\n",
            "Epoch: [0]  [1740/2250]  eta: 0:13:19  lr: 0.005000  loss: 0.6391 (0.7184)  loss_classifier: 0.1765 (0.2042)  loss_box_reg: 0.3748 (0.4006)  loss_objectness: 0.0430 (0.0562)  loss_rpn_box_reg: 0.0336 (0.0574)  time: 1.5577  data: 0.8991  max mem: 2612\n",
            "Epoch: [0]  [1750/2250]  eta: 0:13:03  lr: 0.005000  loss: 0.6391 (0.7191)  loss_classifier: 0.1818 (0.2045)  loss_box_reg: 0.3800 (0.4009)  loss_objectness: 0.0486 (0.0563)  loss_rpn_box_reg: 0.0318 (0.0574)  time: 1.5554  data: 0.8977  max mem: 2612\n",
            "Epoch: [0]  [1760/2250]  eta: 0:12:47  lr: 0.005000  loss: 0.7819 (0.7191)  loss_classifier: 0.1929 (0.2044)  loss_box_reg: 0.4128 (0.4009)  loss_objectness: 0.0540 (0.0564)  loss_rpn_box_reg: 0.0557 (0.0574)  time: 1.5567  data: 0.8990  max mem: 2612\n",
            "Epoch: [0]  [1770/2250]  eta: 0:12:31  lr: 0.005000  loss: 0.7473 (0.7194)  loss_classifier: 0.1929 (0.2046)  loss_box_reg: 0.4010 (0.4008)  loss_objectness: 0.0468 (0.0565)  loss_rpn_box_reg: 0.0538 (0.0574)  time: 1.5527  data: 0.8961  max mem: 2612\n",
            "Epoch: [0]  [1780/2250]  eta: 0:12:16  lr: 0.005000  loss: 0.7655 (0.7200)  loss_classifier: 0.2260 (0.2048)  loss_box_reg: 0.3906 (0.4011)  loss_objectness: 0.0422 (0.0566)  loss_rpn_box_reg: 0.0552 (0.0575)  time: 1.5571  data: 0.8996  max mem: 2612\n",
            "Epoch: [0]  [1790/2250]  eta: 0:12:00  lr: 0.005000  loss: 0.8071 (0.7205)  loss_classifier: 0.2217 (0.2049)  loss_box_reg: 0.4143 (0.4012)  loss_objectness: 0.0422 (0.0566)  loss_rpn_box_reg: 0.0602 (0.0577)  time: 1.5614  data: 0.9030  max mem: 2612\n",
            "Epoch: [0]  [1800/2250]  eta: 0:11:44  lr: 0.005000  loss: 0.7386 (0.7206)  loss_classifier: 0.2217 (0.2050)  loss_box_reg: 0.4359 (0.4014)  loss_objectness: 0.0411 (0.0566)  loss_rpn_box_reg: 0.0578 (0.0577)  time: 1.5569  data: 0.8999  max mem: 2612\n",
            "Epoch: [0]  [1810/2250]  eta: 0:11:29  lr: 0.005000  loss: 0.7013 (0.7207)  loss_classifier: 0.2103 (0.2050)  loss_box_reg: 0.4359 (0.4015)  loss_objectness: 0.0294 (0.0565)  loss_rpn_box_reg: 0.0501 (0.0577)  time: 1.5566  data: 0.9008  max mem: 2612\n",
            "Epoch: [0]  [1820/2250]  eta: 0:11:13  lr: 0.005000  loss: 0.6559 (0.7198)  loss_classifier: 0.1945 (0.2049)  loss_box_reg: 0.3853 (0.4011)  loss_objectness: 0.0226 (0.0563)  loss_rpn_box_reg: 0.0302 (0.0575)  time: 1.5553  data: 0.8991  max mem: 2612\n",
            "Epoch: [0]  [1830/2250]  eta: 0:10:57  lr: 0.005000  loss: 0.6559 (0.7202)  loss_classifier: 0.1609 (0.2048)  loss_box_reg: 0.3853 (0.4012)  loss_objectness: 0.0272 (0.0566)  loss_rpn_box_reg: 0.0302 (0.0577)  time: 1.5630  data: 0.9048  max mem: 2612\n",
            "Epoch: [0]  [1840/2250]  eta: 0:10:42  lr: 0.005000  loss: 0.7688 (0.7201)  loss_classifier: 0.1943 (0.2047)  loss_box_reg: 0.4170 (0.4011)  loss_objectness: 0.0384 (0.0565)  loss_rpn_box_reg: 0.0510 (0.0577)  time: 1.5690  data: 0.9099  max mem: 2612\n",
            "Epoch: [0]  [1850/2250]  eta: 0:10:26  lr: 0.005000  loss: 0.6812 (0.7201)  loss_classifier: 0.1943 (0.2048)  loss_box_reg: 0.4145 (0.4011)  loss_objectness: 0.0392 (0.0565)  loss_rpn_box_reg: 0.0357 (0.0577)  time: 1.5695  data: 0.9114  max mem: 2612\n",
            "Epoch: [0]  [1860/2250]  eta: 0:10:10  lr: 0.005000  loss: 0.6544 (0.7203)  loss_classifier: 0.1913 (0.2048)  loss_box_reg: 0.4017 (0.4010)  loss_objectness: 0.0381 (0.0566)  loss_rpn_box_reg: 0.0357 (0.0578)  time: 1.5692  data: 0.9116  max mem: 2612\n",
            "Epoch: [0]  [1870/2250]  eta: 0:09:55  lr: 0.005000  loss: 0.6510 (0.7201)  loss_classifier: 0.1796 (0.2048)  loss_box_reg: 0.4185 (0.4010)  loss_objectness: 0.0229 (0.0566)  loss_rpn_box_reg: 0.0270 (0.0577)  time: 1.5649  data: 0.9089  max mem: 2612\n",
            "Epoch: [0]  [1880/2250]  eta: 0:09:39  lr: 0.005000  loss: 0.6398 (0.7202)  loss_classifier: 0.1789 (0.2049)  loss_box_reg: 0.4222 (0.4011)  loss_objectness: 0.0189 (0.0566)  loss_rpn_box_reg: 0.0270 (0.0577)  time: 1.5591  data: 0.9036  max mem: 2612\n",
            "Epoch: [0]  [1890/2250]  eta: 0:09:23  lr: 0.005000  loss: 0.6956 (0.7207)  loss_classifier: 0.2038 (0.2050)  loss_box_reg: 0.4418 (0.4014)  loss_objectness: 0.0327 (0.0566)  loss_rpn_box_reg: 0.0403 (0.0577)  time: 1.5544  data: 0.8992  max mem: 2612\n",
            "Epoch: [0]  [1900/2250]  eta: 0:09:08  lr: 0.005000  loss: 0.7563 (0.7208)  loss_classifier: 0.2146 (0.2051)  loss_box_reg: 0.4418 (0.4014)  loss_objectness: 0.0398 (0.0566)  loss_rpn_box_reg: 0.0432 (0.0576)  time: 1.5498  data: 0.8960  max mem: 2612\n",
            "Epoch: [0]  [1910/2250]  eta: 0:08:52  lr: 0.005000  loss: 0.7563 (0.7211)  loss_classifier: 0.1889 (0.2051)  loss_box_reg: 0.4057 (0.4015)  loss_objectness: 0.0505 (0.0569)  loss_rpn_box_reg: 0.0387 (0.0576)  time: 1.5488  data: 0.8943  max mem: 2612\n",
            "Epoch: [0]  [1920/2250]  eta: 0:08:36  lr: 0.005000  loss: 0.7105 (0.7205)  loss_classifier: 0.1722 (0.2049)  loss_box_reg: 0.3791 (0.4013)  loss_objectness: 0.0330 (0.0568)  loss_rpn_box_reg: 0.0307 (0.0576)  time: 1.5481  data: 0.8957  max mem: 2612\n",
            "Epoch: [0]  [1930/2250]  eta: 0:08:21  lr: 0.005000  loss: 0.6190 (0.7203)  loss_classifier: 0.1641 (0.2049)  loss_box_reg: 0.3345 (0.4010)  loss_objectness: 0.0469 (0.0568)  loss_rpn_box_reg: 0.0285 (0.0576)  time: 1.5524  data: 0.9005  max mem: 2612\n",
            "Epoch: [0]  [1940/2250]  eta: 0:08:05  lr: 0.005000  loss: 0.7003 (0.7203)  loss_classifier: 0.2330 (0.2050)  loss_box_reg: 0.3721 (0.4011)  loss_objectness: 0.0440 (0.0567)  loss_rpn_box_reg: 0.0361 (0.0575)  time: 1.5539  data: 0.9005  max mem: 2612\n",
            "Epoch: [0]  [1950/2250]  eta: 0:07:49  lr: 0.005000  loss: 0.7727 (0.7209)  loss_classifier: 0.2457 (0.2052)  loss_box_reg: 0.4115 (0.4013)  loss_objectness: 0.0387 (0.0567)  loss_rpn_box_reg: 0.0470 (0.0577)  time: 1.5514  data: 0.8979  max mem: 2612\n",
            "Epoch: [0]  [1960/2250]  eta: 0:07:34  lr: 0.005000  loss: 0.7581 (0.7212)  loss_classifier: 0.1955 (0.2051)  loss_box_reg: 0.3962 (0.4013)  loss_objectness: 0.0395 (0.0570)  loss_rpn_box_reg: 0.0609 (0.0578)  time: 1.5484  data: 0.8951  max mem: 2612\n",
            "Epoch: [0]  [1970/2250]  eta: 0:07:18  lr: 0.005000  loss: 0.6790 (0.7214)  loss_classifier: 0.1805 (0.2051)  loss_box_reg: 0.3909 (0.4014)  loss_objectness: 0.0401 (0.0571)  loss_rpn_box_reg: 0.0495 (0.0578)  time: 1.5471  data: 0.8944  max mem: 2612\n",
            "Epoch: [0]  [1980/2250]  eta: 0:07:02  lr: 0.005000  loss: 0.7803 (0.7215)  loss_classifier: 0.2050 (0.2051)  loss_box_reg: 0.4385 (0.4015)  loss_objectness: 0.0404 (0.0571)  loss_rpn_box_reg: 0.0447 (0.0578)  time: 1.5490  data: 0.8947  max mem: 2612\n",
            "Epoch: [0]  [1990/2250]  eta: 0:06:46  lr: 0.005000  loss: 0.7234 (0.7208)  loss_classifier: 0.1914 (0.2049)  loss_box_reg: 0.4038 (0.4012)  loss_objectness: 0.0298 (0.0570)  loss_rpn_box_reg: 0.0333 (0.0578)  time: 1.5461  data: 0.8931  max mem: 2612\n",
            "Epoch: [0]  [2000/2250]  eta: 0:06:31  lr: 0.005000  loss: 0.5911 (0.7209)  loss_classifier: 0.1899 (0.2050)  loss_box_reg: 0.3415 (0.4011)  loss_objectness: 0.0315 (0.0569)  loss_rpn_box_reg: 0.0352 (0.0579)  time: 1.5517  data: 0.8992  max mem: 2612\n",
            "Epoch: [0]  [2010/2250]  eta: 0:06:15  lr: 0.005000  loss: 0.7669 (0.7210)  loss_classifier: 0.1976 (0.2050)  loss_box_reg: 0.3944 (0.4011)  loss_objectness: 0.0457 (0.0570)  loss_rpn_box_reg: 0.0400 (0.0579)  time: 1.5530  data: 0.9000  max mem: 2612\n",
            "Epoch: [0]  [2020/2250]  eta: 0:05:59  lr: 0.005000  loss: 0.6351 (0.7212)  loss_classifier: 0.1893 (0.2050)  loss_box_reg: 0.3759 (0.4010)  loss_objectness: 0.0465 (0.0572)  loss_rpn_box_reg: 0.0424 (0.0580)  time: 1.5524  data: 0.9013  max mem: 2612\n",
            "Epoch: [0]  [2030/2250]  eta: 0:05:44  lr: 0.005000  loss: 0.6531 (0.7211)  loss_classifier: 0.1983 (0.2050)  loss_box_reg: 0.3547 (0.4010)  loss_objectness: 0.0218 (0.0570)  loss_rpn_box_reg: 0.0542 (0.0581)  time: 1.5519  data: 0.9008  max mem: 2612\n",
            "Epoch: [0]  [2040/2250]  eta: 0:05:28  lr: 0.005000  loss: 0.6833 (0.7213)  loss_classifier: 0.1958 (0.2051)  loss_box_reg: 0.4000 (0.4011)  loss_objectness: 0.0212 (0.0571)  loss_rpn_box_reg: 0.0368 (0.0581)  time: 1.5483  data: 0.8981  max mem: 2612\n",
            "Epoch: [0]  [2050/2250]  eta: 0:05:12  lr: 0.005000  loss: 0.6833 (0.7212)  loss_classifier: 0.1977 (0.2051)  loss_box_reg: 0.3960 (0.4010)  loss_objectness: 0.0401 (0.0570)  loss_rpn_box_reg: 0.0360 (0.0581)  time: 1.5477  data: 0.8975  max mem: 2612\n",
            "Epoch: [0]  [2060/2250]  eta: 0:04:57  lr: 0.005000  loss: 0.7142 (0.7216)  loss_classifier: 0.2083 (0.2052)  loss_box_reg: 0.4029 (0.4012)  loss_objectness: 0.0401 (0.0571)  loss_rpn_box_reg: 0.0406 (0.0582)  time: 1.5503  data: 0.8988  max mem: 2612\n",
            "Epoch: [0]  [2070/2250]  eta: 0:04:41  lr: 0.005000  loss: 0.7136 (0.7219)  loss_classifier: 0.2083 (0.2051)  loss_box_reg: 0.4029 (0.4011)  loss_objectness: 0.0597 (0.0574)  loss_rpn_box_reg: 0.0470 (0.0584)  time: 1.5481  data: 0.8982  max mem: 2612\n",
            "Epoch: [0]  [2080/2250]  eta: 0:04:25  lr: 0.005000  loss: 0.6202 (0.7215)  loss_classifier: 0.1704 (0.2049)  loss_box_reg: 0.3620 (0.4009)  loss_objectness: 0.0449 (0.0573)  loss_rpn_box_reg: 0.0429 (0.0583)  time: 1.5424  data: 0.8947  max mem: 2612\n",
            "Epoch: [0]  [2090/2250]  eta: 0:04:10  lr: 0.005000  loss: 0.6157 (0.7207)  loss_classifier: 0.1679 (0.2047)  loss_box_reg: 0.3713 (0.4006)  loss_objectness: 0.0183 (0.0571)  loss_rpn_box_reg: 0.0254 (0.0582)  time: 1.5440  data: 0.8943  max mem: 2612\n",
            "Epoch: [0]  [2100/2250]  eta: 0:03:54  lr: 0.005000  loss: 0.6236 (0.7205)  loss_classifier: 0.1701 (0.2047)  loss_box_reg: 0.3600 (0.4005)  loss_objectness: 0.0255 (0.0571)  loss_rpn_box_reg: 0.0304 (0.0582)  time: 1.5462  data: 0.8938  max mem: 2612\n",
            "Epoch: [0]  [2110/2250]  eta: 0:03:39  lr: 0.005000  loss: 0.7041 (0.7206)  loss_classifier: 0.1995 (0.2047)  loss_box_reg: 0.3600 (0.4005)  loss_objectness: 0.0468 (0.0572)  loss_rpn_box_reg: 0.0316 (0.0582)  time: 1.5463  data: 0.8935  max mem: 2612\n",
            "Epoch: [0]  [2120/2250]  eta: 0:03:23  lr: 0.005000  loss: 0.6827 (0.7202)  loss_classifier: 0.1788 (0.2046)  loss_box_reg: 0.3689 (0.4004)  loss_objectness: 0.0288 (0.0571)  loss_rpn_box_reg: 0.0272 (0.0581)  time: 1.5509  data: 0.8990  max mem: 2612\n",
            "Epoch: [0]  [2130/2250]  eta: 0:03:07  lr: 0.005000  loss: 0.6388 (0.7199)  loss_classifier: 0.1788 (0.2046)  loss_box_reg: 0.3527 (0.4001)  loss_objectness: 0.0288 (0.0571)  loss_rpn_box_reg: 0.0238 (0.0581)  time: 1.5471  data: 0.8970  max mem: 2612\n",
            "Epoch: [0]  [2140/2250]  eta: 0:02:52  lr: 0.005000  loss: 0.6378 (0.7193)  loss_classifier: 0.1879 (0.2044)  loss_box_reg: 0.3333 (0.3999)  loss_objectness: 0.0327 (0.0570)  loss_rpn_box_reg: 0.0288 (0.0579)  time: 1.5428  data: 0.8911  max mem: 2612\n",
            "Epoch: [0]  [2150/2250]  eta: 0:02:36  lr: 0.005000  loss: 0.6901 (0.7196)  loss_classifier: 0.2062 (0.2046)  loss_box_reg: 0.3913 (0.4001)  loss_objectness: 0.0307 (0.0570)  loss_rpn_box_reg: 0.0335 (0.0579)  time: 1.5490  data: 0.8939  max mem: 2612\n",
            "Epoch: [0]  [2160/2250]  eta: 0:02:20  lr: 0.005000  loss: 0.8287 (0.7209)  loss_classifier: 0.2241 (0.2049)  loss_box_reg: 0.4612 (0.4006)  loss_objectness: 0.0427 (0.0574)  loss_rpn_box_reg: 0.0475 (0.0580)  time: 1.5526  data: 0.8961  max mem: 2612\n",
            "Epoch: [0]  [2170/2250]  eta: 0:02:05  lr: 0.005000  loss: 0.8056 (0.7209)  loss_classifier: 0.2165 (0.2049)  loss_box_reg: 0.4566 (0.4006)  loss_objectness: 0.0427 (0.0574)  loss_rpn_box_reg: 0.0475 (0.0580)  time: 1.5562  data: 0.9012  max mem: 2612\n",
            "Epoch: [0]  [2180/2250]  eta: 0:01:49  lr: 0.005000  loss: 0.7875 (0.7215)  loss_classifier: 0.2026 (0.2051)  loss_box_reg: 0.3876 (0.4007)  loss_objectness: 0.0479 (0.0576)  loss_rpn_box_reg: 0.0602 (0.0581)  time: 1.5620  data: 0.9071  max mem: 2612\n",
            "Epoch: [0]  [2190/2250]  eta: 0:01:33  lr: 0.005000  loss: 0.7737 (0.7217)  loss_classifier: 0.2282 (0.2052)  loss_box_reg: 0.4250 (0.4009)  loss_objectness: 0.0497 (0.0576)  loss_rpn_box_reg: 0.0545 (0.0581)  time: 1.5592  data: 0.9024  max mem: 2612\n",
            "Epoch: [0]  [2200/2250]  eta: 0:01:18  lr: 0.005000  loss: 0.7094 (0.7219)  loss_classifier: 0.2175 (0.2052)  loss_box_reg: 0.4328 (0.4011)  loss_objectness: 0.0497 (0.0575)  loss_rpn_box_reg: 0.0401 (0.0580)  time: 1.5480  data: 0.8912  max mem: 2612\n",
            "Epoch: [0]  [2210/2250]  eta: 0:01:02  lr: 0.005000  loss: 0.7083 (0.7221)  loss_classifier: 0.2043 (0.2052)  loss_box_reg: 0.4114 (0.4010)  loss_objectness: 0.0578 (0.0577)  loss_rpn_box_reg: 0.0410 (0.0581)  time: 1.5538  data: 0.8910  max mem: 2612\n",
            "Epoch: [0]  [2220/2250]  eta: 0:00:46  lr: 0.005000  loss: 0.6963 (0.7220)  loss_classifier: 0.2007 (0.2052)  loss_box_reg: 0.3750 (0.4010)  loss_objectness: 0.0283 (0.0576)  loss_rpn_box_reg: 0.0313 (0.0581)  time: 1.5804  data: 0.9048  max mem: 2612\n",
            "Epoch: [0]  [2230/2250]  eta: 0:00:31  lr: 0.005000  loss: 0.5846 (0.7213)  loss_classifier: 0.1748 (0.2050)  loss_box_reg: 0.3508 (0.4008)  loss_objectness: 0.0139 (0.0575)  loss_rpn_box_reg: 0.0220 (0.0580)  time: 1.5982  data: 0.9081  max mem: 2612\n",
            "Epoch: [0]  [2240/2250]  eta: 0:00:15  lr: 0.005000  loss: 0.7182 (0.7219)  loss_classifier: 0.1888 (0.2052)  loss_box_reg: 0.4040 (0.4010)  loss_objectness: 0.0316 (0.0576)  loss_rpn_box_reg: 0.0285 (0.0581)  time: 1.6087  data: 0.9016  max mem: 2612\n",
            "Epoch: [0]  [2249/2250]  eta: 0:00:01  lr: 0.005000  loss: 0.8422 (0.7226)  loss_classifier: 0.2395 (0.2055)  loss_box_reg: 0.4474 (0.4014)  loss_objectness: 0.0423 (0.0576)  loss_rpn_box_reg: 0.0602 (0.0581)  time: 1.6153  data: 0.8985  max mem: 2612\n",
            "Epoch: [0] Total time: 0:58:40 (1.5647 s / it)\n",
            "creating index...\n",
            "index created!\n",
            "Test:  [  0/906]  eta: 0:06:40  model_time: 0.2073 (0.2073)  evaluator_time: 0.0128 (0.0128)  time: 0.4425  data: 0.2213  max mem: 2612\n",
            "Test:  [100/906]  eta: 0:03:30  model_time: 0.1606 (0.1583)  evaluator_time: 0.0090 (0.0133)  time: 0.2585  data: 0.0848  max mem: 2612\n",
            "Test:  [200/906]  eta: 0:03:03  model_time: 0.1659 (0.1595)  evaluator_time: 0.0097 (0.0129)  time: 0.2624  data: 0.0858  max mem: 2612\n",
            "Test:  [300/906]  eta: 0:02:38  model_time: 0.1599 (0.1603)  evaluator_time: 0.0081 (0.0126)  time: 0.2635  data: 0.0906  max mem: 2612\n",
            "Test:  [400/906]  eta: 0:02:12  model_time: 0.1612 (0.1608)  evaluator_time: 0.0087 (0.0126)  time: 0.2682  data: 0.0927  max mem: 2612\n",
            "Test:  [500/906]  eta: 0:01:46  model_time: 0.1690 (0.1613)  evaluator_time: 0.0085 (0.0125)  time: 0.2715  data: 0.0913  max mem: 2612\n",
            "Test:  [600/906]  eta: 0:01:20  model_time: 0.1585 (0.1615)  evaluator_time: 0.0104 (0.0124)  time: 0.2653  data: 0.0901  max mem: 2612\n",
            "Test:  [700/906]  eta: 0:00:54  model_time: 0.1666 (0.1619)  evaluator_time: 0.0115 (0.0124)  time: 0.2689  data: 0.0879  max mem: 2612\n",
            "Test:  [800/906]  eta: 0:00:27  model_time: 0.1644 (0.1619)  evaluator_time: 0.0069 (0.0125)  time: 0.2569  data: 0.0828  max mem: 2612\n",
            "Test:  [900/906]  eta: 0:00:01  model_time: 0.1646 (0.1620)  evaluator_time: 0.0089 (0.0126)  time: 0.2690  data: 0.0898  max mem: 2612\n",
            "Test:  [905/906]  eta: 0:00:00  model_time: 0.1645 (0.1620)  evaluator_time: 0.0087 (0.0126)  time: 0.2629  data: 0.0886  max mem: 2612\n",
            "Test: Total time: 0:03:58 (0.2628 s / it)\n",
            "Averaged stats: model_time: 0.1645 (0.1620)  evaluator_time: 0.0087 (0.0126)\n",
            "Accumulating evaluation results...\n",
            "DONE (t=2.09s).\n",
            "IoU metric: bbox\n",
            " Average Precision  (AP) @[ IoU=0.50:0.95 | area=   all | maxDets=100 ] = 0.284\n",
            " Average Precision  (AP) @[ IoU=0.50      | area=   all | maxDets=100 ] = 0.549\n",
            " Average Precision  (AP) @[ IoU=0.75      | area=   all | maxDets=100 ] = 0.245\n",
            " Average Precision  (AP) @[ IoU=0.50:0.95 | area= small | maxDets=100 ] = 0.216\n",
            " Average Precision  (AP) @[ IoU=0.50:0.95 | area=medium | maxDets=100 ] = 0.322\n",
            " Average Precision  (AP) @[ IoU=0.50:0.95 | area= large | maxDets=100 ] = 0.335\n",
            " Average Recall     (AR) @[ IoU=0.50:0.95 | area=   all | maxDets=  1 ] = 0.259\n",
            " Average Recall     (AR) @[ IoU=0.50:0.95 | area=   all | maxDets= 10 ] = 0.432\n",
            " Average Recall     (AR) @[ IoU=0.50:0.95 | area=   all | maxDets=100 ] = 0.472\n",
            " Average Recall     (AR) @[ IoU=0.50:0.95 | area= small | maxDets=100 ] = 0.360\n",
            " Average Recall     (AR) @[ IoU=0.50:0.95 | area=medium | maxDets=100 ] = 0.514\n",
            " Average Recall     (AR) @[ IoU=0.50:0.95 | area= large | maxDets=100 ] = 0.514\n"
          ]
        }
      ]
    },
    {
      "cell_type": "code",
      "source": [
        "faster_rcnn = torchvision.models.detection.fasterrcnn_resnet50_fpn(pretrained=True)\n",
        "faster_rcnn.to(device)\n",
        "evaluate(faster_rcnn, data_loader_test, device=device)"
      ],
      "metadata": {
        "colab": {
          "base_uri": "https://localhost:8080/"
        },
        "id": "09kVQ3UWKvql",
        "outputId": "fa4f43f9-cda9-4d2a-daca-a4a0f269537d"
      },
      "execution_count": null,
      "outputs": [
        {
          "output_type": "stream",
          "name": "stdout",
          "text": [
            "creating index...\n",
            "index created!\n",
            "Test:  [  0/906]  eta: 0:04:01  model_time: 0.1577 (0.1577)  evaluator_time: 0.0070 (0.0070)  time: 0.2662  data: 0.1005  max mem: 2612\n",
            "Test:  [100/906]  eta: 0:02:44  model_time: 0.1047 (0.1031)  evaluator_time: 0.0047 (0.0088)  time: 0.2019  data: 0.0877  max mem: 2612\n",
            "Test:  [200/906]  eta: 0:02:23  model_time: 0.1093 (0.1041)  evaluator_time: 0.0067 (0.0087)  time: 0.2043  data: 0.0876  max mem: 2612\n",
            "Test:  [300/906]  eta: 0:02:02  model_time: 0.1034 (0.1047)  evaluator_time: 0.0042 (0.0082)  time: 0.1978  data: 0.0849  max mem: 2612\n",
            "Test:  [400/906]  eta: 0:01:42  model_time: 0.1031 (0.1051)  evaluator_time: 0.0050 (0.0081)  time: 0.2032  data: 0.0884  max mem: 2612\n",
            "Test:  [500/906]  eta: 0:01:22  model_time: 0.1120 (0.1054)  evaluator_time: 0.0041 (0.0081)  time: 0.2064  data: 0.0863  max mem: 2612\n",
            "Test:  [600/906]  eta: 0:01:02  model_time: 0.1023 (0.1055)  evaluator_time: 0.0075 (0.0080)  time: 0.2102  data: 0.0958  max mem: 2612\n",
            "Test:  [700/906]  eta: 0:00:42  model_time: 0.1062 (0.1057)  evaluator_time: 0.0069 (0.0082)  time: 0.2097  data: 0.0904  max mem: 2612\n",
            "Test:  [800/906]  eta: 0:00:21  model_time: 0.1055 (0.1058)  evaluator_time: 0.0035 (0.0083)  time: 0.1977  data: 0.0825  max mem: 2612\n",
            "Test:  [900/906]  eta: 0:00:01  model_time: 0.1064 (0.1059)  evaluator_time: 0.0050 (0.0084)  time: 0.2109  data: 0.0929  max mem: 2612\n",
            "Test:  [905/906]  eta: 0:00:00  model_time: 0.1056 (0.1059)  evaluator_time: 0.0050 (0.0084)  time: 0.2074  data: 0.0932  max mem: 2612\n",
            "Test: Total time: 0:03:04 (0.2042 s / it)\n",
            "Averaged stats: model_time: 0.1056 (0.1059)  evaluator_time: 0.0050 (0.0084)\n",
            "Accumulating evaluation results...\n",
            "DONE (t=1.53s).\n",
            "IoU metric: bbox\n",
            " Average Precision  (AP) @[ IoU=0.50:0.95 | area=   all | maxDets=100 ] = 0.522\n",
            " Average Precision  (AP) @[ IoU=0.50      | area=   all | maxDets=100 ] = 0.781\n",
            " Average Precision  (AP) @[ IoU=0.75      | area=   all | maxDets=100 ] = 0.576\n",
            " Average Precision  (AP) @[ IoU=0.50:0.95 | area= small | maxDets=100 ] = 0.367\n",
            " Average Precision  (AP) @[ IoU=0.50:0.95 | area=medium | maxDets=100 ] = 0.550\n",
            " Average Precision  (AP) @[ IoU=0.50:0.95 | area= large | maxDets=100 ] = 0.620\n",
            " Average Recall     (AR) @[ IoU=0.50:0.95 | area=   all | maxDets=  1 ] = 0.388\n",
            " Average Recall     (AR) @[ IoU=0.50:0.95 | area=   all | maxDets= 10 ] = 0.604\n",
            " Average Recall     (AR) @[ IoU=0.50:0.95 | area=   all | maxDets=100 ] = 0.634\n",
            " Average Recall     (AR) @[ IoU=0.50:0.95 | area= small | maxDets=100 ] = 0.485\n",
            " Average Recall     (AR) @[ IoU=0.50:0.95 | area=medium | maxDets=100 ] = 0.669\n",
            " Average Recall     (AR) @[ IoU=0.50:0.95 | area= large | maxDets=100 ] = 0.708\n"
          ]
        },
        {
          "output_type": "execute_result",
          "data": {
            "text/plain": [
              "<coco_eval.CocoEvaluator at 0x7f9dbda4fd10>"
            ]
          },
          "metadata": {},
          "execution_count": 69
        }
      ]
    },
    {
      "cell_type": "markdown",
      "source": [
        "### Evaluation using standard COCO pipeline\n"
      ],
      "metadata": {
        "id": "jMNmFOpuW5g3"
      }
    },
    {
      "cell_type": "code",
      "source": [
        "def convert_torch_predictions(preds, det_id, s_id, w, h, classes):\n",
        "  # Convert the outputs of the torch model into a FiftyOne Detections object\n",
        "  dets = []\n",
        "  for bbox, label, score in zip(preds[\"boxes\"].cpu().detach().numpy(), preds[\"labels\"].cpu().detach().numpy(), preds[\"scores\"].cpu().detach().numpy()):\n",
        "    # Parse prediction into FiftyOne Detection object\n",
        "    x0,y0,x1,y1 = bbox\n",
        "    coco_obj = fouc.COCOObject(det_id, s_id, int(label), [x0, y0, x1-x0, y1-y0])\n",
        "    det = coco_obj.to_detection((w,h), classes)\n",
        "    det[\"confidence\"] = float(score)\n",
        "    dets.append(det)\n",
        "    det_id += 1\n",
        "        \n",
        "  detections = fo.Detections(detections=dets)\n",
        "      \n",
        "  return detections, det_id"
      ],
      "metadata": {
        "id": "PgGTVy4wW4J_"
      },
      "execution_count": null,
      "outputs": []
    },
    {
      "cell_type": "code",
      "source": [
        "def add_detections(model, torch_dataset, view, field_name=\"predictions\"):\n",
        "  # Run inference on a dataset and add results to FiftyOne\n",
        "  device = torch.device('cuda') if torch.cuda.is_available() else torch.device('cpu')\n",
        "\n",
        "  model.eval()\n",
        "  model.to(device)\n",
        "  image_paths = torch_dataset.img_paths\n",
        "  classes = torch_dataset.classes\n",
        "  det_id = 0\n",
        "  \n",
        "  print(\"Adding detections to FiftyOne view...\")\n",
        "  with fo.ProgressBar() as pb:\n",
        "    for img, targets in pb(torch_dataset):\n",
        "      # Get FiftyOne sample indexed by unique image filepath\n",
        "      img_id = int(targets[\"image_id\"][0])\n",
        "      img_path = image_paths[img_id]\n",
        "      sample = view[img_path]\n",
        "      s_id = sample.id\n",
        "      w = sample.metadata[\"width\"]\n",
        "      h = sample.metadata[\"height\"]\n",
        "      \n",
        "      # Inference\n",
        "      preds = model(img.unsqueeze(0).to(device))[0]\n",
        "      \n",
        "      detections, det_id = convert_torch_predictions(preds, det_id, s_id, w, h, classes)\n",
        "      \n",
        "      sample[field_name] = detections\n",
        "      sample.save()"
      ],
      "metadata": {
        "id": "Ly9V_8oyW4VF"
      },
      "execution_count": null,
      "outputs": []
    },
    {
      "cell_type": "code",
      "source": [
        "add_detections(model, torch_dataset_test, test_view)\n",
        "\n",
        "results = fo.evaluate_detections(test_view, \"predictions\", eval_key=\"eval\", compute_mAP=True) \n",
        "print(results.mAP())"
      ],
      "metadata": {
        "id": "p98hYoV0W43y",
        "colab": {
          "base_uri": "https://localhost:8080/"
        },
        "outputId": "89aeb503-f100-41e3-e380-77ca6b5f9b65"
      },
      "execution_count": null,
      "outputs": [
        {
          "output_type": "stream",
          "name": "stdout",
          "text": [
            "Adding detections to FiftyOne view...\n",
            " 100% |█████████████████| 906/906 [4.5m elapsed, 0s remaining, 3.4 samples/s]      \n",
            "Evaluating detections...\n",
            " 100% |█████████████████| 906/906 [1.3m elapsed, 0s remaining, 12.3 samples/s]      \n",
            "Performing IoU sweep...\n",
            " 100% |█████████████████| 906/906 [2.0m elapsed, 0s remaining, 6.9 samples/s]      \n",
            "0.29627496266118764\n"
          ]
        }
      ]
    },
    {
      "cell_type": "code",
      "source": [
        "results.plot_confusion_matrix()"
      ],
      "metadata": {
        "id": "2JGkH6w6W47I"
      },
      "execution_count": null,
      "outputs": []
    },
    {
      "cell_type": "code",
      "source": [
        "results.plot_pr_curves()"
      ],
      "metadata": {
        "id": "DNq6Pip6XNa1"
      },
      "execution_count": null,
      "outputs": []
    },
    {
      "cell_type": "code",
      "source": [
        "session.view = test_view"
      ],
      "metadata": {
        "id": "Tq2U_3DTW4-j"
      },
      "execution_count": null,
      "outputs": []
    },
    {
      "cell_type": "markdown",
      "source": [
        "## Different training approach (TODO evaluation)"
      ],
      "metadata": {
        "id": "XjqZ0AZrXS3_"
      }
    },
    {
      "cell_type": "markdown",
      "source": [
        "### Processing COCO dataset to Torch geometric data dataset"
      ],
      "metadata": {
        "id": "azbHCFYaWmA6"
      }
    },
    {
      "cell_type": "code",
      "source": [
        "%%shell\n",
        "\n",
        "cd ..\n",
        "rm -r /root/graph-data/train\n",
        "rm -r /root/graph-data/test"
      ],
      "metadata": {
        "id": "wVLjSdXyWm6n"
      },
      "execution_count": null,
      "outputs": []
    },
    {
      "cell_type": "code",
      "source": [
        "class TorchGemetricCocoRelationalGraphDataaset(pyg_data.Dataset):\n",
        "  def __init__(self, root, model, coco_loader, phase, transform=None, pre_transform=None, pre_filter=None):\n",
        "    if phase not in ['train', 'test']:\n",
        "      raise Exception(f\"Unexpected value for phase argument: '{phase}'. Expected 'train' or 'test'.\")\n",
        "    self._phase = phase\n",
        "    self._processed_file_names = []\n",
        "    self._model = model\n",
        "    self._coco_loader = coco_loader\n",
        "    super().__init__(root, transform, pre_transform, pre_filter)\n",
        "\n",
        "  @property\n",
        "  def processed_file_names(self):\n",
        "      return self._processed_file_names\n",
        "\n",
        "  def process(self):\n",
        "    batch_idx = 0\n",
        "\n",
        "    def build_saver(targets):\n",
        "      def saver(data, in_batch_idx):\n",
        "        data_idx = batch_idx + in_batch_idx\n",
        "        data.y = targets[in_batch_idx]\n",
        "        file_path = osp.join(self.processed_dir, f'data_{data_idx}.pt')\n",
        "        torch.save(data, file_path)\n",
        "        self._processed_file_names.append(file_path)\n",
        "      return saver\n",
        "\n",
        "    if self._phase == 'train':\n",
        "      self._model.train()\n",
        "    else:\n",
        "      self._model.eval()\n",
        "\n",
        "    self._model.to(device)\n",
        "\n",
        "    with fo.ProgressBar() as pb:\n",
        "      for images, targets in pb(self._coco_loader):\n",
        "        self._register_callback(build_saver(targets))\n",
        "        batch_size = len(images)\n",
        "        images = list(image.to(device) for image in images)\n",
        "        targets = [{k: v.to(device) for k, v in t.items()} for t in targets]\n",
        "        self._model(images, targets)\n",
        "        batch_idx += batch_size\n",
        "\n",
        "    self._register_callback()\n",
        "\n",
        "  def len(self):\n",
        "    return len(self._processed_file_names)\n",
        "\n",
        "  def get(self, idx):\n",
        "    data = torch.load(osp.join(self.processed_dir, f'data_{idx}.pt'))\n",
        "    return data\n",
        "\n",
        "  def _register_callback(self, callback=None):\n",
        "    self._model.roi_heads.box_head.gator_graph.on_data_created = callback"
      ],
      "metadata": {
        "id": "zaQRCNuUWnAW"
      },
      "execution_count": null,
      "outputs": []
    },
    {
      "cell_type": "code",
      "source": [
        "graph_dataset_train = TorchGemetricCocoRelationalGraphDataaset('/root/graph-data/train', model, data_loader_train, 'train')\n",
        "graph_dataset_test = TorchGemetricCocoRelationalGraphDataaset('/root/graph-data/test', model, data_loader_test, 'test')"
      ],
      "metadata": {
        "id": "2BcmhpliWpsj"
      },
      "execution_count": null,
      "outputs": []
    },
    {
      "cell_type": "markdown",
      "source": [
        "### Defining GATorHidra extension model for object detection"
      ],
      "metadata": {
        "id": "kKXbpvODQ9W7"
      }
    },
    {
      "cell_type": "code",
      "source": [
        "class GATorPredictor(nn.Module):\n",
        "  def __init__(self, in_channels, num_classes):\n",
        "    super(GATorPredictor, self).__init__()\n",
        "    self.cls_score = nn.Linear(in_channels, num_classes)\n",
        "    self.bbox_pred = nn.Linear(in_channels, num_classes * 4)\n",
        "\n",
        "  def forward(self, x):\n",
        "    if x.dim() == 4:\n",
        "      assert list(x.shape[2:]) == [1, 1]\n",
        "    x = x.flatten(start_dim=1)\n",
        "    scores = self.cls_score(x)\n",
        "    bbox_deltas = self.bbox_pred(x)\n",
        "    return scores, bbox_deltas"
      ],
      "metadata": {
        "id": "lcsNCkO5e7lX"
      },
      "execution_count": null,
      "outputs": []
    },
    {
      "cell_type": "code",
      "source": [
        "class GATorHidra(torchvision.models.detection.roi_heads.RoIHeads):\n",
        "  def __init__(self,\n",
        "      # GATor\n",
        "      gator_input_dim=1024,\n",
        "      gator_hidden_dim=1024,\n",
        "      gator_output_dim=1024,\n",
        "      gator_num_layers=2,\n",
        "      gator_num_heads=8,\n",
        "      gator_dropout=0.5,\n",
        "      gator_edge_dim=None,\n",
        "      gator_num_classes=91,\n",
        "      # Faster R-CNN training\n",
        "      fg_iou_thresh=0.5,\n",
        "      bg_iou_thresh=0.5,\n",
        "      batch_size_per_image=512,\n",
        "      positive_fraction=0.25,\n",
        "      bbox_reg_weights=None,\n",
        "      # Faster R-CNN inference\n",
        "      score_thresh=0.05,\n",
        "      nms_thresh=0.5,\n",
        "      detections_per_img=100,\n",
        "    ):\n",
        "    super(GATorHidra, self).__init__(\n",
        "        box_roi_pool=None,\n",
        "        box_head=None,\n",
        "        box_predictor=None,\n",
        "        # Faster R-CNN training\n",
        "        fg_iou_thresh=fg_iou_thresh,\n",
        "        bg_iou_thresh=bg_iou_thresh,\n",
        "        batch_size_per_image=batch_size_per_image,\n",
        "        positive_fraction=positive_fraction,\n",
        "        bbox_reg_weights=bbox_reg_weights,\n",
        "        # Faster R-CNN inference\n",
        "        score_thresh=score_thresh,\n",
        "        nms_thresh=nms_thresh,\n",
        "        detections_per_img=detections_per_img,\n",
        "    )\n",
        "\n",
        "    self.gator = GATor(input_dim=gator_input_dim,\n",
        "                       hidden_dim=gator_hidden_dim,\n",
        "                       output_dim=gator_output_dim,\n",
        "                       layers=gator_num_layers,\n",
        "                       heads=gator_num_heads, \n",
        "                       dropout=gator_dropout, \n",
        "                       edge_dim=gator_edge_dim)\n",
        "    self.predictor = GATorPredictor(in_channels=gator_output_dim, \n",
        "                                    num_classes=gator_num_classes)\n",
        "\n",
        "  def forward(self, data):\n",
        "    proposals, targets, image_shapes = data.boxes, data.y, data.image_shape\n",
        "    box_features = self.gator(data)\n",
        "    class_logits, box_regression = self.predictor(box_features)\n",
        "\n",
        "    if self.training:\n",
        "      proposals, matched_idxs, labels, regression_targets = self.select_training_samples(proposals, targets)\n",
        "      loss_classifier, loss_box_reg = fastrcnn_loss(class_logits, box_regression, labels, regression_targets)\n",
        "      return {\"loss_classifier\": loss_classifier, \"loss_box_reg\": loss_box_reg}\n",
        "    else:\n",
        "      boxes, scores, labels = self.postprocess_detections(class_logits, box_regression, proposals, image_shapes)\n",
        "      num_images = len(boxes)\n",
        "      result = []\n",
        "      for i in range(num_images):\n",
        "        result.append(\n",
        "            {\n",
        "              \"boxes\": boxes[i],\n",
        "              \"labels\": labels[i],\n",
        "              \"scores\": scores[i],\n",
        "            }\n",
        "        )\n",
        "      return result"
      ],
      "metadata": {
        "id": "QylQqKhENoUR"
      },
      "execution_count": null,
      "outputs": []
    },
    {
      "cell_type": "code",
      "source": [
        "gator_hidra = GATorHidra()\n",
        "gator_hidra.to(device)"
      ],
      "metadata": {
        "id": "fNmDNFDmdnOk"
      },
      "execution_count": null,
      "outputs": []
    },
    {
      "cell_type": "markdown",
      "source": [
        "### Novel training approach using our torch geometric dataset (only for chads)"
      ],
      "metadata": {
        "id": "GFaYy8dIVsOG"
      }
    },
    {
      "cell_type": "code",
      "source": [
        "def graph_collate_function(data_list):\n",
        "  batch = pyg_data.Batch.from_data_list(data_list)\n",
        "  y = [{k: v for k, v in data.y.items()} for data in data_list]\n",
        "  proposals = [data.boxes for data in data_list]\n",
        "  batch.y = y\n",
        "  batch.boxes = proposals\n",
        "  return batch"
      ],
      "metadata": {
        "id": "iYbxyztWVeX5"
      },
      "execution_count": null,
      "outputs": []
    },
    {
      "cell_type": "code",
      "source": [
        "class BatchingDataLoader(torch.utils.data.DataLoader):\n",
        "  def __init__(self, dataset, batch_size=1, shuffle=False, **kwargs):\n",
        "    super(BatchingDataLoader, self).__init__(dataset, batch_size, shuffle, collate_fn=graph_collate_function, **kwargs)"
      ],
      "metadata": {
        "id": "sxudu3NKVe8C"
      },
      "execution_count": null,
      "outputs": []
    },
    {
      "cell_type": "code",
      "source": [
        "pyg_data_loader_train = BatchingDataLoader(graph_dataset_train, batch_size=4, shuffle=False)\n",
        "pyg_data_loader_test = BatchingDataLoader(graph_dataset_test, batch_size=1)"
      ],
      "metadata": {
        "id": "CzBtW98XVhtD"
      },
      "execution_count": null,
      "outputs": []
    },
    {
      "cell_type": "code",
      "source": [
        "# https://github.com/pytorch/vision/blob/afda28accbc79035384952c0359f0e4de8454cb3/torchvision/models/detection/roi_heads.py\n",
        "\n",
        "def fastrcnn_loss(class_logits, box_regression, labels, regression_targets):\n",
        "  # type: (Tensor, Tensor, List[Tensor], List[Tensor]) -> Tuple[Tensor, Tensor]\n",
        "  \"\"\"\n",
        "  Computes the loss for Faster R-CNN.\n",
        "\n",
        "  Args:\n",
        "      class_logits (Tensor)\n",
        "      box_regression (Tensor)\n",
        "      labels (list[BoxList])\n",
        "      regression_targets (Tensor)\n",
        "\n",
        "  Returns:\n",
        "      classification_loss (Tensor)\n",
        "      box_loss (Tensor)\n",
        "  \"\"\"\n",
        "\n",
        "  labels = torch.cat(labels, dim=0)\n",
        "  regression_targets = torch.cat(regression_targets, dim=0)\n",
        "\n",
        "  classification_loss = F.cross_entropy(class_logits, labels)\n",
        "\n",
        "  # get indices that correspond to the regression targets for\n",
        "  # the corresponding ground truth labels, to be used with\n",
        "  # advanced indexing\n",
        "  sampled_pos_inds_subset = torch.where(labels > 0)[0]\n",
        "  labels_pos = labels[sampled_pos_inds_subset]\n",
        "  N, num_classes = class_logits.shape\n",
        "  box_regression = box_regression.reshape(N, box_regression.size(-1) // 4, 4)\n",
        "\n",
        "  box_loss = F.smooth_l1_loss(\n",
        "    box_regression[sampled_pos_inds_subset, labels_pos],\n",
        "    regression_targets[sampled_pos_inds_subset],\n",
        "    beta=1 / 9,\n",
        "    reduction=\"sum\",\n",
        "  )\n",
        "  box_loss = box_loss / labels.numel()\n",
        "\n",
        "  return classification_loss, box_loss"
      ],
      "metadata": {
        "id": "ubA0UcW4V8mX"
      },
      "execution_count": null,
      "outputs": []
    },
    {
      "cell_type": "code",
      "source": [
        "def train_one_epoch_geometric(model, optimizer, train_loader, device, epoch, print_freq=10):\n",
        "  model.train()\n",
        "  metric_logger = utils.MetricLogger(delimiter=\"  \")\n",
        "  metric_logger.add_meter('lr', utils.SmoothedValue(window_size=1, fmt='{value:.6f}'))\n",
        "  header = 'Epoch: [{}]'.format(epoch)\n",
        "\n",
        "  lr_scheduler = None\n",
        "  if epoch == 0:\n",
        "    warmup_factor = 1. / 1000\n",
        "    warmup_iters = min(1000, len(train_loader) - 1)\n",
        "\n",
        "    lr_scheduler = utils.warmup_lr_scheduler(optimizer, warmup_iters, warmup_factor)\n",
        "\n",
        "  for data_batch in metric_logger.log_every(train_loader, print_freq, header):\n",
        "    # Put batch to device\n",
        "    data_batch.y = [{k: v.to(device) for k, v in y.items()} for y in data_batch.y]\n",
        "    data_batch.x = data_batch.x.to(device)\n",
        "    data_batch.boxes = [box.to(device) for box in data_batch.boxes]\n",
        "    loss_dict = model(data_batch)\n",
        "\n",
        "    losses = sum(loss for loss in loss_dict.values())\n",
        "\n",
        "    # reduce losses over all GPUs for logging purposes\n",
        "    loss_dict_reduced = utils.reduce_dict(loss_dict)\n",
        "    losses_reduced = sum(loss for loss in loss_dict_reduced.values())\n",
        "\n",
        "    loss_value = losses_reduced.item()\n",
        "\n",
        "    if not math.isfinite(loss_value):\n",
        "      print(\"Loss is {}, stopping training\".format(loss_value))\n",
        "      print(loss_dict_reduced)\n",
        "      sys.exit(1)\n",
        "\n",
        "    optimizer.zero_grad()\n",
        "    losses.backward()\n",
        "    optimizer.step()\n",
        "\n",
        "    if lr_scheduler is not None:\n",
        "      lr_scheduler.step()\n",
        "\n",
        "    metric_logger.update(loss=losses_reduced, **loss_dict_reduced)\n",
        "    metric_logger.update(lr=optimizer.param_groups[0][\"lr\"])\n",
        "\n",
        "    return metric_logger"
      ],
      "metadata": {
        "id": "wFePOeiwUBi0"
      },
      "execution_count": null,
      "outputs": []
    },
    {
      "cell_type": "code",
      "source": [
        "def train_geometric(model, train_loader, test_loader, n_epochs):\n",
        "  device = torch.device('cuda') if torch.cuda.is_available() else torch.device('cpu')\n",
        "  model.train()\n",
        "  model.to(device)\n",
        "  params = [p for p in model.parameters() if p.requires_grad]\n",
        "  optimizer = torch.optim.SGD(params, lr=0.005, momentum=0.9, weight_decay=0.0005)\n",
        "\n",
        "  lr_scheduler = torch.optim.lr_scheduler.StepLR(optimizer,\n",
        "                                                step_size=3,\n",
        "                                                gamma=0.1)\n",
        "\n",
        "  for epoch in range(n_epochs):\n",
        "    # train for one epoch, printing every 10 iterations\n",
        "    train_one_epoch_geometric(model, optimizer, train_loader, device, epoch, print_freq=10)\n",
        "    # update the learning rate\n",
        "    lr_scheduler.step()\n",
        "    # evaluate on the test dataset\n",
        "    # evaluate(model, test_loader, device=device)"
      ],
      "metadata": {
        "id": "EPOppUdAREM_"
      },
      "execution_count": null,
      "outputs": []
    },
    {
      "cell_type": "code",
      "source": [
        "train_geometric(gator_hidra, pyg_data_loader_train, pyg_data_loader_test, n_epochs=10)"
      ],
      "metadata": {
        "id": "7iEcGmcQReVl"
      },
      "execution_count": null,
      "outputs": []
    },
    {
      "cell_type": "markdown",
      "source": [
        "### Evaluation using torch geometric graph dataset"
      ],
      "metadata": {
        "id": "F5szMt22XXqA"
      }
    },
    {
      "cell_type": "code",
      "source": [
        "## TODO"
      ],
      "metadata": {
        "id": "XQZOlMz464w3"
      },
      "execution_count": null,
      "outputs": []
    },
    {
      "cell_type": "code",
      "source": [
        "# ovde dodajem polje"
      ],
      "metadata": {
        "id": "D6joafIcgxdO"
      },
      "execution_count": null,
      "outputs": []
    },
    {
      "cell_type": "code",
      "source": [
        ""
      ],
      "metadata": {
        "id": "jWTcBbcCgzBf"
      },
      "execution_count": null,
      "outputs": []
    },
    {
      "cell_type": "code",
      "source": [
        "# proba pravljenja"
      ],
      "metadata": {
        "id": "6irALNX2hCxA"
      },
      "execution_count": null,
      "outputs": []
    },
    {
      "cell_type": "code",
      "source": [
        ""
      ],
      "metadata": {
        "id": "dgu-g8XehEvG"
      },
      "execution_count": null,
      "outputs": []
    },
    {
      "cell_type": "code",
      "source": [
        "#pravim novo polje da treniram na miru"
      ],
      "metadata": {
        "id": "JiDuLEPriqv4"
      },
      "execution_count": null,
      "outputs": []
    },
    {
      "cell_type": "code",
      "source": [
        ""
      ],
      "metadata": {
        "id": "fxkW9atHiu_L"
      },
      "execution_count": null,
      "outputs": []
    },
    {
      "cell_type": "code",
      "source": [
        "# kao kucam nesto da "
      ],
      "metadata": {
        "id": "_w36Dul8jNJE"
      },
      "execution_count": null,
      "outputs": []
    },
    {
      "cell_type": "code",
      "source": [
        ""
      ],
      "metadata": {
        "id": "zcbGZQnQjQeF"
      },
      "execution_count": null,
      "outputs": []
    },
    {
      "cell_type": "code",
      "source": [
        "# kao kucam nesto da "
      ],
      "metadata": {
        "id": "wKAvARsHjWlJ"
      },
      "execution_count": null,
      "outputs": []
    },
    {
      "cell_type": "code",
      "source": [
        ""
      ],
      "metadata": {
        "id": "PgWiRYXJjab6"
      },
      "execution_count": null,
      "outputs": []
    },
    {
      "cell_type": "code",
      "source": [
        "# kao kucam nesto da "
      ],
      "metadata": {
        "id": "nL1TO4fqk4l2"
      },
      "execution_count": null,
      "outputs": []
    },
    {
      "cell_type": "code",
      "source": [
        ""
      ],
      "metadata": {
        "id": "Sct3R9nok8aF"
      },
      "execution_count": null,
      "outputs": []
    },
    {
      "cell_type": "code",
      "source": [
        "o kucam nesto da "
      ],
      "metadata": {
        "colab": {
          "base_uri": "https://localhost:8080/",
          "height": 131
        },
        "id": "sI5rAxQ6lLCV",
        "outputId": "a15cad01-cc02-4144-b547-f56828b6a56a"
      },
      "execution_count": null,
      "outputs": [
        {
          "output_type": "error",
          "ename": "SyntaxError",
          "evalue": "ignored",
          "traceback": [
            "\u001b[0;36m  File \u001b[0;32m\"<ipython-input-8-772918a833ba>\"\u001b[0;36m, line \u001b[0;32m1\u001b[0m\n\u001b[0;31m    o kucam nesto da\u001b[0m\n\u001b[0m          ^\u001b[0m\n\u001b[0;31mSyntaxError\u001b[0m\u001b[0;31m:\u001b[0m invalid syntax\n"
          ]
        }
      ]
    },
    {
      "cell_type": "code",
      "source": [
        "# kao kucam nesto da "
      ],
      "metadata": {
        "id": "O5iTrqVCk-b6"
      },
      "execution_count": null,
      "outputs": []
    },
    {
      "cell_type": "code",
      "source": [
        ""
      ],
      "metadata": {
        "id": "2wqsRgRnlCQc"
      },
      "execution_count": null,
      "outputs": []
    },
    {
      "cell_type": "code",
      "source": [
        "# ka"
      ],
      "metadata": {
        "id": "0AVtZgVKlV6D"
      },
      "execution_count": null,
      "outputs": []
    },
    {
      "cell_type": "code",
      "source": [
        ""
      ],
      "metadata": {
        "id": "GLLOxeZUlZuJ"
      },
      "execution_count": null,
      "outputs": []
    },
    {
      "cell_type": "code",
      "source": [
        "# kao kucam nesto da "
      ],
      "metadata": {
        "id": "lEleK90-lbwB"
      },
      "execution_count": null,
      "outputs": []
    },
    {
      "cell_type": "code",
      "source": [
        ""
      ],
      "metadata": {
        "id": "i5T37yKflfk0"
      },
      "execution_count": null,
      "outputs": []
    },
    {
      "cell_type": "code",
      "source": [
        "# kao kucam nesto da goog"
      ],
      "metadata": {
        "id": "lJFekMNelhm2"
      },
      "execution_count": null,
      "outputs": []
    },
    {
      "cell_type": "code",
      "source": [
        ""
      ],
      "metadata": {
        "id": "Cf1BnYn3llcG"
      },
      "execution_count": null,
      "outputs": []
    },
    {
      "cell_type": "code",
      "source": [
        "# kao kucam nesto da "
      ],
      "metadata": {
        "id": "lnDhHMwDlzL3"
      },
      "execution_count": null,
      "outputs": []
    },
    {
      "cell_type": "code",
      "source": [
        ""
      ],
      "metadata": {
        "id": "aPzypmmfl3Bh"
      },
      "execution_count": null,
      "outputs": []
    }
  ]
}