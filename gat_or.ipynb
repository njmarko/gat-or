{
 "cells": [
  {
   "cell_type": "markdown",
   "metadata": {
    "colab_type": "text",
    "id": "view-in-github"
   },
   "source": [
    "<a href=\"https://colab.research.google.com/github/njmarko/gat-or/blob/master/gat_or.ipynb\" target=\"_parent\"><img src=\"https://colab.research.google.com/assets/colab-badge.svg\" alt=\"Open In Colab\"/></a>"
   ]
  },
  {
   "cell_type": "markdown",
   "metadata": {
    "id": "1PQbehGvj_kX"
   },
   "source": [
    "# GATor\n",
    "\n",
    "GATor is a Graph Attention Network for object detection with relational reasoning.\n",
    "\n",
    "### Authors:\n",
    " - Marko Njegomir\n",
    " - Dušan Erdeljan"
   ]
  },
  {
   "cell_type": "markdown",
   "metadata": {},
   "source": [
    "## OUR LOWBUDGET GPU"
   ]
  },
  {
   "cell_type": "code",
   "execution_count": 1,
   "metadata": {},
   "outputs": [
    {
     "data": {
      "text/plain": [
       "'Tesla V100-SXM2-16GB'"
      ]
     },
     "execution_count": 1,
     "metadata": {},
     "output_type": "execute_result"
    }
   ],
   "source": [
    "import torch\n",
    "torch.cuda.get_device_name(0)"
   ]
  },
  {
   "cell_type": "markdown",
   "metadata": {},
   "source": [
    "![My cpu is a nerual net processor. A learning computer](https://memegenerator.net/img/instances/62942383.jpg \"CPU\")"
   ]
  },
  {
   "cell_type": "markdown",
   "metadata": {
    "id": "BtzUQf4vkMsG"
   },
   "source": [
    "### Installing dependencies and downloading dataset"
   ]
  },
  {
   "cell_type": "code",
   "execution_count": 2,
   "metadata": {
    "colab": {
     "base_uri": "https://localhost:8080/"
    },
    "id": "UKwSnuW4L-jj",
    "outputId": "5cf6fbad-364a-4b60-d106-827bc8d5d92c"
   },
   "outputs": [
    {
     "name": "stdout",
     "output_type": "stream",
     "text": [
      "1.10.0\n",
      "Requirement already satisfied: fiftyone in /opt/conda/lib/python3.7/site-packages (0.14.3)\n",
      "Requirement already satisfied: Jinja2 in /opt/conda/lib/python3.7/site-packages (from fiftyone) (3.0.3)\n",
      "Requirement already satisfied: Pillow>=6.2 in /opt/conda/lib/python3.7/site-packages (from fiftyone) (8.4.0)\n",
      "Requirement already satisfied: psutil in /opt/conda/lib/python3.7/site-packages (from fiftyone) (5.8.0)\n",
      "Requirement already satisfied: xmltodict in /opt/conda/lib/python3.7/site-packages (from fiftyone) (0.12.0)\n",
      "Requirement already satisfied: mongoengine==0.20.0 in /opt/conda/lib/python3.7/site-packages (from fiftyone) (0.20.0)\n",
      "Requirement already satisfied: pprintpp in /opt/conda/lib/python3.7/site-packages (from fiftyone) (0.4.0)\n",
      "Requirement already satisfied: Deprecated in /opt/conda/lib/python3.7/site-packages (from fiftyone) (1.2.13)\n",
      "Requirement already satisfied: retrying in /opt/conda/lib/python3.7/site-packages (from fiftyone) (1.3.3)\n",
      "Requirement already satisfied: fiftyone-brain<0.8,>=0.7.3 in /opt/conda/lib/python3.7/site-packages (from fiftyone) (0.7.3)\n",
      "Requirement already satisfied: scikit-image in /opt/conda/lib/python3.7/site-packages (from fiftyone) (0.19.1)\n",
      "Requirement already satisfied: boto3 in /opt/conda/lib/python3.7/site-packages (from fiftyone) (1.20.41)\n",
      "Requirement already satisfied: matplotlib in /opt/conda/lib/python3.7/site-packages (from fiftyone) (3.5.1)\n",
      "Requirement already satisfied: PyYAML in /opt/conda/lib/python3.7/site-packages (from fiftyone) (6.0)\n",
      "Requirement already satisfied: packaging in /opt/conda/lib/python3.7/site-packages (from fiftyone) (21.3)\n",
      "Requirement already satisfied: pymongo<4,>=3.11 in /opt/conda/lib/python3.7/site-packages (from fiftyone) (3.12.3)\n",
      "Requirement already satisfied: future in /opt/conda/lib/python3.7/site-packages (from fiftyone) (0.18.2)\n",
      "Requirement already satisfied: scikit-learn in /opt/conda/lib/python3.7/site-packages (from fiftyone) (1.0.1)\n",
      "Requirement already satisfied: universal-analytics-python3<2,>=1.0.1 in /opt/conda/lib/python3.7/site-packages (from fiftyone) (1.1.1)\n",
      "Requirement already satisfied: kaleido in /opt/conda/lib/python3.7/site-packages (from fiftyone) (0.2.1)\n",
      "Requirement already satisfied: setuptools in /opt/conda/lib/python3.7/site-packages (from fiftyone) (59.6.0)\n",
      "Requirement already satisfied: voxel51-eta<0.7,>=0.6.2 in /opt/conda/lib/python3.7/site-packages (from fiftyone) (0.6.2.2)\n",
      "Requirement already satisfied: tabulate in /opt/conda/lib/python3.7/site-packages (from fiftyone) (0.8.9)\n",
      "Requirement already satisfied: opencv-python-headless in /opt/conda/lib/python3.7/site-packages (from fiftyone) (4.1.2.30)\n",
      "Requirement already satisfied: aiofiles in /opt/conda/lib/python3.7/site-packages (from fiftyone) (0.8.0)\n",
      "Requirement already satisfied: numpy in /opt/conda/lib/python3.7/site-packages (from fiftyone) (1.19.5)\n",
      "Requirement already satisfied: eventlet in /opt/conda/lib/python3.7/site-packages (from fiftyone) (0.33.0)\n",
      "Requirement already satisfied: pandas in /opt/conda/lib/python3.7/site-packages (from fiftyone) (1.3.5)\n",
      "Requirement already satisfied: plotly<5,>=4.14 in /opt/conda/lib/python3.7/site-packages (from fiftyone) (4.14.3)\n",
      "Requirement already satisfied: tornado<7,>=5.1.1 in /opt/conda/lib/python3.7/site-packages (from fiftyone) (6.1)\n",
      "Requirement already satisfied: argcomplete in /opt/conda/lib/python3.7/site-packages (from fiftyone) (1.12.3)\n",
      "Requirement already satisfied: motor<3,>=2.3 in /opt/conda/lib/python3.7/site-packages (from fiftyone) (2.5.1)\n",
      "Requirement already satisfied: pytz in /opt/conda/lib/python3.7/site-packages (from fiftyone) (2021.3)\n",
      "Requirement already satisfied: fiftyone-db<0.4,>=0.3 in /opt/conda/lib/python3.7/site-packages (from fiftyone) (0.3.0)\n",
      "Requirement already satisfied: scipy>=1.2.0 in /opt/conda/lib/python3.7/site-packages (from fiftyone-brain<0.8,>=0.7.3->fiftyone) (1.7.3)\n",
      "Requirement already satisfied: six in /opt/conda/lib/python3.7/site-packages (from plotly<5,>=4.14->fiftyone) (1.16.0)\n",
      "Requirement already satisfied: httpx>=0.10.0 in /opt/conda/lib/python3.7/site-packages (from universal-analytics-python3<2,>=1.0.1->fiftyone) (0.21.3)\n",
      "Requirement already satisfied: tzlocal in /opt/conda/lib/python3.7/site-packages (from voxel51-eta<0.7,>=0.6.2->fiftyone) (4.1)\n",
      "Requirement already satisfied: requests in /opt/conda/lib/python3.7/site-packages (from voxel51-eta<0.7,>=0.6.2->fiftyone) (2.26.0)\n",
      "Requirement already satisfied: dill in /opt/conda/lib/python3.7/site-packages (from voxel51-eta<0.7,>=0.6.2->fiftyone) (0.3.4)\n",
      "Requirement already satisfied: glob2 in /opt/conda/lib/python3.7/site-packages (from voxel51-eta<0.7,>=0.6.2->fiftyone) (0.7)\n",
      "Requirement already satisfied: ndjson in /opt/conda/lib/python3.7/site-packages (from voxel51-eta<0.7,>=0.6.2->fiftyone) (0.3.1)\n",
      "Requirement already satisfied: importlib-metadata in /opt/conda/lib/python3.7/site-packages (from voxel51-eta<0.7,>=0.6.2->fiftyone) (4.9.0)\n",
      "Requirement already satisfied: patool in /opt/conda/lib/python3.7/site-packages (from voxel51-eta<0.7,>=0.6.2->fiftyone) (1.12)\n",
      "Requirement already satisfied: python-dateutil in /opt/conda/lib/python3.7/site-packages (from voxel51-eta<0.7,>=0.6.2->fiftyone) (2.8.2)\n",
      "Requirement already satisfied: sortedcontainers in /opt/conda/lib/python3.7/site-packages (from voxel51-eta<0.7,>=0.6.2->fiftyone) (2.4.0)\n",
      "Requirement already satisfied: jmespath<1.0.0,>=0.7.1 in /opt/conda/lib/python3.7/site-packages (from boto3->fiftyone) (0.10.0)\n",
      "Requirement already satisfied: s3transfer<0.6.0,>=0.5.0 in /opt/conda/lib/python3.7/site-packages (from boto3->fiftyone) (0.5.0)\n",
      "Requirement already satisfied: botocore<1.24.0,>=1.23.41 in /opt/conda/lib/python3.7/site-packages (from boto3->fiftyone) (1.23.41)\n",
      "Requirement already satisfied: wrapt<2,>=1.10 in /opt/conda/lib/python3.7/site-packages (from Deprecated->fiftyone) (1.13.3)\n",
      "Requirement already satisfied: greenlet>=0.3 in /opt/conda/lib/python3.7/site-packages (from eventlet->fiftyone) (1.1.2)\n",
      "Requirement already satisfied: dnspython>=1.15.0 in /opt/conda/lib/python3.7/site-packages (from eventlet->fiftyone) (2.2.0)\n",
      "Requirement already satisfied: MarkupSafe>=2.0 in /opt/conda/lib/python3.7/site-packages (from Jinja2->fiftyone) (2.0.1)\n",
      "Requirement already satisfied: cycler>=0.10 in /opt/conda/lib/python3.7/site-packages (from matplotlib->fiftyone) (0.11.0)\n",
      "Requirement already satisfied: kiwisolver>=1.0.1 in /opt/conda/lib/python3.7/site-packages (from matplotlib->fiftyone) (1.3.2)\n",
      "Requirement already satisfied: pyparsing>=2.2.1 in /opt/conda/lib/python3.7/site-packages (from matplotlib->fiftyone) (3.0.6)\n",
      "Requirement already satisfied: fonttools>=4.22.0 in /opt/conda/lib/python3.7/site-packages (from matplotlib->fiftyone) (4.28.4)\n",
      "Requirement already satisfied: networkx>=2.2 in /opt/conda/lib/python3.7/site-packages (from scikit-image->fiftyone) (2.6.3)\n",
      "Requirement already satisfied: imageio>=2.4.1 in /opt/conda/lib/python3.7/site-packages (from scikit-image->fiftyone) (2.14.0)\n",
      "Requirement already satisfied: tifffile>=2019.7.26 in /opt/conda/lib/python3.7/site-packages (from scikit-image->fiftyone) (2021.11.2)\n",
      "Requirement already satisfied: PyWavelets>=1.1.1 in /opt/conda/lib/python3.7/site-packages (from scikit-image->fiftyone) (1.2.0)\n",
      "Requirement already satisfied: joblib>=0.11 in /opt/conda/lib/python3.7/site-packages (from scikit-learn->fiftyone) (1.0.1)\n",
      "Requirement already satisfied: threadpoolctl>=2.0.0 in /opt/conda/lib/python3.7/site-packages (from scikit-learn->fiftyone) (3.0.0)\n",
      "Requirement already satisfied: urllib3<1.27,>=1.25.4 in /opt/conda/lib/python3.7/site-packages (from botocore<1.24.0,>=1.23.41->boto3->fiftyone) (1.26.7)\n",
      "Requirement already satisfied: httpcore<0.15.0,>=0.14.0 in /opt/conda/lib/python3.7/site-packages (from httpx>=0.10.0->universal-analytics-python3<2,>=1.0.1->fiftyone) (0.14.5)\n",
      "Requirement already satisfied: sniffio in /opt/conda/lib/python3.7/site-packages (from httpx>=0.10.0->universal-analytics-python3<2,>=1.0.1->fiftyone) (1.2.0)\n",
      "Requirement already satisfied: rfc3986[idna2008]<2,>=1.3 in /opt/conda/lib/python3.7/site-packages (from httpx>=0.10.0->universal-analytics-python3<2,>=1.0.1->fiftyone) (1.5.0)\n",
      "Requirement already satisfied: certifi in /opt/conda/lib/python3.7/site-packages (from httpx>=0.10.0->universal-analytics-python3<2,>=1.0.1->fiftyone) (2021.10.8)\n",
      "Requirement already satisfied: charset-normalizer in /opt/conda/lib/python3.7/site-packages (from httpx>=0.10.0->universal-analytics-python3<2,>=1.0.1->fiftyone) (2.0.9)\n",
      "Requirement already satisfied: zipp>=0.5 in /opt/conda/lib/python3.7/site-packages (from importlib-metadata->voxel51-eta<0.7,>=0.6.2->fiftyone) (3.6.0)\n",
      "Requirement already satisfied: typing-extensions>=3.6.4 in /opt/conda/lib/python3.7/site-packages (from importlib-metadata->voxel51-eta<0.7,>=0.6.2->fiftyone) (4.0.1)\n",
      "Requirement already satisfied: idna<4,>=2.5 in /opt/conda/lib/python3.7/site-packages (from requests->voxel51-eta<0.7,>=0.6.2->fiftyone) (3.1)\n",
      "Requirement already satisfied: pytz-deprecation-shim in /opt/conda/lib/python3.7/site-packages (from tzlocal->voxel51-eta<0.7,>=0.6.2->fiftyone) (0.1.0.post0)\n",
      "Requirement already satisfied: backports.zoneinfo in /opt/conda/lib/python3.7/site-packages (from tzlocal->voxel51-eta<0.7,>=0.6.2->fiftyone) (0.2.1)\n",
      "Requirement already satisfied: h11<0.13,>=0.11 in /opt/conda/lib/python3.7/site-packages (from httpcore<0.15.0,>=0.14.0->httpx>=0.10.0->universal-analytics-python3<2,>=1.0.1->fiftyone) (0.12.0)\n",
      "Requirement already satisfied: anyio==3.* in /opt/conda/lib/python3.7/site-packages (from httpcore<0.15.0,>=0.14.0->httpx>=0.10.0->universal-analytics-python3<2,>=1.0.1->fiftyone) (3.4.0)\n",
      "Requirement already satisfied: tzdata in /opt/conda/lib/python3.7/site-packages (from pytz-deprecation-shim->tzlocal->voxel51-eta<0.7,>=0.6.2->fiftyone) (2021.5)\n",
      "Looking in links: https://data.pyg.org/whl/torch-1.10.0+cu113.html\n",
      "Requirement already satisfied: torch-scatter in /opt/conda/lib/python3.7/site-packages (2.0.9)\n",
      "Looking in links: https://data.pyg.org/whl/torch-1.10.0+cu113.html\n",
      "Requirement already satisfied: torch-sparse in /opt/conda/lib/python3.7/site-packages (0.6.12)\n",
      "Requirement already satisfied: scipy in /opt/conda/lib/python3.7/site-packages (from torch-sparse) (1.7.3)\n",
      "Requirement already satisfied: numpy<1.23.0,>=1.16.5 in /opt/conda/lib/python3.7/site-packages (from scipy->torch-sparse) (1.19.5)\n",
      "Requirement already satisfied: torch-geometric in /opt/conda/lib/python3.7/site-packages (2.0.3)\n",
      "Requirement already satisfied: numpy in /opt/conda/lib/python3.7/site-packages (from torch-geometric) (1.19.5)\n",
      "Requirement already satisfied: scikit-learn in /opt/conda/lib/python3.7/site-packages (from torch-geometric) (1.0.1)\n",
      "Requirement already satisfied: jinja2 in /opt/conda/lib/python3.7/site-packages (from torch-geometric) (3.0.3)\n",
      "Requirement already satisfied: pandas in /opt/conda/lib/python3.7/site-packages (from torch-geometric) (1.3.5)\n",
      "Requirement already satisfied: pyparsing in /opt/conda/lib/python3.7/site-packages (from torch-geometric) (3.0.6)\n",
      "Requirement already satisfied: yacs in /opt/conda/lib/python3.7/site-packages (from torch-geometric) (0.1.8)\n",
      "Requirement already satisfied: googledrivedownloader in /opt/conda/lib/python3.7/site-packages (from torch-geometric) (0.4)\n",
      "Requirement already satisfied: rdflib in /opt/conda/lib/python3.7/site-packages (from torch-geometric) (6.1.1)\n",
      "Requirement already satisfied: PyYAML in /opt/conda/lib/python3.7/site-packages (from torch-geometric) (6.0)\n",
      "Requirement already satisfied: scipy in /opt/conda/lib/python3.7/site-packages (from torch-geometric) (1.7.3)\n",
      "Requirement already satisfied: requests in /opt/conda/lib/python3.7/site-packages (from torch-geometric) (2.26.0)\n",
      "Requirement already satisfied: tqdm in /opt/conda/lib/python3.7/site-packages (from torch-geometric) (4.62.3)\n",
      "Requirement already satisfied: networkx in /opt/conda/lib/python3.7/site-packages (from torch-geometric) (2.6.3)\n",
      "Requirement already satisfied: MarkupSafe>=2.0 in /opt/conda/lib/python3.7/site-packages (from jinja2->torch-geometric) (2.0.1)\n",
      "Requirement already satisfied: python-dateutil>=2.7.3 in /opt/conda/lib/python3.7/site-packages (from pandas->torch-geometric) (2.8.2)\n",
      "Requirement already satisfied: pytz>=2017.3 in /opt/conda/lib/python3.7/site-packages (from pandas->torch-geometric) (2021.3)\n",
      "Requirement already satisfied: setuptools in /opt/conda/lib/python3.7/site-packages (from rdflib->torch-geometric) (59.6.0)\n",
      "Requirement already satisfied: importlib-metadata in /opt/conda/lib/python3.7/site-packages (from rdflib->torch-geometric) (4.9.0)\n",
      "Requirement already satisfied: isodate in /opt/conda/lib/python3.7/site-packages (from rdflib->torch-geometric) (0.6.1)\n",
      "Requirement already satisfied: charset-normalizer~=2.0.0 in /opt/conda/lib/python3.7/site-packages (from requests->torch-geometric) (2.0.9)\n",
      "Requirement already satisfied: idna<4,>=2.5 in /opt/conda/lib/python3.7/site-packages (from requests->torch-geometric) (3.1)\n",
      "Requirement already satisfied: urllib3<1.27,>=1.21.1 in /opt/conda/lib/python3.7/site-packages (from requests->torch-geometric) (1.26.7)\n",
      "Requirement already satisfied: certifi>=2017.4.17 in /opt/conda/lib/python3.7/site-packages (from requests->torch-geometric) (2021.10.8)\n",
      "Requirement already satisfied: joblib>=0.11 in /opt/conda/lib/python3.7/site-packages (from scikit-learn->torch-geometric) (1.0.1)\n",
      "Requirement already satisfied: threadpoolctl>=2.0.0 in /opt/conda/lib/python3.7/site-packages (from scikit-learn->torch-geometric) (3.0.0)\n",
      "Requirement already satisfied: six>=1.5 in /opt/conda/lib/python3.7/site-packages (from python-dateutil>=2.7.3->pandas->torch-geometric) (1.16.0)\n",
      "Requirement already satisfied: typing-extensions>=3.6.4 in /opt/conda/lib/python3.7/site-packages (from importlib-metadata->rdflib->torch-geometric) (4.0.1)\n",
      "Requirement already satisfied: zipp>=0.5 in /opt/conda/lib/python3.7/site-packages (from importlib-metadata->rdflib->torch-geometric) (3.6.0)\n",
      "Requirement already satisfied: pycocotools in /opt/conda/lib/python3.7/site-packages (2.0.4)\n",
      "Requirement already satisfied: matplotlib>=2.1.0 in /opt/conda/lib/python3.7/site-packages (from pycocotools) (3.5.1)\n",
      "Requirement already satisfied: numpy in /opt/conda/lib/python3.7/site-packages (from pycocotools) (1.19.5)\n",
      "Requirement already satisfied: pillow>=6.2.0 in /opt/conda/lib/python3.7/site-packages (from matplotlib>=2.1.0->pycocotools) (8.4.0)\n",
      "Requirement already satisfied: kiwisolver>=1.0.1 in /opt/conda/lib/python3.7/site-packages (from matplotlib>=2.1.0->pycocotools) (1.3.2)\n",
      "Requirement already satisfied: packaging>=20.0 in /opt/conda/lib/python3.7/site-packages (from matplotlib>=2.1.0->pycocotools) (21.3)\n",
      "Requirement already satisfied: python-dateutil>=2.7 in /opt/conda/lib/python3.7/site-packages (from matplotlib>=2.1.0->pycocotools) (2.8.2)\n",
      "Requirement already satisfied: pyparsing>=2.2.1 in /opt/conda/lib/python3.7/site-packages (from matplotlib>=2.1.0->pycocotools) (3.0.6)\n",
      "Requirement already satisfied: fonttools>=4.22.0 in /opt/conda/lib/python3.7/site-packages (from matplotlib>=2.1.0->pycocotools) (4.28.4)\n",
      "Requirement already satisfied: cycler>=0.10 in /opt/conda/lib/python3.7/site-packages (from matplotlib>=2.1.0->pycocotools) (0.11.0)\n",
      "Requirement already satisfied: six>=1.5 in /opt/conda/lib/python3.7/site-packages (from python-dateutil>=2.7->matplotlib>=2.1.0->pycocotools) (1.16.0)\n",
      "Requirement already satisfied: python-louvain in /opt/conda/lib/python3.7/site-packages (0.15)\n",
      "Requirement already satisfied: numpy in /opt/conda/lib/python3.7/site-packages (from python-louvain) (1.19.5)\n",
      "Requirement already satisfied: networkx in /opt/conda/lib/python3.7/site-packages (from python-louvain) (2.6.3)\n"
     ]
    }
   ],
   "source": [
    "!python -c \"import torch; print(torch.__version__)\"\n",
    "# These two command are used for googlecolab. They should not be run on cloud\n",
    "# !pip uninstall opencv-python-headless -y\n",
    "# !pip install opencv-python-headless==4.1.2.30\n",
    "\n",
    "!pip install fiftyone\n",
    "!pip install torch-scatter -f https://data.pyg.org/whl/torch-1.10.0+cu113.html\n",
    "!pip install torch-sparse -f https://data.pyg.org/whl/torch-1.10.0+cu113.html\n",
    "!pip install torch-geometric\n",
    "!pip install pycocotools\n",
    "!pip install python-louvain"
   ]
  },
  {
   "cell_type": "markdown",
   "metadata": {},
   "source": [
    "### Cloning TorchVision utilities"
   ]
  },
  {
   "cell_type": "code",
   "execution_count": 3,
   "metadata": {
    "id": "5FR4kjvz8heu"
   },
   "outputs": [
    {
     "name": "stdout",
     "output_type": "stream",
     "text": [
      "fatal: destination path 'vision' already exists and is not an empty directory.\r\n"
     ]
    }
   ],
   "source": [
    "# Download TorchVision repo to use some files from\n",
    "# references/detection\n",
    "!git clone https://github.com/pytorch/vision.git --branch  v0.8.2\n",
    "\n",
    "!cp vision/references/detection/utils.py ./\n",
    "!cp vision/references/detection/transforms.py ./\n",
    "!cp vision/references/detection/coco_eval.py ./\n",
    "!cp vision/references/detection/engine.py ./\n",
    "!cp vision/references/detection/coco_utils.py ./"
   ]
  },
  {
   "cell_type": "code",
   "execution_count": 2,
   "metadata": {
    "id": "XN38W3_Wkccv"
   },
   "outputs": [],
   "source": [
    "import fiftyone as fo\n",
    "import fiftyone.zoo as foz\n",
    "import fiftyone.utils.coco as fouc\n",
    "from fiftyone import ViewField as VF\n",
    "import numpy as np\n",
    "from itertools import product\n",
    "from tqdm import tqdm\n",
    "import seaborn as sns\n",
    "import networkx as nx\n",
    "import community as community_louvain\n",
    "import torchvision\n",
    "import torch\n",
    "import torch.nn as nn\n",
    "import torch.nn.functional as F\n",
    "from torch.utils.data import DataLoader\n",
    "import torchvision.transforms as T\n",
    "from torchvision.transforms import functional as TVF\n",
    "from torchvision.ops import box_iou\n",
    "from torchvision.ops import boxes as box_ops\n",
    "from PIL import Image\n",
    "import matplotlib.pylab as plt\n",
    "import matplotlib.patches as patches\n",
    "from matplotlib.pyplot import figure\n",
    "import torch_geometric as pyg\n",
    "import torch_geometric.data as pyg_data\n",
    "from torch_geometric.nn import GATConv, GATv2Conv, MessagePassing\n",
    "\n",
    "from engine import train_one_epoch, evaluate\n",
    "from transforms import Compose, ToTensor\n",
    "import utils\n",
    "\n",
    "import math\n",
    "import os\n",
    "import os.path as osp"
   ]
  },
  {
   "cell_type": "markdown",
   "metadata": {},
   "source": [
    "### Download COCO2017 train set"
   ]
  },
  {
   "cell_type": "code",
   "execution_count": 3,
   "metadata": {
    "colab": {
     "base_uri": "https://localhost:8080/"
    },
    "id": "PggQ7R73mOk9",
    "outputId": "58765394-a988-4e67-d20c-406e2885d847"
   },
   "outputs": [
    {
     "name": "stdout",
     "output_type": "stream",
     "text": [
      "Downloading split 'train' to '/home/njmarko1991/fiftyone/coco-2017/train' if necessary\n",
      "Found annotations at '/home/njmarko1991/fiftyone/coco-2017/raw/instances_train2017.json'\n",
      "Images already downloaded\n",
      "Existing download of split 'train' is sufficient\n",
      "Loading existing dataset 'coco-2017-train'. To reload from disk, either delete the existing dataset or provide a custom `dataset_name` to use\n"
     ]
    }
   ],
   "source": [
    "dataset = foz.load_zoo_dataset(\n",
    "    \"coco-2017\",\n",
    "    split=\"train\",\n",
    "#     max_samples=200,\n",
    ")\n",
    "dataset.persistent = True"
   ]
  },
  {
   "cell_type": "markdown",
   "metadata": {},
   "source": [
    "### Download COCO2017 validation set"
   ]
  },
  {
   "cell_type": "code",
   "execution_count": 4,
   "metadata": {},
   "outputs": [
    {
     "name": "stdout",
     "output_type": "stream",
     "text": [
      "Downloading split 'validation' to '/home/njmarko1991/fiftyone/coco-2017/validation' if necessary\n",
      "Found annotations at '/home/njmarko1991/fiftyone/coco-2017/raw/instances_val2017.json'\n",
      "Images already downloaded\n",
      "Existing download of split 'validation' is sufficient\n",
      "Loading existing dataset 'coco-2017-validation'. To reload from disk, either delete the existing dataset or provide a custom `dataset_name` to use\n"
     ]
    }
   ],
   "source": [
    "dataset_validation = foz.load_zoo_dataset(\n",
    "    \"coco-2017\",\n",
    "    split=\"validation\",\n",
    ")\n",
    "dataset_validation.persistent = True"
   ]
  },
  {
   "cell_type": "markdown",
   "metadata": {},
   "source": [
    "### Inspect dataset in Fiftyone client "
   ]
  },
  {
   "cell_type": "code",
   "execution_count": 5,
   "metadata": {},
   "outputs": [],
   "source": [
    "# session = fo.launch_app(dataset_validation)"
   ]
  },
  {
   "cell_type": "markdown",
   "metadata": {
    "id": "8fNrbUQOm5Xc"
   },
   "source": [
    "### Visualizing co-occurrence matrix"
   ]
  },
  {
   "cell_type": "code",
   "execution_count": 6,
   "metadata": {
    "colab": {
     "base_uri": "https://localhost:8080/"
    },
    "id": "rpwK7r_HmWjJ",
    "outputId": "1e78822d-cd6e-4399-b761-90a0da8aa76d"
   },
   "outputs": [],
   "source": [
    "class_names = ['background','person','bicycle','car','motorcycle','airplane','bus','train','truck','boat','traffic light','fire hydrant','street sign','stop sign','parking meter','bench','bird','cat','dog','horse',\n",
    "'sheep','cow','elephant','bear','zebra','giraffe','hat','backpack','umbrella','shoe','eye glasses','handbag','tie','suitcase','frisbee','skis','snowboard','sports ball','kite','baseball bat','baseball glove','skateboard',\n",
    "'surfboard','tennis racket','bottle','plate','wine glass','cup','fork','knife','spoon','bowl','banana','apple','sandwich','orange','broccoli','carrot','hot dog','pizza','donut','cake','chair','couch','potted plant','bed',\n",
    "'mirror','dining table','window','desk','toilet','door','tv','laptop','mouse','remote','keyboard','cell phone','microwave','oven','toaster','sink','refrigerator','blender','book','clock','vase','scissors','teddy bear',\n",
    "'hair drier','toothbrush','hair brush'\n",
    "]\n",
    "\n",
    "class_name_to_idx = {elem:idx for idx, elem in enumerate(class_names)}\n",
    "n_classes = len(class_names)"
   ]
  },
  {
   "cell_type": "code",
   "execution_count": 7,
   "metadata": {
    "colab": {
     "base_uri": "https://localhost:8080/",
     "height": 919
    },
    "id": "fA_VGr0roL5X",
    "outputId": "3c7548a9-a783-4fa1-86f4-7edf725b24b4"
   },
   "outputs": [],
   "source": [
    "# co_occurrence_matrix = np.zeros((n_classes, n_classes))\n",
    "\n",
    "# with fo.ProgressBar() as pb:\n",
    "#   for sample in pb(dataset):\n",
    "#     detections = sample.ground_truth.detections\n",
    "#     for attention_pair in product(detections, detections):\n",
    "#       i = class_name_to_idx[attention_pair[0].label]\n",
    "#       j = class_name_to_idx[attention_pair[1].label]\n",
    "#       co_occurrence_matrix[i][j] += 1\n",
    "#       co_occurrence_matrix[j][i] += 1\n",
    "\n",
    "# normalized_matrix = co_occurrence_matrix / np.amax(co_occurrence_matrix + 1.0, axis=1)\n",
    "\n",
    "# figure(figsize=(20, 20), dpi=80)\n",
    "# ax = sns.heatmap(normalized_matrix, linewidth=0.5, xticklabels=class_names, yticklabels=class_names, cmap=\"Blues\")\n",
    "# plt.show()"
   ]
  },
  {
   "cell_type": "markdown",
   "metadata": {
    "id": "pmsMpYrnrDUA"
   },
   "source": [
    "### Defining PyTorch dataset"
   ]
  },
  {
   "cell_type": "code",
   "execution_count": 8,
   "metadata": {
    "id": "_OC7C5JevCgq"
   },
   "outputs": [
    {
     "name": "stdout",
     "output_type": "stream",
     "text": [
      "cuda\n"
     ]
    }
   ],
   "source": [
    "device = torch.device('cuda') if torch.cuda.is_available() else torch.device('cpu')\n",
    "print(device)"
   ]
  },
  {
   "cell_type": "markdown",
   "metadata": {},
   "source": [
    "#### Resizing of input images and corresponding bbox targets"
   ]
  },
  {
   "cell_type": "code",
   "execution_count": 9,
   "metadata": {
    "id": "0f4N0hFYrmUq"
   },
   "outputs": [],
   "source": [
    "class Resize(object):\n",
    "  def __init__(self, size, interpolation=TVF.InterpolationMode.BILINEAR, max_size=None, antialias=None):\n",
    "    self.size = size\n",
    "    self.max_size = max_size\n",
    "    self.interpolation = interpolation\n",
    "    self.antialias = antialias\n",
    "\n",
    "  def __call__(self, image, target):\n",
    "    # Implemented rescaling in matrix form to speed up computation significantly \n",
    "    assert torch.is_tensor(image), \"Image is expected to be of type torch.tensor\"\n",
    "    original_shape = image.shape\n",
    "    image = TVF.resize(image, self.size, self.interpolation, self.max_size, self.antialias)\n",
    "    transformed_shape = image.shape\n",
    "    x_scale = transformed_shape[2] / original_shape[2]\n",
    "    y_scale = transformed_shape[1] / original_shape[1]\n",
    "    scale_tensor = torch.tensor([x_scale, y_scale]).repeat(target['boxes'].shape[0], 2)\n",
    "    target['boxes'] = torch.mul(target['boxes'], scale_tensor)\n",
    "    # Added ones to the target boxes width and high to ensure that bboxes would be at least 1x1 dim\n",
    "    target['boxes'] = target['boxes'] + torch.tensor([0.,0.,1.,1.])\n",
    "    return image, target"
   ]
  },
  {
   "cell_type": "markdown",
   "metadata": {},
   "source": [
    "#### Loading data in coco format"
   ]
  },
  {
   "cell_type": "code",
   "execution_count": 10,
   "metadata": {
    "id": "OhBWtDFwqdEU"
   },
   "outputs": [],
   "source": [
    "class TorchCocoDataset(torch.utils.data.Dataset):\n",
    "  def __init__(self, fiftyone_dataset, transforms=None, gt_field=\"ground_truth\"):\n",
    "    self.samples = fiftyone_dataset\n",
    "    self.transforms = transforms\n",
    "    self.gt_field = gt_field\n",
    "    self.img_paths = self.samples.values(\"filepath\")\n",
    "    self.classes = class_names\n",
    "    self.labels_map_rev = class_name_to_idx\n",
    "\n",
    "  def __getitem__(self, idx):\n",
    "    img_path = self.img_paths[idx]\n",
    "    sample = self.samples[img_path]\n",
    "    metadata = sample.metadata\n",
    "    img = Image.open(img_path).convert(\"RGB\")\n",
    "\n",
    "    boxes = []\n",
    "    labels = []\n",
    "    area = []\n",
    "    iscrowd = []\n",
    "    detections = sample[self.gt_field].detections\n",
    "\n",
    "    for det in detections:\n",
    "      category_id = self.labels_map_rev[det.label]\n",
    "      coco_obj = fouc.COCOObject.from_label(\n",
    "          det, metadata, category_id=category_id,\n",
    "      )\n",
    "      x, y, w, h = coco_obj.bbox\n",
    "      boxes.append([x, y, x + w, y + h])\n",
    "      labels.append(coco_obj.category_id)\n",
    "      area.append(coco_obj.area)\n",
    "      iscrowd.append(coco_obj.iscrowd)\n",
    "\n",
    "    target = {}\n",
    "    target[\"boxes\"] = torch.as_tensor(boxes, dtype=torch.float32)\n",
    "    target[\"labels\"] = torch.as_tensor(labels, dtype=torch.int64)\n",
    "    target[\"image_id\"] = torch.as_tensor([idx])\n",
    "    target[\"area\"] = torch.as_tensor(area, dtype=torch.float32)\n",
    "    target[\"iscrowd\"] = torch.as_tensor(iscrowd, dtype=torch.int64)\n",
    "\n",
    "    if self.transforms:\n",
    "        img, target = self.transforms(img, target)\n",
    "\n",
    "    return img, target\n",
    "\n",
    "  def __len__(self):\n",
    "    return len(self.img_paths)\n",
    "\n",
    "  def get_classes(self):\n",
    "    return self.classes"
   ]
  },
  {
   "cell_type": "markdown",
   "metadata": {},
   "source": [
    "#### Filtering out images with no bboxes and selecting train and validation split"
   ]
  },
  {
   "cell_type": "code",
   "execution_count": 11,
   "metadata": {
    "colab": {
     "base_uri": "https://localhost:8080/"
    },
    "id": "wKLyHQYlt-H_",
    "outputId": "4decc1b8-9a01-4da3-e3bd-aafd0ed9e7ac"
   },
   "outputs": [
    {
     "name": "stdout",
     "output_type": "stream",
     "text": [
      "Number of training samples: 117266\n",
      "Number of test samples: 4952\n"
     ]
    }
   ],
   "source": [
    "has_bounding_box_view = dataset.filter_labels(\n",
    "        \"ground_truth\",\n",
    "        VF(\"label\").is_in(class_names)\n",
    ")\n",
    "has_bounding_box_view_validation = dataset_validation.filter_labels(\n",
    "        \"ground_truth\",\n",
    "        VF(\"label\").is_in(class_names)\n",
    ")\n",
    "\n",
    "train_transforms = Compose([ToTensor()])\n",
    "test_transforms = Compose([ToTensor()])\n",
    "\n",
    "# # For testing quickly in colab (peasants without v100 only)\n",
    "# train_view = has_bounding_box_view.take(10000, seed=51)\n",
    "# test_view = has_bounding_box_view.exclude([s.id for s in train_view]).take(1000)\n",
    "\n",
    "# all images\n",
    "train_view = has_bounding_box_view\n",
    "test_view = has_bounding_box_view_validation\n",
    "\n",
    "print(f\"Number of training samples: {len(train_view)}\")\n",
    "print(f\"Number of test samples: {len(test_view)}\")\n",
    "\n",
    "torch_dataset_train = TorchCocoDataset(train_view, train_transforms)\n",
    "torch_dataset_test = TorchCocoDataset(test_view, test_transforms)"
   ]
  },
  {
   "cell_type": "markdown",
   "metadata": {},
   "source": [
    "#### Draw example image and bboxes to make sure that resize works"
   ]
  },
  {
   "cell_type": "code",
   "execution_count": 12,
   "metadata": {
    "id": "-YHMZA5MuYh4"
   },
   "outputs": [],
   "source": [
    "def draw_image_with_bounding_boxes(image, target):\n",
    "  fig, ax = plt.subplots()\n",
    "  ax.imshow(image.permute(1, 2, 0))\n",
    "  for box in target['boxes']:\n",
    "    x = box[0]\n",
    "    y = box[1]\n",
    "    h = box[2] - x\n",
    "    w = box[3] - y\n",
    "    rect = patches.Rectangle((x, y), h, w, linewidth=1, edgecolor='r', facecolor='none')\n",
    "    ax.add_patch(rect)\n",
    "  plt.show()"
   ]
  },
  {
   "cell_type": "code",
   "execution_count": 13,
   "metadata": {
    "colab": {
     "base_uri": "https://localhost:8080/",
     "height": 269
    },
    "id": "Bw-7xlh51xBd",
    "outputId": "76059553-0d40-46a9-e091-d6fb4a1c14e0"
   },
   "outputs": [
    {
     "data": {
      "image/png": "[encoded data removed]",
      "text/plain": [
       "<Figure size 432x288 with 1 Axes>"
      ]
     },
     "metadata": {
      "needs_background": "light"
     },
     "output_type": "display_data"
    }
   ],
   "source": [
    "draw_image_with_bounding_boxes(*torch_dataset_train[0])"
   ]
  },
  {
   "cell_type": "markdown",
   "metadata": {
    "id": "RTJ22qC9xJXc"
   },
   "source": [
    "### Defining the model"
   ]
  },
  {
   "cell_type": "markdown",
   "metadata": {},
   "source": [
    "#### Clustering algorithm for extracting global context data and adding it to the graph in form of virtual nodes and edges"
   ]
  },
  {
   "cell_type": "code",
   "execution_count": 14,
   "metadata": {},
   "outputs": [],
   "source": [
    "import matplotlib.cm as cm\n",
    "class GATorGPool(nn.Module):\n",
    "    \n",
    "    def __init__(self):\n",
    "        super(GATorGPool, self).__init__()\n",
    "        \n",
    "    def forward(self, graph):\n",
    "#         print(graph)\n",
    "#         print(graph.num_nodes)\n",
    "#         print(graph.num_edges)\n",
    "#         nx_graph = pyg.utils.to_networkx(graph, to_undirected=True)\n",
    "# #         nx.draw(nx_graph)\n",
    "# #         levels = community_louvain.generate_dendrogram(nx_graph)\n",
    "#         print(nx_graph)\n",
    "#         # compute the best partition\n",
    "#         partition = community_louvain.best_partition(nx_graph)\n",
    "#         print(max(partition.values()))\n",
    "#         nx.draw(nx_graph)\n",
    "#         print(partition)\n",
    "#         input(\"Press any key to continue\")\n",
    "#         # draw the graph\n",
    "#         pos = nx.spring_layout(nx_graph)\n",
    "#         # color the nodes according to their partition\n",
    "#         cmap = cm.get_cmap('viridis', max(partition.values()) + 1)\n",
    "#         nx.draw_networkx_nodes(nx_graph, pos, partition.keys(), node_size=40,\n",
    "#                                cmap=cmap, node_color=list(partition.values()))\n",
    "#         nx.draw_networkx_edges(nx_graph, pos, alpha=0.5)\n",
    "#         plt.show()\n",
    "#         print(levels)\n",
    "#         for level in levels:\n",
    "#             print(f\"==============================\\n{level}\\n=======================================\")\n",
    "        return graph\n",
    "        "
   ]
  },
  {
   "cell_type": "code",
   "execution_count": 15,
   "metadata": {},
   "outputs": [
    {
     "name": "stdout",
     "output_type": "stream",
     "text": [
      "{0: 0, 1: 0, 2: 1, 3: 2, 4: 3, 5: 4, 6: 5, 7: 6, 8: 7, 9: 8, 10: 8, 11: 9, 12: 10, 13: 1, 14: 11, 15: 12, 16: 9, 17: 13, 18: 0, 19: 9, 20: 15, 21: 16, 22: 3, 23: 0, 24: 17, 25: 18, 26: 3, 27: 19, 28: 20, 29: 21, 30: 1, 31: 0, 32: 22, 33: 0, 34: 23, 35: 24, 36: 25, 37: 26, 38: 9, 39: 27, 40: 28, 41: 29, 42: 7, 43: 0, 44: 30, 45: 0, 46: 27, 47: 30, 48: 4, 49: 31, 50: 12, 51: 32, 52: 33, 53: 10, 54: 34, 55: 24, 56: 1, 57: 35, 58: 36, 59: 27, 60: 34, 61: 0, 62: 37, 63: 37, 64: 10, 65: 29, 66: 38, 67: 10, 68: 39, 69: 40, 70: 41, 71: 42, 72: 43, 73: 44, 74: 42, 75: 0, 76: 42, 77: 8, 78: 9, 79: 10, 80: 27, 81: 10, 82: 32, 83: 45, 84: 8, 85: 46, 86: 27, 87: 1, 88: 32, 89: 9, 90: 3, 91: 5, 92: 8, 93: 47, 94: 48, 95: 16, 96: 10, 97: 14, 98: 10, 99: 9}\n"
     ]
    }
   ],
   "source": [
    "G = nx.erdos_renyi_graph(100, 0.01)\n",
    "partion = community_louvain.best_partition(G)\n",
    "print(partion)\n"
   ]
  },
  {
   "cell_type": "markdown",
   "metadata": {},
   "source": [
    "#### Building the graph from node embeddings and bboxes"
   ]
  },
  {
   "cell_type": "code",
   "execution_count": 16,
   "metadata": {
    "id": "kftiJY9CICT9"
   },
   "outputs": [],
   "source": [
    "class GATorGraph(object):\n",
    "  def __init__(self, on_data_created=None, method_name=\"simple_iou\"):\n",
    "    super(GATorGraph, self).__init__()\n",
    "#     self.graph_pool = GATorGPool()\n",
    "    self.on_data_created = on_data_created\n",
    "    self.edge_detection_method = self.select_edge_detetion_method(method_name)\n",
    "\n",
    "  def select_edge_detetion_method(self, method_name):\n",
    "    if method_name == \"simple_iou\":\n",
    "      return self.simple_box_iou_edge_detection\n",
    "    elif method_name == \"complex_distance_semantic\":\n",
    "      return self.complex_distance_semantic_edge_detection\n",
    "\n",
    "  \n",
    "  @torch.no_grad()\n",
    "  def __call__(self, x, batched_boxes, image_shapes):\n",
    "    # print(f\"GATorGraph: x shape before: {x.shape}\")\n",
    "    edges = []\n",
    "    for index, (boxes, image_shape) in enumerate(zip(batched_boxes, image_shapes)):\n",
    "      edge_list = self.edge_detection_method(boxes, x[index], image_shape)\n",
    "      # print(f\"GATorGraph: x shape in for loop: {x[index].shape}\") \n",
    "      # Deterministic edge creatinon (remove contiguous for stochastic sampling)\n",
    "      data = pyg_data.Data(x=x[index], edge_index=edge_list.t().contiguous(), boxes=boxes, image_shape=image_shape)\n",
    "#       data = self.graph_pool(data)\n",
    "#       print(f\"GATorGraph: data shape: {data}\")\n",
    "      if self.on_data_created:\n",
    "        self.on_data_created(data, index)\n",
    "      edges.append(data)\n",
    "\n",
    "    batched_edge_lists = pyg_data.Batch.from_data_list(edges)\n",
    "    # print(f\"GATorGraph: x shape after: {x.shape}\")\n",
    "    # print(f\"GATorGraph: data num nodes: {edges[0]}\")\n",
    "    return batched_edge_lists\n",
    "\n",
    "  def simple_box_iou_edge_detection(self, bboxes, _x, image_shape):\n",
    "      ious = box_iou(bboxes, bboxes)\n",
    "      ious = torch.tril(ious, diagonal=-1)\n",
    "      return (ious > 0.5).nonzero(as_tuple=False)\n",
    "\n",
    "\n",
    "  def complex_distance_semantic_edge_detection(self, bboxes, x, image_shape):\n",
    "\n",
    "    # central_boxes dim = (512,4)\n",
    "\n",
    "    # filter out overlapping boxes\n",
    "    ious = box_iou(bboxes, bboxes)\n",
    "    filter_mask = torch.where(ious > 0.8, 0, 1)\n",
    "    \n",
    "    semantic_similarity = self.calcualte_semantic_similarity(x, filter_mask)\n",
    "    # print(f\"GATorGraph: semantic_similarity shape: {semantic_similarity.shape}\")\n",
    "    # print(f\"GATorGraph: semantic_similarity count before filter: {len(semantic_similarity.nonzero(as_tuple=True)[0])}\")\n",
    "    spatial_relationships = self.calculate_complex_spatial_relationships(bboxes, image_shape, filter_mask)\n",
    "    # print(f\"GATorGraph: spatial_relationships shape: {semantic_similarity.shape}\")\n",
    "    # print(f\"GATorGraph: spatial_relationships count before filter: {len(spatial_relationships.nonzero(as_tuple=True)[0])}\")\n",
    "\n",
    "    edge_score = torch.add(semantic_similarity, spatial_relationships)\n",
    "    # print(f\"GATorGraph: edge_score shape: {semantic_similarity.shape}\")\n",
    "\n",
    "#     # filter out overlapping boxes\n",
    "#     ious = box_iou(bboxes, bboxes)\n",
    "#     filter_mask = torch.where(ious > 0.9, 0, 1)\n",
    "#     # print(f\"GATorGraph: edge_score count before filter: {len(edge_score.nonzero(as_tuple=True)[0])}\")\n",
    "#     filtered_scores = torch.mul(edge_score, filter_mask)\n",
    "    # print(f\"GATorGraph: edge_score count after filter: {len(filtered_scores.nonzero(as_tuple=True)[0])}\")\n",
    "\n",
    "    # chose only upper triange so there would be no duplicate edges because the graph is undirected\n",
    "#     edge_score = torch.tril(edge_score, diagonal=-1)\n",
    "\n",
    "    # TODO we should multiply the cosine_similarity and gauss_distance matrices\n",
    "    return edge_score.nonzero(as_tuple=False)\n",
    "\n",
    "  def calculate_complex_spatial_relationships(self, bboxes, image_shape, filter_mask, distance_threshold=0.5, topk=12):\n",
    "    # transform central_boxes coordinates into center coordinates\n",
    "    # TODO make a distance trheshold parameter\n",
    "    detection_distance = np.clip(np.sqrt(image_shape[0]**2 + image_shape[0]**2)/3, 200, 600)\n",
    "#     detection_distance = 250\n",
    "    centers = self.calculate_bbox_center(bboxes)\n",
    "    euclidean_distance = torch.cdist(bboxes, bboxes)\n",
    "    # constant to reduce the distance values\n",
    "    scaling_constant = np.log(distance_threshold)/(detection_distance)\n",
    "    gauss_distance = torch.exp(torch.mul(scaling_constant, euclidean_distance))\n",
    "\n",
    "    filtered_gauss_distances = torch.mul(gauss_distance, filter_mask)\n",
    "    \n",
    "    _, top_k_distances_indexes = torch.topk(filtered_gauss_distances, k=topk, dim= 1, largest=True)\n",
    "    dist_matrix = torch.scatter(torch.zeros(euclidean_distance.shape, device=device),1, top_k_distances_indexes, 1)\n",
    "    return dist_matrix\n",
    "\n",
    "  def calcualte_semantic_similarity(self, x, filter_mask):\n",
    "    # TODO we should generate a matrix of cosine similarities\n",
    "    # x shape = (512,1024)\n",
    "    # bboxes shape = (512, 4)\n",
    "    # out shape = (512, 512)\n",
    "    x_norm = x/x.norm(dim=1).unsqueeze(1)\n",
    "    cosine_similarity = torch.matmul(x_norm,x_norm.T)\n",
    "    # torch.set_printoptions(profile=\"default\")\n",
    "    # print(f\"GATorGraph: semantic_similarity matrix\\n: {cosine_similarity}\")\n",
    "    filtered_cosine_similarity = torch.mul(cosine_similarity, filter_mask)\n",
    "    cosine_similarity = torch.where(filtered_cosine_similarity > 0.9223145926, 1, 0)\n",
    "    return cosine_similarity\n",
    "\n",
    "  def calculate_bbox_center(self, bbox):\n",
    "    x = (bbox[:,0] + bbox[:,2])/2\n",
    "    # print(x)\n",
    "    y = (bbox[:,1] + bbox[:,3])/2\n",
    "    # print(y)\n",
    "    res = torch.concat((x.unsqueeze(1), y.unsqueeze(1)), dim=1)\n",
    "    # print(res)\n",
    "    return res\n"
   ]
  },
  {
   "cell_type": "markdown",
   "metadata": {},
   "source": [
    "#### Experimenting with various functions, operations and dimensions"
   ]
  },
  {
   "cell_type": "code",
   "execution_count": 17,
   "metadata": {
    "colab": {
     "base_uri": "https://localhost:8080/"
    },
    "id": "gDmUukN4v9vc",
    "outputId": "d3163785-97b9-4c35-8521-e701da740295"
   },
   "outputs": [
    {
     "name": "stdout",
     "output_type": "stream",
     "text": [
      "tensor([[0, 0, 0],\n",
      "        [4, 0, 0],\n",
      "        [7, 8, 0]])\n",
      "tensor([[  1.,  22.,  33.],\n",
      "        [ 44.,   5.,   6.],\n",
      "        [  7.,   8., 251.]])\n",
      "-0.0027725887222397813\n",
      "tensor([[0.9972, 0.9408, 0.9126],\n",
      "        [0.8852, 0.9862, 0.9835],\n",
      "        [0.9808, 0.9781, 0.4986]])\n",
      "tensor([[1., 1., 0.],\n",
      "        [0., 1., 1.],\n",
      "        [1., 1., 0.]])\n"
     ]
    }
   ],
   "source": [
    "t1 = torch.tensor([[1,2,3,4],[5,6,7,8]], dtype=torch.float)\n",
    "# print(t1)\n",
    "t2 = torch.tensor([[1,2,3,4],[5,6,7,8]], dtype=torch.float)\n",
    "# print(t2)\n",
    "# columns = (t1[:,2]/2 + t2[:,3]/2).unsqueeze(1)\n",
    "# print(columns)\n",
    "# x = (t1[:,0] + t1[:,2])/2\n",
    "# print(x)\n",
    "# y = (t1[:,1] + t1[:,3])/2\n",
    "# print(y)\n",
    "# res = torch.concat((x.unsqueeze(1), y.unsqueeze(1)), dim=1)\n",
    "# print(res)\n",
    "norm1 = t1/t1.norm(dim=1).unsqueeze(1)\n",
    "norm2 = t2/t2.norm(dim=1).unsqueeze(1)\n",
    "m = torch.matmul(norm1,norm1.T)\n",
    "# print(m)\n",
    "# sim = torch.cosine_similarity(torch.tensor([[1,2,3,4]],dtype=torch.float), torch.tensor([[5,6,7,8]],dtype=torch.float))\n",
    "# print(sim)\n",
    "# print(torch.mul(t1,t2))\n",
    "print(torch.tril(torch.tensor([[1,2,3],[4,5,6],[7,8,9]]), diagonal=-1))\n",
    "t3 = torch.tensor([[1,22,33],[44,5,6],[7,8,251]],dtype=torch.float)\n",
    "print(t3)\n",
    "k = np.log(0.5)/(250)\n",
    "print(k)\n",
    "gauss_distance = torch.exp(torch.mul(k, t3))\n",
    "print(gauss_distance)\n",
    "_, top_k_distances_indexes = torch.topk(gauss_distance,k=2, dim= 1, largest=True)\n",
    "dist_matrix = torch.scatter(torch.zeros(gauss_distance.shape),1, top_k_distances_indexes, 1.)\n",
    "print(dist_matrix)"
   ]
  },
  {
   "cell_type": "markdown",
   "metadata": {},
   "source": [
    "# Sanity check"
   ]
  },
  {
   "cell_type": "code",
   "execution_count": 18,
   "metadata": {
    "colab": {
     "base_uri": "https://localhost:8080/"
    },
    "id": "CNwHuHzgynCp",
    "outputId": "4f86e66c-d1c0-412f-c34b-3c8617856f55"
   },
   "outputs": [
    {
     "name": "stdout",
     "output_type": "stream",
     "text": [
      "AAAAAAAAAA\n"
     ]
    }
   ],
   "source": [
    "# Do not remove! Code doesn't work without it\n",
    "print(\"AAAAAAAAAA\")"
   ]
  },
  {
   "cell_type": "markdown",
   "metadata": {},
   "source": [
    "#### Main GAT stack module which processes image graph"
   ]
  },
  {
   "cell_type": "code",
   "execution_count": 19,
   "metadata": {
    "id": "F5ViSKT680Xt"
   },
   "outputs": [],
   "source": [
    "class GATor(nn.Module):\n",
    "  def __init__(self, input_dim, hidden_dim, output_dim, layers, heads, dropout, edge_dim=None, layer_type=\"GATv1\"):\n",
    "    super(GATor, self).__init__()\n",
    "    self.convs = nn.ModuleList()\n",
    "    self.gnn_layer = self.choose_gnn_layer(layer_type)\n",
    "    self.convs.append(self.gnn_layer(in_channels=input_dim, out_channels=hidden_dim, heads=heads, edge_dim=edge_dim))\n",
    "    for l in range(layers-1):\n",
    "      self.convs.append(self.gnn_layer(in_channels=heads * hidden_dim, out_channels=hidden_dim, heads=heads, edge_dim=edge_dim))\n",
    "    # post-message-passing\n",
    "    self.post_mp = nn.Sequential(\n",
    "      nn.Linear(heads * hidden_dim, hidden_dim), nn.Dropout(dropout), \n",
    "      nn.Linear(hidden_dim, output_dim))\n",
    "    self.dropout = dropout\n",
    "    self.num_layers = layers\n",
    "\n",
    "  def choose_gnn_layer(self, layer_type):\n",
    "    if layer_type == \"GATv1\":\n",
    "      return GATConv\n",
    "    elif layer_type == \"GATv2\":\n",
    "      return GATv2Conv\n",
    "    \n",
    "\n",
    "  def forward(self, data):\n",
    "    x, edge_index, batch = data.x, data.edge_index, data.batch\n",
    "    # print(f\"GATor x shape: {x.shape}\")  \n",
    "    # print(f\"GATor edge_index shape: {edge_index.shape}\")\n",
    "    for i in range(self.num_layers):\n",
    "      # print(f\"GATor current layer index: {i}\")\n",
    "      # print(f\"GATor current x shape: {x.shape}\")\n",
    "      x = self.convs[i](x, edge_index)\n",
    "      x = F.relu(x)\n",
    "      x = F.dropout(x, p=self.dropout, training=self.training)\n",
    "    x = self.post_mp(x)\n",
    "    return x"
   ]
  },
  {
   "cell_type": "markdown",
   "metadata": {},
   "source": [
    "#### Wrapper module which caches bboxes and image shapes that are required for graph creation"
   ]
  },
  {
   "cell_type": "code",
   "execution_count": 20,
   "metadata": {
    "id": "PNU5fMCOBbbL"
   },
   "outputs": [],
   "source": [
    "class MultiScaleRoIAlignWrapper(nn.Module):\n",
    "  def __init__(self, roi_align):\n",
    "    super(MultiScaleRoIAlignWrapper, self).__init__()\n",
    "    self.roi_align = roi_align\n",
    "\n",
    "  def forward(self, x, boxes, image_shapes):\n",
    "    # print(f\"MULTI SCALE ROI: X dictionary: {x}\")\n",
    "    # print(f\"MULTI SCALE ROI: boxes len: {len(boxes)}\")\n",
    "    # print(f\"MULTI SCALE ROI: boxe[0] shape: {boxes[0].shape}\")\n",
    "    # print(f\"MULTI SCALE ROI: image_shapes len: {len(image_shapes)}\")\n",
    "    # for a in x:\n",
    "    #   print(f\"MULTI SCALE ROI: shapes o elements in X: {a}\")\n",
    "    ret_val = self.roi_align(x, boxes, image_shapes)\n",
    "    # print(f\"MULTI SCALE ROI: retval: {ret_val}\")\n",
    "    # print(f\"MULTI SCALE ROI: retval shape: {ret_val.shape}\")\n",
    "    cached['boxes'] = boxes\n",
    "    cached['image_shapes'] = image_shapes\n",
    "    return ret_val"
   ]
  },
  {
   "cell_type": "markdown",
   "metadata": {},
   "source": [
    "#### Wrapper module which initializes graph creating that will be placed after the model outputs final embeddings"
   ]
  },
  {
   "cell_type": "code",
   "execution_count": 21,
   "metadata": {
    "id": "6sm1fgPfFTsX"
   },
   "outputs": [],
   "source": [
    "class TwoMLPHeadWrapper(nn.Module):\n",
    "  def __init__(self, box_head, gator_graph, gator):\n",
    "    super(TwoMLPHeadWrapper, self).__init__()\n",
    "    self.box_head = box_head\n",
    "    self.gator_graph = gator_graph\n",
    "    self.gator = gator\n",
    "\n",
    "  def forward(self, x):\n",
    "    # print(f\"TwoMLPHeadWrapper: x shape: {x.shape}\")\n",
    "    node_features = self.box_head(x)\n",
    "    # print(f\"TwoMLPHeadWrapper: node_features shape: {node_features.shape}\")\n",
    "    B = len(cached['boxes'])\n",
    "    graph = self.gator_graph(node_features.view(B,-1, node_features.shape[1]), cached['boxes'], cached['image_shapes'])\n",
    "    ret_val = self.gator(graph)\n",
    "    # print(f\"TwoMLPHeadWrapper: Evo me\")\n",
    "    return ret_val"
   ]
  },
  {
   "cell_type": "markdown",
   "metadata": {},
   "source": [
    "#### Graph message passing for custom layer building"
   ]
  },
  {
   "cell_type": "code",
   "execution_count": 22,
   "metadata": {
    "id": "DZ2EgdT6-x3_"
   },
   "outputs": [],
   "source": [
    "class GATorLayer(MessagePassing):\n",
    "\n",
    "    def __init__(self, in_channels, out_channels, heads = 2,\n",
    "                 negative_slope = 0.2, dropout = 0., **kwargs):\n",
    "        super(GAT, self).__init__(node_dim=0, **kwargs)\n",
    "\n",
    "        self.in_channels = in_channels\n",
    "        self.out_channels = out_channels\n",
    "        self.heads = heads\n",
    "        self.negative_slope = negative_slope\n",
    "        self.dropout = dropout\n",
    "\n",
    "        self.lin_l = None\n",
    "        self.lin_r = None\n",
    "        self.att_l = None\n",
    "        self.att_r = None\n",
    "        \n",
    "\n",
    "\n",
    "        self.lin_l = Linear(in_channels, out_channels*self.heads)\n",
    "\n",
    "\n",
    "        self.lin_r = self.lin_l\n",
    "\n",
    "\n",
    "        self.att_l = Parameter(torch.Tensor(1, self.heads, out_channels))\n",
    "        self.att_r = Parameter(torch.Tensor(1, self.heads, out_channels))\n",
    "        self.attention = Parameter(torch.Tensor(1, self.heads, out_channels))\n",
    "\n",
    "\n",
    "        self.reset_parameters()\n",
    "\n",
    "    def reset_parameters(self):\n",
    "        nn.init.xavier_uniform_(self.lin_l.weight)\n",
    "        nn.init.xavier_uniform_(self.lin_r.weight)\n",
    "        nn.init.xavier_uniform_(self.att_l)\n",
    "        nn.init.xavier_uniform_(self.att_r)\n",
    "\n",
    "    def forward(self, x, edge_index, size = None):\n",
    "        \n",
    "        H, C = self.heads, self.out_channels\n",
    "\n",
    "        # print(f\"\\n========Forward========\")\n",
    "        # print(f\"x shape: {x.shape}\")\n",
    "        # print(f\"Edge index shape {edge_index.shape}\")\n",
    "        # print(f\"att_l shape: {self.att_l.shape}\")\n",
    "        # print(f\"att_r shape: {self.att_r.shape}\")\n",
    "\n",
    "\n",
    "        wh_l = self.lin_r(x).view(-1, H, C)\n",
    "        wh_r = self.lin_r(x).view(-1, H, C)\n",
    "        # print(f\"whl shape: {wh_l.shape}\")\n",
    "        # print(f\"whr shape: {wh_r.shape}\")\n",
    "\n",
    "        alpha_l = wh_l\n",
    "        alpha_r = wh_r\n",
    "        # print(f\"alpha_l shape: {alpha_l.shape}\")\n",
    "        # print(f\"alpha_r shape: {alpha_r.shape}\")\n",
    "\n",
    "        out = self.propagate(edge_index,x=(wh_l, wh_r), size=size, alpha=(alpha_l, alpha_r))\n",
    "        # print(f\"Shape of propagate out: {out.shape}\")\n",
    "\n",
    "        out = out.view(-1, H*C)\n",
    "        # print(f\"Shape of out after shape transformation to [N, H*C]: {out.shape}\")\n",
    "\n",
    "        return out\n",
    "\n",
    "\n",
    "    def message(self, x_j, alpha_j, alpha_i, index, ptr, size_i):\n",
    "\n",
    "        # Because TwoMLPHead layer from FasterRCNN gives embeddings for region proposals\n",
    "        # that are generated to be ready for classification and regression\n",
    "        # we can just use cosine similarity between the nodes to determine semantic similarity\n",
    "        # If semantic similarity is high, the central node i should pay more attention to that message\n",
    "\n",
    "        # print(f\"\\n========Message funnction========\")\n",
    "        # print(f\"x_j shape: {x_j.shape}\")\n",
    "        # print(f\"Alpha_j shape: {alpha_j.shape}\")\n",
    "        # print(f\"Alpha_i shape: {alpha_i.shape}\")\n",
    "        # print(f\"Index: {index.shape}\")\n",
    "        # print(f\"ptr shape: {ptr}\")\n",
    "        # print(f\"size_i: {size_i}\")\n",
    "\n",
    "        # TODO select just rows from x_j based on index\n",
    "        # alpha_i should be the central node embedding\n",
    "        cos_sim = torch.nn.CosineSimilarity(alpha_i, x_j)\n",
    "\n",
    "        attention = torch.mul(cos_sim, x_j)\n",
    "\n",
    "        attention = softmax(attention, ptr if ptr else index)\n",
    "        attention = F.dropout(att, self.dropout)\n",
    "\n",
    "        out = attention\n",
    "        # print(f\"out shape from message function should be [E, H, C]: {out.shape}\")\n",
    "\n",
    "        return out\n",
    "\n",
    "\n",
    "    def aggregate(self, inputs, index, dim_size = None):\n",
    "\n",
    "        out = torch_scatter.scatter(inputs, index = index, dim = self.node_dim, dim_size = dim_size, reduce = \"sum\")\n",
    "    \n",
    "        return out"
   ]
  },
  {
   "cell_type": "markdown",
   "metadata": {},
   "source": [
    "### Building the model"
   ]
  },
  {
   "cell_type": "code",
   "execution_count": 23,
   "metadata": {
    "id": "1ARkkb2hIpVg"
   },
   "outputs": [],
   "source": [
    "def build_model():\n",
    "  model = torchvision.models.detection.fasterrcnn_resnet50_fpn(pretrained=True)\n",
    "  gator_graph = GATorGraph(method_name=\"complex_distance_semantic\")\n",
    "  gator = GATor(input_dim=1024, hidden_dim=1024, output_dim=1024, layers=2, heads=1, dropout=0.5, edge_dim=None, layer_type=\"GATv2\")\n",
    "  # gat = GATModule(model.roi_heads.box_head, gator_graph)\n",
    "  # model.rpn = RPNWrapper(model.rpn)\n",
    "  model.roi_heads.box_roi_pool = MultiScaleRoIAlignWrapper(model.roi_heads.box_roi_pool)\n",
    "  model.roi_heads.box_head = TwoMLPHeadWrapper(model.roi_heads.box_head, gator_graph, gator)\n",
    "  # model.box_predictor.reset_parameters()\n",
    "  # model.roi_heads.box_head = gat\n",
    "  return model"
   ]
  },
  {
   "cell_type": "code",
   "execution_count": 24,
   "metadata": {
    "colab": {
     "base_uri": "https://localhost:8080/",
     "height": 1000,
     "referenced_widgets": [
      "10dc5c906a68455e8ab9966d2ecc1bbe",
      "38d76333d35b4823b6de75f6e30d159a",
      "314b12ed64c044208a8ff2a6e4fdc59c",
      "d5ae0d02c3b844bdafdec479bdb159e7",
      "452cc2936c62488aae19aab38eca67f5",
      "ab2c3648905e4c769249c935ceaf5ec5",
      "cf47b4248ecd459280bbe9f9c313c035",
      "e013dd58a6274902a2df85eb8c00e31d",
      "8ccf33413b0a41f5b6dd6765f7689fbc",
      "69fc04dc526f4d7188b2e0ea62402d8c",
      "e7cdbe0e4c024ca8a50aa6b5a8606280"
     ]
    },
    "id": "kNaBSo_AxikF",
    "outputId": "6b1b3a49-2391-4398-bc03-6c7b5097e454"
   },
   "outputs": [
    {
     "data": {
      "text/plain": [
       "FasterRCNN(\n",
       "  (transform): GeneralizedRCNNTransform(\n",
       "      Normalize(mean=[0.485, 0.456, 0.406], std=[0.229, 0.224, 0.225])\n",
       "      Resize(min_size=(800,), max_size=1333, mode='bilinear')\n",
       "  )\n",
       "  (backbone): BackboneWithFPN(\n",
       "    (body): IntermediateLayerGetter(\n",
       "      (conv1): Conv2d(3, 64, kernel_size=(7, 7), stride=(2, 2), padding=(3, 3), bias=False)\n",
       "      (bn1): FrozenBatchNorm2d(64, eps=0.0)\n",
       "      (relu): ReLU(inplace=True)\n",
       "      (maxpool): MaxPool2d(kernel_size=3, stride=2, padding=1, dilation=1, ceil_mode=False)\n",
       "      (layer1): Sequential(\n",
       "        (0): Bottleneck(\n",
       "          (conv1): Conv2d(64, 64, kernel_size=(1, 1), stride=(1, 1), bias=False)\n",
       "          (bn1): FrozenBatchNorm2d(64, eps=0.0)\n",
       "          (conv2): Conv2d(64, 64, kernel_size=(3, 3), stride=(1, 1), padding=(1, 1), bias=False)\n",
       "          (bn2): FrozenBatchNorm2d(64, eps=0.0)\n",
       "          (conv3): Conv2d(64, 256, kernel_size=(1, 1), stride=(1, 1), bias=False)\n",
       "          (bn3): FrozenBatchNorm2d(256, eps=0.0)\n",
       "          (relu): ReLU(inplace=True)\n",
       "          (downsample): Sequential(\n",
       "            (0): Conv2d(64, 256, kernel_size=(1, 1), stride=(1, 1), bias=False)\n",
       "            (1): FrozenBatchNorm2d(256, eps=0.0)\n",
       "          )\n",
       "        )\n",
       "        (1): Bottleneck(\n",
       "          (conv1): Conv2d(256, 64, kernel_size=(1, 1), stride=(1, 1), bias=False)\n",
       "          (bn1): FrozenBatchNorm2d(64, eps=0.0)\n",
       "          (conv2): Conv2d(64, 64, kernel_size=(3, 3), stride=(1, 1), padding=(1, 1), bias=False)\n",
       "          (bn2): FrozenBatchNorm2d(64, eps=0.0)\n",
       "          (conv3): Conv2d(64, 256, kernel_size=(1, 1), stride=(1, 1), bias=False)\n",
       "          (bn3): FrozenBatchNorm2d(256, eps=0.0)\n",
       "          (relu): ReLU(inplace=True)\n",
       "        )\n",
       "        (2): Bottleneck(\n",
       "          (conv1): Conv2d(256, 64, kernel_size=(1, 1), stride=(1, 1), bias=False)\n",
       "          (bn1): FrozenBatchNorm2d(64, eps=0.0)\n",
       "          (conv2): Conv2d(64, 64, kernel_size=(3, 3), stride=(1, 1), padding=(1, 1), bias=False)\n",
       "          (bn2): FrozenBatchNorm2d(64, eps=0.0)\n",
       "          (conv3): Conv2d(64, 256, kernel_size=(1, 1), stride=(1, 1), bias=False)\n",
       "          (bn3): FrozenBatchNorm2d(256, eps=0.0)\n",
       "          (relu): ReLU(inplace=True)\n",
       "        )\n",
       "      )\n",
       "      (layer2): Sequential(\n",
       "        (0): Bottleneck(\n",
       "          (conv1): Conv2d(256, 128, kernel_size=(1, 1), stride=(1, 1), bias=False)\n",
       "          (bn1): FrozenBatchNorm2d(128, eps=0.0)\n",
       "          (conv2): Conv2d(128, 128, kernel_size=(3, 3), stride=(2, 2), padding=(1, 1), bias=False)\n",
       "          (bn2): FrozenBatchNorm2d(128, eps=0.0)\n",
       "          (conv3): Conv2d(128, 512, kernel_size=(1, 1), stride=(1, 1), bias=False)\n",
       "          (bn3): FrozenBatchNorm2d(512, eps=0.0)\n",
       "          (relu): ReLU(inplace=True)\n",
       "          (downsample): Sequential(\n",
       "            (0): Conv2d(256, 512, kernel_size=(1, 1), stride=(2, 2), bias=False)\n",
       "            (1): FrozenBatchNorm2d(512, eps=0.0)\n",
       "          )\n",
       "        )\n",
       "        (1): Bottleneck(\n",
       "          (conv1): Conv2d(512, 128, kernel_size=(1, 1), stride=(1, 1), bias=False)\n",
       "          (bn1): FrozenBatchNorm2d(128, eps=0.0)\n",
       "          (conv2): Conv2d(128, 128, kernel_size=(3, 3), stride=(1, 1), padding=(1, 1), bias=False)\n",
       "          (bn2): FrozenBatchNorm2d(128, eps=0.0)\n",
       "          (conv3): Conv2d(128, 512, kernel_size=(1, 1), stride=(1, 1), bias=False)\n",
       "          (bn3): FrozenBatchNorm2d(512, eps=0.0)\n",
       "          (relu): ReLU(inplace=True)\n",
       "        )\n",
       "        (2): Bottleneck(\n",
       "          (conv1): Conv2d(512, 128, kernel_size=(1, 1), stride=(1, 1), bias=False)\n",
       "          (bn1): FrozenBatchNorm2d(128, eps=0.0)\n",
       "          (conv2): Conv2d(128, 128, kernel_size=(3, 3), stride=(1, 1), padding=(1, 1), bias=False)\n",
       "          (bn2): FrozenBatchNorm2d(128, eps=0.0)\n",
       "          (conv3): Conv2d(128, 512, kernel_size=(1, 1), stride=(1, 1), bias=False)\n",
       "          (bn3): FrozenBatchNorm2d(512, eps=0.0)\n",
       "          (relu): ReLU(inplace=True)\n",
       "        )\n",
       "        (3): Bottleneck(\n",
       "          (conv1): Conv2d(512, 128, kernel_size=(1, 1), stride=(1, 1), bias=False)\n",
       "          (bn1): FrozenBatchNorm2d(128, eps=0.0)\n",
       "          (conv2): Conv2d(128, 128, kernel_size=(3, 3), stride=(1, 1), padding=(1, 1), bias=False)\n",
       "          (bn2): FrozenBatchNorm2d(128, eps=0.0)\n",
       "          (conv3): Conv2d(128, 512, kernel_size=(1, 1), stride=(1, 1), bias=False)\n",
       "          (bn3): FrozenBatchNorm2d(512, eps=0.0)\n",
       "          (relu): ReLU(inplace=True)\n",
       "        )\n",
       "      )\n",
       "      (layer3): Sequential(\n",
       "        (0): Bottleneck(\n",
       "          (conv1): Conv2d(512, 256, kernel_size=(1, 1), stride=(1, 1), bias=False)\n",
       "          (bn1): FrozenBatchNorm2d(256, eps=0.0)\n",
       "          (conv2): Conv2d(256, 256, kernel_size=(3, 3), stride=(2, 2), padding=(1, 1), bias=False)\n",
       "          (bn2): FrozenBatchNorm2d(256, eps=0.0)\n",
       "          (conv3): Conv2d(256, 1024, kernel_size=(1, 1), stride=(1, 1), bias=False)\n",
       "          (bn3): FrozenBatchNorm2d(1024, eps=0.0)\n",
       "          (relu): ReLU(inplace=True)\n",
       "          (downsample): Sequential(\n",
       "            (0): Conv2d(512, 1024, kernel_size=(1, 1), stride=(2, 2), bias=False)\n",
       "            (1): FrozenBatchNorm2d(1024, eps=0.0)\n",
       "          )\n",
       "        )\n",
       "        (1): Bottleneck(\n",
       "          (conv1): Conv2d(1024, 256, kernel_size=(1, 1), stride=(1, 1), bias=False)\n",
       "          (bn1): FrozenBatchNorm2d(256, eps=0.0)\n",
       "          (conv2): Conv2d(256, 256, kernel_size=(3, 3), stride=(1, 1), padding=(1, 1), bias=False)\n",
       "          (bn2): FrozenBatchNorm2d(256, eps=0.0)\n",
       "          (conv3): Conv2d(256, 1024, kernel_size=(1, 1), stride=(1, 1), bias=False)\n",
       "          (bn3): FrozenBatchNorm2d(1024, eps=0.0)\n",
       "          (relu): ReLU(inplace=True)\n",
       "        )\n",
       "        (2): Bottleneck(\n",
       "          (conv1): Conv2d(1024, 256, kernel_size=(1, 1), stride=(1, 1), bias=False)\n",
       "          (bn1): FrozenBatchNorm2d(256, eps=0.0)\n",
       "          (conv2): Conv2d(256, 256, kernel_size=(3, 3), stride=(1, 1), padding=(1, 1), bias=False)\n",
       "          (bn2): FrozenBatchNorm2d(256, eps=0.0)\n",
       "          (conv3): Conv2d(256, 1024, kernel_size=(1, 1), stride=(1, 1), bias=False)\n",
       "          (bn3): FrozenBatchNorm2d(1024, eps=0.0)\n",
       "          (relu): ReLU(inplace=True)\n",
       "        )\n",
       "        (3): Bottleneck(\n",
       "          (conv1): Conv2d(1024, 256, kernel_size=(1, 1), stride=(1, 1), bias=False)\n",
       "          (bn1): FrozenBatchNorm2d(256, eps=0.0)\n",
       "          (conv2): Conv2d(256, 256, kernel_size=(3, 3), stride=(1, 1), padding=(1, 1), bias=False)\n",
       "          (bn2): FrozenBatchNorm2d(256, eps=0.0)\n",
       "          (conv3): Conv2d(256, 1024, kernel_size=(1, 1), stride=(1, 1), bias=False)\n",
       "          (bn3): FrozenBatchNorm2d(1024, eps=0.0)\n",
       "          (relu): ReLU(inplace=True)\n",
       "        )\n",
       "        (4): Bottleneck(\n",
       "          (conv1): Conv2d(1024, 256, kernel_size=(1, 1), stride=(1, 1), bias=False)\n",
       "          (bn1): FrozenBatchNorm2d(256, eps=0.0)\n",
       "          (conv2): Conv2d(256, 256, kernel_size=(3, 3), stride=(1, 1), padding=(1, 1), bias=False)\n",
       "          (bn2): FrozenBatchNorm2d(256, eps=0.0)\n",
       "          (conv3): Conv2d(256, 1024, kernel_size=(1, 1), stride=(1, 1), bias=False)\n",
       "          (bn3): FrozenBatchNorm2d(1024, eps=0.0)\n",
       "          (relu): ReLU(inplace=True)\n",
       "        )\n",
       "        (5): Bottleneck(\n",
       "          (conv1): Conv2d(1024, 256, kernel_size=(1, 1), stride=(1, 1), bias=False)\n",
       "          (bn1): FrozenBatchNorm2d(256, eps=0.0)\n",
       "          (conv2): Conv2d(256, 256, kernel_size=(3, 3), stride=(1, 1), padding=(1, 1), bias=False)\n",
       "          (bn2): FrozenBatchNorm2d(256, eps=0.0)\n",
       "          (conv3): Conv2d(256, 1024, kernel_size=(1, 1), stride=(1, 1), bias=False)\n",
       "          (bn3): FrozenBatchNorm2d(1024, eps=0.0)\n",
       "          (relu): ReLU(inplace=True)\n",
       "        )\n",
       "      )\n",
       "      (layer4): Sequential(\n",
       "        (0): Bottleneck(\n",
       "          (conv1): Conv2d(1024, 512, kernel_size=(1, 1), stride=(1, 1), bias=False)\n",
       "          (bn1): FrozenBatchNorm2d(512, eps=0.0)\n",
       "          (conv2): Conv2d(512, 512, kernel_size=(3, 3), stride=(2, 2), padding=(1, 1), bias=False)\n",
       "          (bn2): FrozenBatchNorm2d(512, eps=0.0)\n",
       "          (conv3): Conv2d(512, 2048, kernel_size=(1, 1), stride=(1, 1), bias=False)\n",
       "          (bn3): FrozenBatchNorm2d(2048, eps=0.0)\n",
       "          (relu): ReLU(inplace=True)\n",
       "          (downsample): Sequential(\n",
       "            (0): Conv2d(1024, 2048, kernel_size=(1, 1), stride=(2, 2), bias=False)\n",
       "            (1): FrozenBatchNorm2d(2048, eps=0.0)\n",
       "          )\n",
       "        )\n",
       "        (1): Bottleneck(\n",
       "          (conv1): Conv2d(2048, 512, kernel_size=(1, 1), stride=(1, 1), bias=False)\n",
       "          (bn1): FrozenBatchNorm2d(512, eps=0.0)\n",
       "          (conv2): Conv2d(512, 512, kernel_size=(3, 3), stride=(1, 1), padding=(1, 1), bias=False)\n",
       "          (bn2): FrozenBatchNorm2d(512, eps=0.0)\n",
       "          (conv3): Conv2d(512, 2048, kernel_size=(1, 1), stride=(1, 1), bias=False)\n",
       "          (bn3): FrozenBatchNorm2d(2048, eps=0.0)\n",
       "          (relu): ReLU(inplace=True)\n",
       "        )\n",
       "        (2): Bottleneck(\n",
       "          (conv1): Conv2d(2048, 512, kernel_size=(1, 1), stride=(1, 1), bias=False)\n",
       "          (bn1): FrozenBatchNorm2d(512, eps=0.0)\n",
       "          (conv2): Conv2d(512, 512, kernel_size=(3, 3), stride=(1, 1), padding=(1, 1), bias=False)\n",
       "          (bn2): FrozenBatchNorm2d(512, eps=0.0)\n",
       "          (conv3): Conv2d(512, 2048, kernel_size=(1, 1), stride=(1, 1), bias=False)\n",
       "          (bn3): FrozenBatchNorm2d(2048, eps=0.0)\n",
       "          (relu): ReLU(inplace=True)\n",
       "        )\n",
       "      )\n",
       "    )\n",
       "    (fpn): FeaturePyramidNetwork(\n",
       "      (inner_blocks): ModuleList(\n",
       "        (0): Conv2d(256, 256, kernel_size=(1, 1), stride=(1, 1))\n",
       "        (1): Conv2d(512, 256, kernel_size=(1, 1), stride=(1, 1))\n",
       "        (2): Conv2d(1024, 256, kernel_size=(1, 1), stride=(1, 1))\n",
       "        (3): Conv2d(2048, 256, kernel_size=(1, 1), stride=(1, 1))\n",
       "      )\n",
       "      (layer_blocks): ModuleList(\n",
       "        (0): Conv2d(256, 256, kernel_size=(3, 3), stride=(1, 1), padding=(1, 1))\n",
       "        (1): Conv2d(256, 256, kernel_size=(3, 3), stride=(1, 1), padding=(1, 1))\n",
       "        (2): Conv2d(256, 256, kernel_size=(3, 3), stride=(1, 1), padding=(1, 1))\n",
       "        (3): Conv2d(256, 256, kernel_size=(3, 3), stride=(1, 1), padding=(1, 1))\n",
       "      )\n",
       "      (extra_blocks): LastLevelMaxPool()\n",
       "    )\n",
       "  )\n",
       "  (rpn): RegionProposalNetwork(\n",
       "    (anchor_generator): AnchorGenerator()\n",
       "    (head): RPNHead(\n",
       "      (conv): Conv2d(256, 256, kernel_size=(3, 3), stride=(1, 1), padding=(1, 1))\n",
       "      (cls_logits): Conv2d(256, 3, kernel_size=(1, 1), stride=(1, 1))\n",
       "      (bbox_pred): Conv2d(256, 12, kernel_size=(1, 1), stride=(1, 1))\n",
       "    )\n",
       "  )\n",
       "  (roi_heads): RoIHeads(\n",
       "    (box_roi_pool): MultiScaleRoIAlignWrapper(\n",
       "      (roi_align): MultiScaleRoIAlign(featmap_names=['0', '1', '2', '3'], output_size=(7, 7), sampling_ratio=2)\n",
       "    )\n",
       "    (box_head): TwoMLPHeadWrapper(\n",
       "      (box_head): TwoMLPHead(\n",
       "        (fc6): Linear(in_features=12544, out_features=1024, bias=True)\n",
       "        (fc7): Linear(in_features=1024, out_features=1024, bias=True)\n",
       "      )\n",
       "      (gator): GATor(\n",
       "        (convs): ModuleList(\n",
       "          (0): GATv2Conv(1024, 1024, heads=1)\n",
       "          (1): GATv2Conv(1024, 1024, heads=1)\n",
       "        )\n",
       "        (post_mp): Sequential(\n",
       "          (0): Linear(in_features=1024, out_features=1024, bias=True)\n",
       "          (1): Dropout(p=0.5, inplace=False)\n",
       "          (2): Linear(in_features=1024, out_features=1024, bias=True)\n",
       "        )\n",
       "      )\n",
       "    )\n",
       "    (box_predictor): FastRCNNPredictor(\n",
       "      (cls_score): Linear(in_features=1024, out_features=91, bias=True)\n",
       "      (bbox_pred): Linear(in_features=1024, out_features=364, bias=True)\n",
       "    )\n",
       "  )\n",
       ")"
      ]
     },
     "execution_count": 24,
     "metadata": {},
     "output_type": "execute_result"
    }
   ],
   "source": [
    "cached = {}\n",
    "model = build_model()\n",
    "model.to(device)"
   ]
  },
  {
   "cell_type": "markdown",
   "metadata": {
    "id": "-JLQATBxx1ZA"
   },
   "source": [
    "### Defining PyTorch dataloaders"
   ]
  },
  {
   "cell_type": "code",
   "execution_count": 25,
   "metadata": {
    "id": "cspE-mQk1MS5"
   },
   "outputs": [],
   "source": [
    "def collate_fn(batch):\n",
    "  return tuple(zip(*batch))"
   ]
  },
  {
   "cell_type": "code",
   "execution_count": 26,
   "metadata": {
    "id": "z5ONelLMx9s2"
   },
   "outputs": [],
   "source": [
    "data_loader_train = DataLoader(torch_dataset_train, batch_size=12, shuffle=True, collate_fn=collate_fn)\n",
    "data_loader_test = DataLoader(torch_dataset_test, batch_size=1, shuffle=False, collate_fn=collate_fn)"
   ]
  },
  {
   "cell_type": "markdown",
   "metadata": {
    "id": "oSHErrODx4_c"
   },
   "source": [
    "### Training using standard COCO training pipeline"
   ]
  },
  {
   "cell_type": "code",
   "execution_count": 27,
   "metadata": {
    "id": "bpFYMb_DIRXL"
   },
   "outputs": [],
   "source": [
    "def save_model(model, path):\n",
    "  torch.save(model.state_dict(), path)"
   ]
  },
  {
   "cell_type": "code",
   "execution_count": 28,
   "metadata": {
    "id": "yY3YPOCYyOgB"
   },
   "outputs": [],
   "source": [
    "def train(model, train_loader, test_loader, n_epochs, save_dir='models'):\n",
    "  if not osp.exists(save_dir):\n",
    "    os.mkdir(save_dir)\n",
    "  device = torch.device('cuda') if torch.cuda.is_available() else torch.device('cpu')\n",
    "  model.train()\n",
    "  for param in model.parameters():\n",
    "    param.requires_grad = False\n",
    "  for param in model.roi_heads.box_head.gator.parameters():\n",
    "    param.requires_grad = True\n",
    "  for param in model.roi_heads.box_predictor.parameters():\n",
    "    param.requires_grad = True\n",
    "  model.to(device)\n",
    "  params = [p for p in model.parameters() if p.requires_grad]\n",
    "#   optimizer = torch.optim.RAdam(params, lr=0.02)\n",
    "  optimizer = torch.optim.SGD(params, lr=0.02, momentum=0.9, weight_decay=0.0005)\n",
    "\n",
    "  lr_scheduler = torch.optim.lr_scheduler.StepLR(optimizer,\n",
    "                                                step_size=3,\n",
    "                                                gamma=0.1)\n",
    "\n",
    "  for epoch in range(n_epochs):\n",
    "    # train for one epoch, printing every 10 iterations\n",
    "    train_one_epoch(model, optimizer, train_loader, device, epoch, print_freq=10)\n",
    "    # update the learning rate\n",
    "    lr_scheduler.step()\n",
    "    \n",
    "    # save the state dict\n",
    "    torch.save(model.state_dict(), osp.join(save_dir, f'faster-rcnn-gator-epochs-{epoch}.pt'))\n",
    "    \n",
    "    # evaluate on the test dataset\n",
    "    evaluate(model, test_loader, device=device)\n"
   ]
  },
  {
   "cell_type": "markdown",
   "metadata": {},
   "source": [
    "# MAIN TRAINING CELL"
   ]
  },
  {
   "cell_type": "code",
   "execution_count": null,
   "metadata": {
    "colab": {
     "base_uri": "https://localhost:8080/",
     "height": 542
    },
    "id": "lkjjcTSwyiBF",
    "outputId": "c27d9bd5-8c7f-4053-f2c0-f43f803bfbbc"
   },
   "outputs": [
    {
     "name": "stderr",
     "output_type": "stream",
     "text": [
      "/opt/conda/lib/python3.7/site-packages/torch/functional.py:445: UserWarning: torch.meshgrid: in an upcoming release, it will be required to pass the indexing argument. (Triggered internally at  /opt/conda/conda-bld/pytorch_1634272178570/work/aten/src/ATen/native/TensorShape.cpp:2157.)\n",
      "  return _VF.meshgrid(tensors, **kwargs)  # type: ignore[attr-defined]\n"
     ]
    },
    {
     "name": "stdout",
     "output_type": "stream",
     "text": [
      "Epoch: [0]  [   0/9773]  eta: 3:38:24  lr: 0.000040  loss: 4.5652 (4.5652)  loss_classifier: 3.8810 (3.8810)  loss_box_reg: 0.6008 (0.6008)  loss_objectness: 0.0225 (0.0225)  loss_rpn_box_reg: 0.0609 (0.0609)  time: 1.3409  data: 0.1612  max mem: 7892\n",
      "Epoch: [0]  [  10/9773]  eta: 4:21:34  lr: 0.000240  loss: 4.1698 (4.0403)  loss_classifier: 3.5935 (3.4687)  loss_box_reg: 0.5109 (0.5127)  loss_objectness: 0.0128 (0.0157)  loss_rpn_box_reg: 0.0409 (0.0432)  time: 1.6075  data: 0.1611  max mem: 7947\n",
      "Epoch: [0]  [  20/9773]  eta: 4:13:06  lr: 0.000440  loss: 3.0648 (3.0876)  loss_classifier: 2.4035 (2.4974)  loss_box_reg: 0.5140 (0.5341)  loss_objectness: 0.0117 (0.0148)  loss_rpn_box_reg: 0.0402 (0.0412)  time: 1.5680  data: 0.1609  max mem: 7947\n",
      "Epoch: [0]  [  30/9773]  eta: 3:38:40  lr: 0.000639  loss: 1.8263 (2.7138)  loss_classifier: 1.2905 (2.1170)  loss_box_reg: 0.5221 (0.5377)  loss_objectness: 0.0122 (0.0176)  loss_rpn_box_reg: 0.0402 (0.0415)  time: 1.2032  data: 0.1619  max mem: 12297\n",
      "Epoch: [0]  [  40/9773]  eta: 3:20:37  lr: 0.000839  loss: 1.9222 (2.5225)  loss_classifier: 1.3154 (1.9125)  loss_box_reg: 0.5530 (0.5486)  loss_objectness: 0.0178 (0.0191)  loss_rpn_box_reg: 0.0410 (0.0423)  time: 0.9003  data: 0.1677  max mem: 12297\n",
      "Epoch: [0]  [  50/9773]  eta: 3:09:38  lr: 0.001039  loss: 1.8772 (2.3573)  loss_classifier: 1.1788 (1.7450)  loss_box_reg: 0.5594 (0.5528)  loss_objectness: 0.0162 (0.0185)  loss_rpn_box_reg: 0.0385 (0.0410)  time: 0.8969  data: 0.1683  max mem: 12297\n",
      "Epoch: [0]  [  60/9773]  eta: 3:02:14  lr: 0.001239  loss: 1.6673 (2.2432)  loss_classifier: 1.0403 (1.6240)  loss_box_reg: 0.5942 (0.5588)  loss_objectness: 0.0158 (0.0188)  loss_rpn_box_reg: 0.0370 (0.0416)  time: 0.8981  data: 0.1661  max mem: 12297\n",
      "Epoch: [0]  [  70/9773]  eta: 2:56:08  lr: 0.001439  loss: 1.5752 (2.1381)  loss_classifier: 0.9776 (1.5230)  loss_box_reg: 0.5412 (0.5535)  loss_objectness: 0.0163 (0.0190)  loss_rpn_box_reg: 0.0412 (0.0426)  time: 0.8822  data: 0.1659  max mem: 12297\n",
      "Epoch: [0]  [  80/9773]  eta: 2:52:01  lr: 0.001638  loss: 1.4035 (2.0596)  loss_classifier: 0.8488 (1.4452)  loss_box_reg: 0.5191 (0.5529)  loss_objectness: 0.0153 (0.0188)  loss_rpn_box_reg: 0.0412 (0.0428)  time: 0.8793  data: 0.1646  max mem: 12297\n",
      "Epoch: [0]  [  90/9773]  eta: 2:48:29  lr: 0.001838  loss: 1.4750 (2.0021)  loss_classifier: 0.8909 (1.3853)  loss_box_reg: 0.5412 (0.5538)  loss_objectness: 0.0131 (0.0188)  loss_rpn_box_reg: 0.0480 (0.0442)  time: 0.8840  data: 0.1711  max mem: 12297\n",
      "Epoch: [0]  [ 100/9773]  eta: 2:45:21  lr: 0.002038  loss: 1.4750 (1.9471)  loss_classifier: 0.8606 (1.3313)  loss_box_reg: 0.5427 (0.5524)  loss_objectness: 0.0149 (0.0189)  loss_rpn_box_reg: 0.0454 (0.0445)  time: 0.8669  data: 0.1746  max mem: 12297\n",
      "Epoch: [0]  [ 110/9773]  eta: 2:43:24  lr: 0.002238  loss: 1.4912 (1.9053)  loss_classifier: 0.8365 (1.2880)  loss_box_reg: 0.5705 (0.5536)  loss_objectness: 0.0136 (0.0188)  loss_rpn_box_reg: 0.0395 (0.0450)  time: 0.8808  data: 0.1718  max mem: 12297\n",
      "Epoch: [0]  [ 120/9773]  eta: 2:41:41  lr: 0.002438  loss: 1.4912 (1.8653)  loss_classifier: 0.8357 (1.2479)  loss_box_reg: 0.5612 (0.5521)  loss_objectness: 0.0161 (0.0195)  loss_rpn_box_reg: 0.0475 (0.0458)  time: 0.9009  data: 0.1708  max mem: 12297\n",
      "Epoch: [0]  [ 130/9773]  eta: 2:40:11  lr: 0.002637  loss: 1.4335 (1.8370)  loss_classifier: 0.7954 (1.2167)  loss_box_reg: 0.5570 (0.5544)  loss_objectness: 0.0191 (0.0198)  loss_rpn_box_reg: 0.0494 (0.0461)  time: 0.8972  data: 0.1689  max mem: 12297\n",
      "Epoch: [0]  [ 140/9773]  eta: 2:38:09  lr: 0.002837  loss: 1.4335 (1.8090)  loss_classifier: 0.7954 (1.1875)  loss_box_reg: 0.5677 (0.5550)  loss_objectness: 0.0228 (0.0204)  loss_rpn_box_reg: 0.0468 (0.0462)  time: 0.8647  data: 0.1667  max mem: 12297\n",
      "Epoch: [0]  [ 150/9773]  eta: 2:37:00  lr: 0.003037  loss: 1.3408 (1.7798)  loss_classifier: 0.7505 (1.1584)  loss_box_reg: 0.5447 (0.5552)  loss_objectness: 0.0224 (0.0202)  loss_rpn_box_reg: 0.0387 (0.0460)  time: 0.8625  data: 0.1665  max mem: 12297\n",
      "Epoch: [0]  [ 160/9773]  eta: 2:36:01  lr: 0.003237  loss: 1.3133 (1.7460)  loss_classifier: 0.6913 (1.1277)  loss_box_reg: 0.5385 (0.5519)  loss_objectness: 0.0167 (0.0203)  loss_rpn_box_reg: 0.0387 (0.0462)  time: 0.8942  data: 0.1646  max mem: 12297\n",
      "Epoch: [0]  [ 170/9773]  eta: 2:35:12  lr: 0.003437  loss: 1.3084 (1.7236)  loss_classifier: 0.6966 (1.1038)  loss_box_reg: 0.5241 (0.5526)  loss_objectness: 0.0191 (0.0209)  loss_rpn_box_reg: 0.0449 (0.0464)  time: 0.9005  data: 0.1664  max mem: 12297\n",
      "Epoch: [0]  [ 180/9773]  eta: 2:34:24  lr: 0.003636  loss: 1.2686 (1.6946)  loss_classifier: 0.6873 (1.0786)  loss_box_reg: 0.5239 (0.5489)  loss_objectness: 0.0191 (0.0207)  loss_rpn_box_reg: 0.0403 (0.0464)  time: 0.9006  data: 0.1736  max mem: 12297\n",
      "Epoch: [0]  [ 190/9773]  eta: 2:33:41  lr: 0.003836  loss: 1.2765 (1.6783)  loss_classifier: 0.6865 (1.0605)  loss_box_reg: 0.5314 (0.5504)  loss_objectness: 0.0156 (0.0206)  loss_rpn_box_reg: 0.0438 (0.0468)  time: 0.8980  data: 0.1749  max mem: 12297\n",
      "Epoch: [0]  [ 200/9773]  eta: 2:33:00  lr: 0.004036  loss: 1.4011 (1.6637)  loss_classifier: 0.7398 (1.0448)  loss_box_reg: 0.5793 (0.5522)  loss_objectness: 0.0156 (0.0205)  loss_rpn_box_reg: 0.0367 (0.0462)  time: 0.8983  data: 0.1681  max mem: 12297\n",
      "Epoch: [0]  [ 210/9773]  eta: 2:32:14  lr: 0.004236  loss: 1.2823 (1.6464)  loss_classifier: 0.7174 (1.0285)  loss_box_reg: 0.5307 (0.5515)  loss_objectness: 0.0139 (0.0204)  loss_rpn_box_reg: 0.0322 (0.0460)  time: 0.8877  data: 0.1650  max mem: 12297\n",
      "Epoch: [0]  [ 220/9773]  eta: 2:31:23  lr: 0.004436  loss: 1.2638 (1.6273)  loss_classifier: 0.6463 (1.0107)  loss_box_reg: 0.5307 (0.5505)  loss_objectness: 0.0163 (0.0203)  loss_rpn_box_reg: 0.0337 (0.0458)  time: 0.8690  data: 0.1682  max mem: 12297\n",
      "Epoch: [0]  [ 230/9773]  eta: 2:30:46  lr: 0.004635  loss: 1.3503 (1.6169)  loss_classifier: 0.7258 (0.9980)  loss_box_reg: 0.5624 (0.5524)  loss_objectness: 0.0165 (0.0204)  loss_rpn_box_reg: 0.0456 (0.0462)  time: 0.8715  data: 0.1714  max mem: 12297\n",
      "Epoch: [0]  [ 240/9773]  eta: 2:30:18  lr: 0.004835  loss: 1.3896 (1.6080)  loss_classifier: 0.7302 (0.9865)  loss_box_reg: 0.5869 (0.5539)  loss_objectness: 0.0204 (0.0204)  loss_rpn_box_reg: 0.0559 (0.0472)  time: 0.8927  data: 0.1712  max mem: 12297\n",
      "Epoch: [0]  [ 250/9773]  eta: 2:29:48  lr: 0.005035  loss: 1.2884 (1.5927)  loss_classifier: 0.6647 (0.9717)  loss_box_reg: 0.5472 (0.5532)  loss_objectness: 0.0186 (0.0203)  loss_rpn_box_reg: 0.0530 (0.0475)  time: 0.8973  data: 0.1691  max mem: 12297\n",
      "Epoch: [0]  [ 260/9773]  eta: 2:29:25  lr: 0.005235  loss: 1.2621 (1.5838)  loss_classifier: 0.6187 (0.9602)  loss_box_reg: 0.5629 (0.5544)  loss_objectness: 0.0215 (0.0208)  loss_rpn_box_reg: 0.0497 (0.0484)  time: 0.8993  data: 0.1740  max mem: 12297\n",
      "Epoch: [0]  [ 270/9773]  eta: 2:28:56  lr: 0.005435  loss: 1.2359 (1.5695)  loss_classifier: 0.6144 (0.9465)  loss_box_reg: 0.5654 (0.5540)  loss_objectness: 0.0197 (0.0206)  loss_rpn_box_reg: 0.0493 (0.0484)  time: 0.8965  data: 0.1722  max mem: 12297\n",
      "Epoch: [0]  [ 280/9773]  eta: 2:28:33  lr: 0.005634  loss: 1.2359 (1.5580)  loss_classifier: 0.6011 (0.9349)  loss_box_reg: 0.5599 (0.5545)  loss_objectness: 0.0137 (0.0204)  loss_rpn_box_reg: 0.0362 (0.0482)  time: 0.8928  data: 0.1672  max mem: 12297\n",
      "Epoch: [0]  [ 290/9773]  eta: 2:28:15  lr: 0.005834  loss: 1.2192 (1.5463)  loss_classifier: 0.5874 (0.9237)  loss_box_reg: 0.5545 (0.5543)  loss_objectness: 0.0164 (0.0205)  loss_rpn_box_reg: 0.0343 (0.0479)  time: 0.9061  data: 0.1675  max mem: 12297\n",
      "Epoch: [0]  [ 300/9773]  eta: 2:27:42  lr: 0.006034  loss: 1.2205 (1.5380)  loss_classifier: 0.5874 (0.9137)  loss_box_reg: 0.5413 (0.5550)  loss_objectness: 0.0218 (0.0208)  loss_rpn_box_reg: 0.0443 (0.0484)  time: 0.8878  data: 0.1717  max mem: 12297\n",
      "Epoch: [0]  [ 310/9773]  eta: 2:27:18  lr: 0.006234  loss: 1.2526 (1.5294)  loss_classifier: 0.5958 (0.9041)  loss_box_reg: 0.5429 (0.5562)  loss_objectness: 0.0218 (0.0208)  loss_rpn_box_reg: 0.0460 (0.0483)  time: 0.8746  data: 0.1746  max mem: 12297\n",
      "Epoch: [0]  [ 320/9773]  eta: 2:27:01  lr: 0.006434  loss: 1.1341 (1.5182)  loss_classifier: 0.5590 (0.8937)  loss_box_reg: 0.5267 (0.5554)  loss_objectness: 0.0177 (0.0206)  loss_rpn_box_reg: 0.0460 (0.0484)  time: 0.8971  data: 0.1750  max mem: 12297\n",
      "Epoch: [0]  [ 330/9773]  eta: 2:26:35  lr: 0.006633  loss: 1.1328 (1.5088)  loss_classifier: 0.5593 (0.8840)  loss_box_reg: 0.5242 (0.5559)  loss_objectness: 0.0148 (0.0205)  loss_rpn_box_reg: 0.0491 (0.0484)  time: 0.8912  data: 0.1757  max mem: 12297\n"
     ]
    }
   ],
   "source": [
    "train(model, data_loader_train, data_loader_test, n_epochs=3, save_dir='models_v4')"
   ]
  },
  {
   "cell_type": "code",
   "execution_count": 50,
   "metadata": {
    "colab": {
     "base_uri": "https://localhost:8080/",
     "height": 311
    },
    "id": "bsPPUvhFHSlm",
    "outputId": "6cbef455-f506-4278-a25b-d56009788e7f"
   },
   "outputs": [
    {
     "data": {
      "text/plain": [
       "<All keys matched successfully>"
      ]
     },
     "execution_count": 50,
     "metadata": {},
     "output_type": "execute_result"
    }
   ],
   "source": [
    "model.load_state_dict(torch.load('models_v2_iou08_k8_cosine094/faster-rcnn-gator-epochs-0.pt'))"
   ]
  },
  {
   "cell_type": "markdown",
   "metadata": {},
   "source": [
    "### Unmodified FasterRCNN evaluation results"
   ]
  },
  {
   "cell_type": "code",
   "execution_count": 34,
   "metadata": {
    "colab": {
     "base_uri": "https://localhost:8080/"
    },
    "id": "09kVQ3UWKvql",
    "outputId": "fa4f43f9-cda9-4d2a-daca-a4a0f269537d"
   },
   "outputs": [
    {
     "name": "stdout",
     "output_type": "stream",
     "text": [
      "creating index...\n",
      "index created!\n",
      "Test:  [   0/4952]  eta: 0:12:03  model_time: 0.0512 (0.0512)  evaluator_time: 0.0148 (0.0148)  time: 0.1461  data: 0.0791  max mem: 4510\n",
      "Test:  [ 100/4952]  eta: 0:07:26  model_time: 0.0400 (0.0412)  evaluator_time: 0.0066 (0.0084)  time: 0.0968  data: 0.0474  max mem: 4510\n",
      "Test:  [ 200/4952]  eta: 0:07:20  model_time: 0.0415 (0.0412)  evaluator_time: 0.0051 (0.0085)  time: 0.0913  data: 0.0393  max mem: 4510\n",
      "Test:  [ 300/4952]  eta: 0:07:10  model_time: 0.0424 (0.0412)  evaluator_time: 0.0062 (0.0085)  time: 0.1003  data: 0.0471  max mem: 4510\n",
      "Test:  [ 400/4952]  eta: 0:07:03  model_time: 0.0416 (0.0413)  evaluator_time: 0.0055 (0.0084)  time: 0.0892  data: 0.0397  max mem: 4510\n",
      "Test:  [ 500/4952]  eta: 0:06:50  model_time: 0.0401 (0.0413)  evaluator_time: 0.0056 (0.0083)  time: 0.0911  data: 0.0417  max mem: 4510\n",
      "Test:  [ 600/4952]  eta: 0:06:45  model_time: 0.0412 (0.0413)  evaluator_time: 0.0047 (0.0085)  time: 0.0958  data: 0.0461  max mem: 4510\n",
      "Test:  [ 700/4952]  eta: 0:06:35  model_time: 0.0420 (0.0414)  evaluator_time: 0.0053 (0.0085)  time: 0.0876  data: 0.0390  max mem: 4510\n",
      "Test:  [ 800/4952]  eta: 0:06:26  model_time: 0.0402 (0.0414)  evaluator_time: 0.0076 (0.0086)  time: 0.0952  data: 0.0440  max mem: 4510\n",
      "Test:  [ 900/4952]  eta: 0:06:16  model_time: 0.0401 (0.0413)  evaluator_time: 0.0045 (0.0085)  time: 0.0856  data: 0.0374  max mem: 4510\n",
      "Test:  [1000/4952]  eta: 0:06:05  model_time: 0.0416 (0.0414)  evaluator_time: 0.0053 (0.0084)  time: 0.0841  data: 0.0353  max mem: 4510\n",
      "Test:  [1100/4952]  eta: 0:05:57  model_time: 0.0414 (0.0414)  evaluator_time: 0.0046 (0.0085)  time: 0.0978  data: 0.0492  max mem: 4510\n",
      "Test:  [1200/4952]  eta: 0:05:49  model_time: 0.0409 (0.0414)  evaluator_time: 0.0088 (0.0086)  time: 0.1056  data: 0.0510  max mem: 4510\n",
      "Test:  [1300/4952]  eta: 0:05:39  model_time: 0.0399 (0.0413)  evaluator_time: 0.0048 (0.0086)  time: 0.0914  data: 0.0416  max mem: 4510\n",
      "Test:  [1400/4952]  eta: 0:05:30  model_time: 0.0402 (0.0413)  evaluator_time: 0.0048 (0.0086)  time: 0.0884  data: 0.0381  max mem: 4510\n",
      "Test:  [1500/4952]  eta: 0:05:20  model_time: 0.0401 (0.0413)  evaluator_time: 0.0066 (0.0086)  time: 0.0936  data: 0.0438  max mem: 4510\n",
      "Test:  [1600/4952]  eta: 0:05:12  model_time: 0.0401 (0.0413)  evaluator_time: 0.0054 (0.0086)  time: 0.0969  data: 0.0442  max mem: 4510\n",
      "Test:  [1700/4952]  eta: 0:05:02  model_time: 0.0426 (0.0413)  evaluator_time: 0.0044 (0.0086)  time: 0.0907  data: 0.0389  max mem: 4510\n",
      "Test:  [1800/4952]  eta: 0:04:52  model_time: 0.0401 (0.0413)  evaluator_time: 0.0049 (0.0086)  time: 0.0888  data: 0.0382  max mem: 4510\n",
      "Test:  [1900/4952]  eta: 0:04:42  model_time: 0.0413 (0.0412)  evaluator_time: 0.0047 (0.0086)  time: 0.0878  data: 0.0391  max mem: 4510\n",
      "Test:  [2000/4952]  eta: 0:04:34  model_time: 0.0423 (0.0412)  evaluator_time: 0.0063 (0.0086)  time: 0.0971  data: 0.0435  max mem: 4510\n",
      "Test:  [2100/4952]  eta: 0:04:24  model_time: 0.0407 (0.0412)  evaluator_time: 0.0058 (0.0086)  time: 0.0966  data: 0.0454  max mem: 4510\n",
      "Test:  [2200/4952]  eta: 0:04:14  model_time: 0.0413 (0.0412)  evaluator_time: 0.0052 (0.0085)  time: 0.0958  data: 0.0425  max mem: 4510\n",
      "Test:  [2300/4952]  eta: 0:04:05  model_time: 0.0423 (0.0412)  evaluator_time: 0.0056 (0.0085)  time: 0.1112  data: 0.0582  max mem: 4510\n",
      "Test:  [2400/4952]  eta: 0:03:56  model_time: 0.0418 (0.0412)  evaluator_time: 0.0076 (0.0085)  time: 0.1060  data: 0.0527  max mem: 4510\n",
      "Test:  [2500/4952]  eta: 0:03:47  model_time: 0.0417 (0.0412)  evaluator_time: 0.0055 (0.0085)  time: 0.0969  data: 0.0459  max mem: 4510\n",
      "Test:  [2600/4952]  eta: 0:03:38  model_time: 0.0401 (0.0412)  evaluator_time: 0.0059 (0.0085)  time: 0.1111  data: 0.0605  max mem: 4510\n",
      "Test:  [2700/4952]  eta: 0:03:28  model_time: 0.0407 (0.0412)  evaluator_time: 0.0058 (0.0085)  time: 0.0944  data: 0.0434  max mem: 4510\n",
      "Test:  [2800/4952]  eta: 0:03:19  model_time: 0.0402 (0.0412)  evaluator_time: 0.0053 (0.0085)  time: 0.0943  data: 0.0434  max mem: 4510\n",
      "Test:  [2900/4952]  eta: 0:03:10  model_time: 0.0402 (0.0412)  evaluator_time: 0.0053 (0.0085)  time: 0.0946  data: 0.0425  max mem: 4510\n",
      "Test:  [3000/4952]  eta: 0:03:00  model_time: 0.0413 (0.0412)  evaluator_time: 0.0055 (0.0085)  time: 0.0927  data: 0.0416  max mem: 4510\n",
      "Test:  [3100/4952]  eta: 0:02:51  model_time: 0.0423 (0.0412)  evaluator_time: 0.0055 (0.0084)  time: 0.0932  data: 0.0423  max mem: 4510\n",
      "Test:  [3200/4952]  eta: 0:02:42  model_time: 0.0417 (0.0413)  evaluator_time: 0.0062 (0.0085)  time: 0.0989  data: 0.0458  max mem: 4510\n",
      "Test:  [3300/4952]  eta: 0:02:33  model_time: 0.0401 (0.0413)  evaluator_time: 0.0054 (0.0085)  time: 0.0901  data: 0.0400  max mem: 4510\n",
      "Test:  [3400/4952]  eta: 0:02:24  model_time: 0.0423 (0.0413)  evaluator_time: 0.0045 (0.0085)  time: 0.0900  data: 0.0377  max mem: 4510\n",
      "Test:  [3500/4952]  eta: 0:02:14  model_time: 0.0419 (0.0413)  evaluator_time: 0.0057 (0.0085)  time: 0.0856  data: 0.0374  max mem: 4510\n",
      "Test:  [3600/4952]  eta: 0:02:05  model_time: 0.0424 (0.0413)  evaluator_time: 0.0060 (0.0085)  time: 0.0882  data: 0.0384  max mem: 4510\n",
      "Test:  [3700/4952]  eta: 0:01:56  model_time: 0.0422 (0.0413)  evaluator_time: 0.0047 (0.0085)  time: 0.0859  data: 0.0360  max mem: 4510\n",
      "Test:  [3800/4952]  eta: 0:01:46  model_time: 0.0422 (0.0413)  evaluator_time: 0.0050 (0.0085)  time: 0.0833  data: 0.0346  max mem: 4510\n",
      "Test:  [3900/4952]  eta: 0:01:37  model_time: 0.0401 (0.0413)  evaluator_time: 0.0051 (0.0085)  time: 0.0892  data: 0.0403  max mem: 4510\n",
      "Test:  [4000/4952]  eta: 0:01:28  model_time: 0.0401 (0.0413)  evaluator_time: 0.0068 (0.0085)  time: 0.0951  data: 0.0445  max mem: 4510\n",
      "Test:  [4100/4952]  eta: 0:01:19  model_time: 0.0422 (0.0413)  evaluator_time: 0.0046 (0.0085)  time: 0.0880  data: 0.0382  max mem: 4510\n",
      "Test:  [4200/4952]  eta: 0:01:09  model_time: 0.0402 (0.0413)  evaluator_time: 0.0046 (0.0085)  time: 0.0877  data: 0.0390  max mem: 4510\n",
      "Test:  [4300/4952]  eta: 0:01:00  model_time: 0.0409 (0.0413)  evaluator_time: 0.0049 (0.0085)  time: 0.0865  data: 0.0376  max mem: 4510\n",
      "Test:  [4400/4952]  eta: 0:00:51  model_time: 0.0414 (0.0412)  evaluator_time: 0.0056 (0.0085)  time: 0.0920  data: 0.0434  max mem: 4510\n",
      "Test:  [4500/4952]  eta: 0:00:41  model_time: 0.0422 (0.0412)  evaluator_time: 0.0060 (0.0085)  time: 0.0909  data: 0.0402  max mem: 4510\n",
      "Test:  [4600/4952]  eta: 0:00:32  model_time: 0.0417 (0.0412)  evaluator_time: 0.0051 (0.0084)  time: 0.0869  data: 0.0385  max mem: 4510\n",
      "Test:  [4700/4952]  eta: 0:00:23  model_time: 0.0414 (0.0412)  evaluator_time: 0.0047 (0.0084)  time: 0.0836  data: 0.0353  max mem: 4510\n",
      "Test:  [4800/4952]  eta: 0:00:14  model_time: 0.0419 (0.0412)  evaluator_time: 0.0058 (0.0084)  time: 0.0909  data: 0.0405  max mem: 4510\n",
      "Test:  [4900/4952]  eta: 0:00:04  model_time: 0.0403 (0.0412)  evaluator_time: 0.0044 (0.0084)  time: 0.0820  data: 0.0332  max mem: 4510\n",
      "Test:  [4951/4952]  eta: 0:00:00  model_time: 0.0422 (0.0412)  evaluator_time: 0.0052 (0.0084)  time: 0.0906  data: 0.0386  max mem: 4510\n",
      "Test: Total time: 0:07:38 (0.0927 s / it)\n",
      "Averaged stats: model_time: 0.0422 (0.0412)  evaluator_time: 0.0052 (0.0084)\n",
      "Accumulating evaluation results...\n",
      "DONE (t=5.45s).\n",
      "IoU metric: bbox\n",
      " Average Precision  (AP) @[ IoU=0.50:0.95 | area=   all | maxDets=100 ] = 0.370\n",
      " Average Precision  (AP) @[ IoU=0.50      | area=   all | maxDets=100 ] = 0.586\n",
      " Average Precision  (AP) @[ IoU=0.75      | area=   all | maxDets=100 ] = 0.396\n",
      " Average Precision  (AP) @[ IoU=0.50:0.95 | area= small | maxDets=100 ] = 0.163\n",
      " Average Precision  (AP) @[ IoU=0.50:0.95 | area=medium | maxDets=100 ] = 0.357\n",
      " Average Precision  (AP) @[ IoU=0.50:0.95 | area= large | maxDets=100 ] = 0.491\n",
      " Average Recall     (AR) @[ IoU=0.50:0.95 | area=   all | maxDets=  1 ] = 0.307\n",
      " Average Recall     (AR) @[ IoU=0.50:0.95 | area=   all | maxDets= 10 ] = 0.485\n",
      " Average Recall     (AR) @[ IoU=0.50:0.95 | area=   all | maxDets=100 ] = 0.509\n",
      " Average Recall     (AR) @[ IoU=0.50:0.95 | area= small | maxDets=100 ] = 0.289\n",
      " Average Recall     (AR) @[ IoU=0.50:0.95 | area=medium | maxDets=100 ] = 0.502\n",
      " Average Recall     (AR) @[ IoU=0.50:0.95 | area= large | maxDets=100 ] = 0.623\n"
     ]
    },
    {
     "data": {
      "text/plain": [
       "<coco_eval.CocoEvaluator at 0x7fd90e47db90>"
      ]
     },
     "execution_count": 34,
     "metadata": {},
     "output_type": "execute_result"
    }
   ],
   "source": [
    "faster_rcnn = torchvision.models.detection.fasterrcnn_resnet50_fpn(pretrained=True)\n",
    "faster_rcnn.to(device)\n",
    "evaluate(faster_rcnn, data_loader_test, device=device)"
   ]
  },
  {
   "cell_type": "markdown",
   "metadata": {
    "id": "jMNmFOpuW5g3"
   },
   "source": [
    "### Evaluation using standard COCO pipeline\n"
   ]
  },
  {
   "cell_type": "markdown",
   "metadata": {},
   "source": [
    "#### Converting torch predictions to Fiftyone compatible objects"
   ]
  },
  {
   "cell_type": "code",
   "execution_count": 52,
   "metadata": {
    "id": "PgGTVy4wW4J_"
   },
   "outputs": [],
   "source": [
    "def convert_torch_predictions(preds, det_id, s_id, w, h, classes):\n",
    "  # Convert the outputs of the torch model into a FiftyOne Detections object\n",
    "  dets = []\n",
    "  for bbox, label, score in zip(preds[\"boxes\"].cpu().detach().numpy(), preds[\"labels\"].cpu().detach().numpy(), preds[\"scores\"].cpu().detach().numpy()):\n",
    "    # Parse prediction into FiftyOne Detection object\n",
    "    x0,y0,x1,y1 = bbox\n",
    "    coco_obj = fouc.COCOObject(det_id, s_id, int(label), [x0, y0, x1-x0, y1-y0])\n",
    "    det = coco_obj.to_detection((w,h), classes)\n",
    "    det[\"confidence\"] = float(score)\n",
    "    dets.append(det)\n",
    "    det_id += 1\n",
    "        \n",
    "  detections = fo.Detections(detections=dets)\n",
    "      \n",
    "  return detections, det_id"
   ]
  },
  {
   "cell_type": "markdown",
   "metadata": {},
   "source": [
    "#### Adding detections to Fiftyone dataset so they can be inspected in the Fiftyone client"
   ]
  },
  {
   "cell_type": "code",
   "execution_count": 53,
   "metadata": {
    "id": "Ly9V_8oyW4VF"
   },
   "outputs": [],
   "source": [
    "def add_detections(model, torch_dataset, view, field_name=\"predictions\"):\n",
    "  # Run inference on a dataset and add results to FiftyOne\n",
    "  device = torch.device('cuda') if torch.cuda.is_available() else torch.device('cpu')\n",
    "\n",
    "  model.eval()\n",
    "  model.to(device)\n",
    "  image_paths = torch_dataset.img_paths\n",
    "  classes = torch_dataset.classes\n",
    "  det_id = 0\n",
    "  \n",
    "  print(\"Adding detections to FiftyOne view...\")\n",
    "  with fo.ProgressBar() as pb:\n",
    "    for img, targets in pb(torch_dataset):\n",
    "      # Get FiftyOne sample indexed by unique image filepath\n",
    "      img_id = int(targets[\"image_id\"][0])\n",
    "      img_path = image_paths[img_id]\n",
    "      sample = view[img_path]\n",
    "      s_id = sample.id\n",
    "      w = sample.metadata[\"width\"]\n",
    "      h = sample.metadata[\"height\"]\n",
    "      \n",
    "      # Inference\n",
    "      preds = model(img.unsqueeze(0).to(device))[0]\n",
    "      \n",
    "      detections, det_id = convert_torch_predictions(preds, det_id, s_id, w, h, classes)\n",
    "      \n",
    "      sample[field_name] = detections\n",
    "      sample.save()"
   ]
  },
  {
   "cell_type": "markdown",
   "metadata": {},
   "source": [
    "#### Running evaluation"
   ]
  },
  {
   "cell_type": "code",
   "execution_count": 54,
   "metadata": {
    "colab": {
     "base_uri": "https://localhost:8080/"
    },
    "id": "p98hYoV0W43y",
    "outputId": "89aeb503-f100-41e3-e380-77ca6b5f9b65"
   },
   "outputs": [
    {
     "name": "stdout",
     "output_type": "stream",
     "text": [
      "Adding detections to FiftyOne view...\n",
      " 100% |███████████████| 4952/4952 [13.3m elapsed, 0s remaining, 7.8 samples/s]      \n",
      "Evaluating detections...\n",
      " 100% |███████████████| 4952/4952 [4.9m elapsed, 0s remaining, 19.9 samples/s]      \n",
      "Performing IoU sweep...\n",
      " 100% |███████████████| 4952/4952 [7.6m elapsed, 0s remaining, 12.8 samples/s]      \n",
      "0.32474702284023343\n"
     ]
    }
   ],
   "source": [
    "add_detections(model, torch_dataset_test, test_view, field_name=\"v2_predictions_stochastic_edge_sampling\")\n",
    "\n",
    "results = fo.evaluate_detections(test_view, \"v2_predictions_stochastic_edge_sampling\", eval_key=\"eval_v2_stochastic_edge_sampling\", compute_mAP=True) \n",
    "print(results.mAP())"
   ]
  },
  {
   "cell_type": "code",
   "execution_count": null,
   "metadata": {
    "id": "2JGkH6w6W47I"
   },
   "outputs": [],
   "source": [
    "results.plot_confusion_matrix()"
   ]
  },
  {
   "cell_type": "code",
   "execution_count": null,
   "metadata": {
    "id": "DNq6Pip6XNa1"
   },
   "outputs": [],
   "source": [
    "results.plot_pr_curves()"
   ]
  },
  {
   "cell_type": "code",
   "execution_count": null,
   "metadata": {
    "id": "Tq2U_3DTW4-j"
   },
   "outputs": [],
   "source": [
    "session.view = test_view"
   ]
  },
  {
   "cell_type": "markdown",
   "metadata": {
    "id": "XjqZ0AZrXS3_"
   },
   "source": [
    "## Different training approach"
   ]
  },
  {
   "cell_type": "markdown",
   "metadata": {
    "id": "azbHCFYaWmA6"
   },
   "source": [
    "### Processing COCO dataset to Torch geometric data dataset to speed up training by saving graphs created from precomputed embedding for each image in the dataset (~1 TB)"
   ]
  },
  {
   "cell_type": "code",
   "execution_count": null,
   "metadata": {
    "id": "zaQRCNuUWnAW"
   },
   "outputs": [],
   "source": [
    "class TorchGemetricCocoRelationalGraphDataaset(pyg_data.Dataset):\n",
    "  def __init__(self, root, model, coco_loader, phase, transform=None, pre_transform=None, pre_filter=None):\n",
    "    if phase not in ['train', 'test']:\n",
    "      raise Exception(f\"Unexpected value for phase argument: '{phase}'. Expected 'train' or 'test'.\")\n",
    "    self._phase = phase\n",
    "    self._processed_file_names = []\n",
    "    self._model = model\n",
    "    self._coco_loader = coco_loader\n",
    "    super().__init__(root, transform, pre_transform, pre_filter)\n",
    "\n",
    "  @property\n",
    "  def processed_file_names(self):\n",
    "      return self._processed_file_names\n",
    "\n",
    "  def process(self):\n",
    "    batch_idx = 0\n",
    "\n",
    "    def build_saver(targets):\n",
    "      def saver(data, in_batch_idx):\n",
    "        data_idx = batch_idx + in_batch_idx\n",
    "        data.y = targets[in_batch_idx]\n",
    "        file_path = osp.join(self.processed_dir, f'data_{data_idx}.pt')\n",
    "        torch.save(data, file_path)\n",
    "        self._processed_file_names.append(file_path)\n",
    "      return saver\n",
    "\n",
    "    if self._phase == 'train':\n",
    "      self._model.train()\n",
    "    else:\n",
    "      self._model.eval()\n",
    "\n",
    "    self._model.to(device)\n",
    "\n",
    "    with fo.ProgressBar() as pb:\n",
    "      for images, targets in pb(self._coco_loader):\n",
    "        self._register_callback(build_saver(targets))\n",
    "        batch_size = len(images)\n",
    "        images = list(image.to(device) for image in images)\n",
    "        targets = [{k: v.to(device) for k, v in t.items()} for t in targets]\n",
    "        self._model(images, targets)\n",
    "        batch_idx += batch_size\n",
    "\n",
    "    self._register_callback()\n",
    "\n",
    "  def len(self):\n",
    "    return len(self._processed_file_names)\n",
    "\n",
    "  def get(self, idx):\n",
    "    data = torch.load(osp.join(self.processed_dir, f'data_{idx}.pt'))\n",
    "    return data\n",
    "\n",
    "  def _register_callback(self, callback=None):\n",
    "    self._model.roi_heads.box_head.gator_graph.on_data_created = callback"
   ]
  },
  {
   "cell_type": "code",
   "execution_count": null,
   "metadata": {
    "id": "2BcmhpliWpsj"
   },
   "outputs": [],
   "source": [
    "graph_dataset_train = TorchGemetricCocoRelationalGraphDataaset('/root/graph-data/train', model, data_loader_train, 'train')\n",
    "graph_dataset_test = TorchGemetricCocoRelationalGraphDataaset('/root/graph-data/test', model, data_loader_test, 'test')"
   ]
  },
  {
   "cell_type": "markdown",
   "metadata": {
    "id": "kKXbpvODQ9W7"
   },
   "source": [
    "### Defining GATorHidra extension model for object detection"
   ]
  },
  {
   "cell_type": "code",
   "execution_count": null,
   "metadata": {
    "id": "lcsNCkO5e7lX"
   },
   "outputs": [],
   "source": [
    "class GATorPredictor(nn.Module):\n",
    "  def __init__(self, in_channels, num_classes):\n",
    "    super(GATorPredictor, self).__init__()\n",
    "    self.cls_score = nn.Linear(in_channels, num_classes)\n",
    "    self.bbox_pred = nn.Linear(in_channels, num_classes * 4)\n",
    "\n",
    "  def forward(self, x):\n",
    "    if x.dim() == 4:\n",
    "      assert list(x.shape[2:]) == [1, 1]\n",
    "    x = x.flatten(start_dim=1)\n",
    "    scores = self.cls_score(x)\n",
    "    bbox_deltas = self.bbox_pred(x)\n",
    "    return scores, bbox_deltas"
   ]
  },
  {
   "cell_type": "markdown",
   "metadata": {},
   "source": [
    "#### Self explanatory"
   ]
  },
  {
   "cell_type": "code",
   "execution_count": null,
   "metadata": {
    "id": "QylQqKhENoUR"
   },
   "outputs": [],
   "source": [
    "class GATorHidra(torchvision.models.detection.roi_heads.RoIHeads):\n",
    "  def __init__(self,\n",
    "      # GATor\n",
    "      gator_input_dim=1024,\n",
    "      gator_hidden_dim=1024,\n",
    "      gator_output_dim=1024,\n",
    "      gator_num_layers=2,\n",
    "      gator_num_heads=8,\n",
    "      gator_dropout=0.5,\n",
    "      gator_edge_dim=None,\n",
    "      gator_num_classes=91,\n",
    "      # Faster R-CNN training\n",
    "      fg_iou_thresh=0.5,\n",
    "      bg_iou_thresh=0.5,\n",
    "      batch_size_per_image=512,\n",
    "      positive_fraction=0.25,\n",
    "      bbox_reg_weights=None,\n",
    "      # Faster R-CNN inference\n",
    "      score_thresh=0.05,\n",
    "      nms_thresh=0.5,\n",
    "      detections_per_img=100,\n",
    "    ):\n",
    "    super(GATorHidra, self).__init__(\n",
    "        box_roi_pool=None,\n",
    "        box_head=None,\n",
    "        box_predictor=None,\n",
    "        # Faster R-CNN training\n",
    "        fg_iou_thresh=fg_iou_thresh,\n",
    "        bg_iou_thresh=bg_iou_thresh,\n",
    "        batch_size_per_image=batch_size_per_image,\n",
    "        positive_fraction=positive_fraction,\n",
    "        bbox_reg_weights=bbox_reg_weights,\n",
    "        # Faster R-CNN inference\n",
    "        score_thresh=score_thresh,\n",
    "        nms_thresh=nms_thresh,\n",
    "        detections_per_img=detections_per_img,\n",
    "    )\n",
    "\n",
    "    self.gator = GATor(input_dim=gator_input_dim,\n",
    "                       hidden_dim=gator_hidden_dim,\n",
    "                       output_dim=gator_output_dim,\n",
    "                       layers=gator_num_layers,\n",
    "                       heads=gator_num_heads, \n",
    "                       dropout=gator_dropout, \n",
    "                       edge_dim=gator_edge_dim)\n",
    "    self.predictor = GATorPredictor(in_channels=gator_output_dim, \n",
    "                                    num_classes=gator_num_classes)\n",
    "\n",
    "  def forward(self, data):\n",
    "    proposals, targets, image_shapes = data.boxes, data.y, data.image_shape\n",
    "    box_features = self.gator(data)\n",
    "    class_logits, box_regression = self.predictor(box_features)\n",
    "\n",
    "    if self.training:\n",
    "      proposals, matched_idxs, labels, regression_targets = self.select_training_samples(proposals, targets)\n",
    "      loss_classifier, loss_box_reg = fastrcnn_loss(class_logits, box_regression, labels, regression_targets)\n",
    "      return {\"loss_classifier\": loss_classifier, \"loss_box_reg\": loss_box_reg}\n",
    "    else:\n",
    "      boxes, scores, labels = self.postprocess_detections(class_logits, box_regression, proposals, image_shapes)\n",
    "      num_images = len(boxes)\n",
    "      result = []\n",
    "      for i in range(num_images):\n",
    "        result.append(\n",
    "            {\n",
    "              \"boxes\": boxes[i],\n",
    "              \"labels\": labels[i],\n",
    "              \"scores\": scores[i],\n",
    "            }\n",
    "        )\n",
    "      return result"
   ]
  },
  {
   "cell_type": "code",
   "execution_count": null,
   "metadata": {
    "id": "fNmDNFDmdnOk"
   },
   "outputs": [],
   "source": [
    "gator_hidra = GATorHidra()\n",
    "gator_hidra.to(device)"
   ]
  },
  {
   "cell_type": "markdown",
   "metadata": {
    "id": "GFaYy8dIVsOG"
   },
   "source": [
    "### Novel training approach using our torch geometric dataset (only for chads)"
   ]
  },
  {
   "cell_type": "code",
   "execution_count": null,
   "metadata": {
    "id": "iYbxyztWVeX5"
   },
   "outputs": [],
   "source": [
    "def graph_collate_function(data_list):\n",
    "  batch = pyg_data.Batch.from_data_list(data_list)\n",
    "  y = [{k: v for k, v in data.y.items()} for data in data_list]\n",
    "  proposals = [data.boxes for data in data_list]\n",
    "  batch.y = y\n",
    "  batch.boxes = proposals\n",
    "  return batch"
   ]
  },
  {
   "cell_type": "code",
   "execution_count": null,
   "metadata": {
    "id": "sxudu3NKVe8C"
   },
   "outputs": [],
   "source": [
    "class BatchingDataLoader(torch.utils.data.DataLoader):\n",
    "  def __init__(self, dataset, batch_size=1, shuffle=False, **kwargs):\n",
    "    super(BatchingDataLoader, self).__init__(dataset, batch_size, shuffle, collate_fn=graph_collate_function, **kwargs)"
   ]
  },
  {
   "cell_type": "code",
   "execution_count": null,
   "metadata": {
    "id": "CzBtW98XVhtD"
   },
   "outputs": [],
   "source": [
    "pyg_data_loader_train = BatchingDataLoader(graph_dataset_train, batch_size=4, shuffle=False)\n",
    "pyg_data_loader_test = BatchingDataLoader(graph_dataset_test, batch_size=1)"
   ]
  },
  {
   "cell_type": "code",
   "execution_count": null,
   "metadata": {
    "id": "ubA0UcW4V8mX"
   },
   "outputs": [],
   "source": [
    "# https://github.com/pytorch/vision/blob/afda28accbc79035384952c0359f0e4de8454cb3/torchvision/models/detection/roi_heads.py\n",
    "\n",
    "def fastrcnn_loss(class_logits, box_regression, labels, regression_targets):\n",
    "  # type: (Tensor, Tensor, List[Tensor], List[Tensor]) -> Tuple[Tensor, Tensor]\n",
    "  \"\"\"\n",
    "  Computes the loss for Faster R-CNN.\n",
    "\n",
    "  Args:\n",
    "      class_logits (Tensor)\n",
    "      box_regression (Tensor)\n",
    "      labels (list[BoxList])\n",
    "      regression_targets (Tensor)\n",
    "\n",
    "  Returns:\n",
    "      classification_loss (Tensor)\n",
    "      box_loss (Tensor)\n",
    "  \"\"\"\n",
    "\n",
    "  labels = torch.cat(labels, dim=0)\n",
    "  regression_targets = torch.cat(regression_targets, dim=0)\n",
    "\n",
    "  classification_loss = F.cross_entropy(class_logits, labels)\n",
    "\n",
    "  # get indices that correspond to the regression targets for\n",
    "  # the corresponding ground truth labels, to be used with\n",
    "  # advanced indexing\n",
    "  sampled_pos_inds_subset = torch.where(labels > 0)[0]\n",
    "  labels_pos = labels[sampled_pos_inds_subset]\n",
    "  N, num_classes = class_logits.shape\n",
    "  box_regression = box_regression.reshape(N, box_regression.size(-1) // 4, 4)\n",
    "\n",
    "  box_loss = F.smooth_l1_loss(\n",
    "    box_regression[sampled_pos_inds_subset, labels_pos],\n",
    "    regression_targets[sampled_pos_inds_subset],\n",
    "    beta=1 / 9,\n",
    "    reduction=\"sum\",\n",
    "  )\n",
    "  box_loss = box_loss / labels.numel()\n",
    "\n",
    "  return classification_loss, box_loss"
   ]
  },
  {
   "cell_type": "code",
   "execution_count": null,
   "metadata": {
    "id": "wFePOeiwUBi0"
   },
   "outputs": [],
   "source": [
    "def train_one_epoch_geometric(model, optimizer, train_loader, device, epoch, print_freq=10):\n",
    "  model.train()\n",
    "  metric_logger = utils.MetricLogger(delimiter=\"  \")\n",
    "  metric_logger.add_meter('lr', utils.SmoothedValue(window_size=1, fmt='{value:.6f}'))\n",
    "  header = 'Epoch: [{}]'.format(epoch)\n",
    "\n",
    "  lr_scheduler = None\n",
    "  if epoch == 0:\n",
    "    warmup_factor = 1. / 1000\n",
    "    warmup_iters = min(1000, len(train_loader) - 1)\n",
    "\n",
    "    lr_scheduler = utils.warmup_lr_scheduler(optimizer, warmup_iters, warmup_factor)\n",
    "\n",
    "  for data_batch in metric_logger.log_every(train_loader, print_freq, header):\n",
    "    # Put batch to device\n",
    "    data_batch.y = [{k: v.to(device) for k, v in y.items()} for y in data_batch.y]\n",
    "    data_batch.x = data_batch.x.to(device)\n",
    "    data_batch.boxes = [box.to(device) for box in data_batch.boxes]\n",
    "    loss_dict = model(data_batch)\n",
    "\n",
    "    losses = sum(loss for loss in loss_dict.values())\n",
    "\n",
    "    # reduce losses over all GPUs for logging purposes\n",
    "    loss_dict_reduced = utils.reduce_dict(loss_dict)\n",
    "    losses_reduced = sum(loss for loss in loss_dict_reduced.values())\n",
    "\n",
    "    loss_value = losses_reduced.item()\n",
    "\n",
    "    if not math.isfinite(loss_value):\n",
    "      print(\"Loss is {}, stopping training\".format(loss_value))\n",
    "      print(loss_dict_reduced)\n",
    "      sys.exit(1)\n",
    "\n",
    "    optimizer.zero_grad()\n",
    "    losses.backward()\n",
    "    optimizer.step()\n",
    "\n",
    "    if lr_scheduler is not None:\n",
    "      lr_scheduler.step()\n",
    "\n",
    "    metric_logger.update(loss=losses_reduced, **loss_dict_reduced)\n",
    "    metric_logger.update(lr=optimizer.param_groups[0][\"lr\"])\n",
    "\n",
    "    return metric_logger"
   ]
  },
  {
   "cell_type": "code",
   "execution_count": null,
   "metadata": {
    "id": "EPOppUdAREM_"
   },
   "outputs": [],
   "source": [
    "def train_geometric(model, train_loader, test_loader, n_epochs):\n",
    "  device = torch.device('cuda') if torch.cuda.is_available() else torch.device('cpu')\n",
    "  model.train()\n",
    "  model.to(device)\n",
    "  params = [p for p in model.parameters() if p.requires_grad]\n",
    "  optimizer = torch.optim.SGD(params, lr=0.005, momentum=0.9, weight_decay=0.0005)\n",
    "\n",
    "  lr_scheduler = torch.optim.lr_scheduler.StepLR(optimizer,\n",
    "                                                step_size=3,\n",
    "                                                gamma=0.1)\n",
    "\n",
    "  for epoch in range(n_epochs):\n",
    "    # train for one epoch, printing every 10 iterations\n",
    "    train_one_epoch_geometric(model, optimizer, train_loader, device, epoch, print_freq=10)\n",
    "    # update the learning rate\n",
    "    lr_scheduler.step()\n",
    "    # evaluate on the test dataset\n",
    "    # evaluate(model, test_loader, device=device)"
   ]
  },
  {
   "cell_type": "code",
   "execution_count": null,
   "metadata": {
    "id": "7iEcGmcQReVl"
   },
   "outputs": [],
   "source": [
    "train_geometric(gator_hidra, pyg_data_loader_train, pyg_data_loader_test, n_epochs=10)"
   ]
  }
 ],
 "metadata": {
  "accelerator": "GPU",
  "colab": {
   "collapsed_sections": [],
   "include_colab_link": true,
   "name": "gat-or.ipynb",
   "provenance": []
  },
  "kernelspec": {
   "display_name": "Python 3",
   "language": "python",
   "name": "python3"
  },
  "language_info": {
   "codemirror_mode": {
    "name": "ipython",
    "version": 3
   },
   "file_extension": ".py",
   "mimetype": "text/x-python",
   "name": "python",
   "nbconvert_exporter": "python",
   "pygments_lexer": "ipython3",
   "version": "3.7.12"
  },
  "widgets": {
   "application/vnd.jupyter.widget-state+json": {
    "10dc5c906a68455e8ab9966d2ecc1bbe": {
     "model_module": "@jupyter-widgets/controls",
     "model_module_version": "1.5.0",
     "model_name": "HBoxModel",
     "state": {
      "_dom_classes": [],
      "_model_module": "@jupyter-widgets/controls",
      "_model_module_version": "1.5.0",
      "_model_name": "HBoxModel",
      "_view_count": null,
      "_view_module": "@jupyter-widgets/controls",
      "_view_module_version": "1.5.0",
      "_view_name": "HBoxView",
      "box_style": "",
      "children": [
       "IPY_MODEL_314b12ed64c044208a8ff2a6e4fdc59c",
       "IPY_MODEL_d5ae0d02c3b844bdafdec479bdb159e7",
       "IPY_MODEL_452cc2936c62488aae19aab38eca67f5"
      ],
      "layout": "IPY_MODEL_38d76333d35b4823b6de75f6e30d159a"
     }
    },
    "314b12ed64c044208a8ff2a6e4fdc59c": {
     "model_module": "@jupyter-widgets/controls",
     "model_module_version": "1.5.0",
     "model_name": "HTMLModel",
     "state": {
      "_dom_classes": [],
      "_model_module": "@jupyter-widgets/controls",
      "_model_module_version": "1.5.0",
      "_model_name": "HTMLModel",
      "_view_count": null,
      "_view_module": "@jupyter-widgets/controls",
      "_view_module_version": "1.5.0",
      "_view_name": "HTMLView",
      "description": "",
      "description_tooltip": null,
      "layout": "IPY_MODEL_cf47b4248ecd459280bbe9f9c313c035",
      "placeholder": "​",
      "style": "IPY_MODEL_ab2c3648905e4c769249c935ceaf5ec5",
      "value": "100%"
     }
    },
    "38d76333d35b4823b6de75f6e30d159a": {
     "model_module": "@jupyter-widgets/base",
     "model_module_version": "1.2.0",
     "model_name": "LayoutModel",
     "state": {
      "_model_module": "@jupyter-widgets/base",
      "_model_module_version": "1.2.0",
      "_model_name": "LayoutModel",
      "_view_count": null,
      "_view_module": "@jupyter-widgets/base",
      "_view_module_version": "1.2.0",
      "_view_name": "LayoutView",
      "align_content": null,
      "align_items": null,
      "align_self": null,
      "border": null,
      "bottom": null,
      "display": null,
      "flex": null,
      "flex_flow": null,
      "grid_area": null,
      "grid_auto_columns": null,
      "grid_auto_flow": null,
      "grid_auto_rows": null,
      "grid_column": null,
      "grid_gap": null,
      "grid_row": null,
      "grid_template_areas": null,
      "grid_template_columns": null,
      "grid_template_rows": null,
      "height": null,
      "justify_content": null,
      "justify_items": null,
      "left": null,
      "margin": null,
      "max_height": null,
      "max_width": null,
      "min_height": null,
      "min_width": null,
      "object_fit": null,
      "object_position": null,
      "order": null,
      "overflow": null,
      "overflow_x": null,
      "overflow_y": null,
      "padding": null,
      "right": null,
      "top": null,
      "visibility": null,
      "width": null
     }
    },
    "452cc2936c62488aae19aab38eca67f5": {
     "model_module": "@jupyter-widgets/controls",
     "model_module_version": "1.5.0",
     "model_name": "HTMLModel",
     "state": {
      "_dom_classes": [],
      "_model_module": "@jupyter-widgets/controls",
      "_model_module_version": "1.5.0",
      "_model_name": "HTMLModel",
      "_view_count": null,
      "_view_module": "@jupyter-widgets/controls",
      "_view_module_version": "1.5.0",
      "_view_name": "HTMLView",
      "description": "",
      "description_tooltip": null,
      "layout": "IPY_MODEL_e7cdbe0e4c024ca8a50aa6b5a8606280",
      "placeholder": "​",
      "style": "IPY_MODEL_69fc04dc526f4d7188b2e0ea62402d8c",
      "value": " 160M/160M [00:04&lt;00:00, 28.9MB/s]"
     }
    },
    "69fc04dc526f4d7188b2e0ea62402d8c": {
     "model_module": "@jupyter-widgets/controls",
     "model_module_version": "1.5.0",
     "model_name": "DescriptionStyleModel",
     "state": {
      "_model_module": "@jupyter-widgets/controls",
      "_model_module_version": "1.5.0",
      "_model_name": "DescriptionStyleModel",
      "_view_count": null,
      "_view_module": "@jupyter-widgets/base",
      "_view_module_version": "1.2.0",
      "_view_name": "StyleView",
      "description_width": ""
     }
    },
    "8ccf33413b0a41f5b6dd6765f7689fbc": {
     "model_module": "@jupyter-widgets/base",
     "model_module_version": "1.2.0",
     "model_name": "LayoutModel",
     "state": {
      "_model_module": "@jupyter-widgets/base",
      "_model_module_version": "1.2.0",
      "_model_name": "LayoutModel",
      "_view_count": null,
      "_view_module": "@jupyter-widgets/base",
      "_view_module_version": "1.2.0",
      "_view_name": "LayoutView",
      "align_content": null,
      "align_items": null,
      "align_self": null,
      "border": null,
      "bottom": null,
      "display": null,
      "flex": null,
      "flex_flow": null,
      "grid_area": null,
      "grid_auto_columns": null,
      "grid_auto_flow": null,
      "grid_auto_rows": null,
      "grid_column": null,
      "grid_gap": null,
      "grid_row": null,
      "grid_template_areas": null,
      "grid_template_columns": null,
      "grid_template_rows": null,
      "height": null,
      "justify_content": null,
      "justify_items": null,
      "left": null,
      "margin": null,
      "max_height": null,
      "max_width": null,
      "min_height": null,
      "min_width": null,
      "object_fit": null,
      "object_position": null,
      "order": null,
      "overflow": null,
      "overflow_x": null,
      "overflow_y": null,
      "padding": null,
      "right": null,
      "top": null,
      "visibility": null,
      "width": null
     }
    },
    "ab2c3648905e4c769249c935ceaf5ec5": {
     "model_module": "@jupyter-widgets/controls",
     "model_module_version": "1.5.0",
     "model_name": "DescriptionStyleModel",
     "state": {
      "_model_module": "@jupyter-widgets/controls",
      "_model_module_version": "1.5.0",
      "_model_name": "DescriptionStyleModel",
      "_view_count": null,
      "_view_module": "@jupyter-widgets/base",
      "_view_module_version": "1.2.0",
      "_view_name": "StyleView",
      "description_width": ""
     }
    },
    "cf47b4248ecd459280bbe9f9c313c035": {
     "model_module": "@jupyter-widgets/base",
     "model_module_version": "1.2.0",
     "model_name": "LayoutModel",
     "state": {
      "_model_module": "@jupyter-widgets/base",
      "_model_module_version": "1.2.0",
      "_model_name": "LayoutModel",
      "_view_count": null,
      "_view_module": "@jupyter-widgets/base",
      "_view_module_version": "1.2.0",
      "_view_name": "LayoutView",
      "align_content": null,
      "align_items": null,
      "align_self": null,
      "border": null,
      "bottom": null,
      "display": null,
      "flex": null,
      "flex_flow": null,
      "grid_area": null,
      "grid_auto_columns": null,
      "grid_auto_flow": null,
      "grid_auto_rows": null,
      "grid_column": null,
      "grid_gap": null,
      "grid_row": null,
      "grid_template_areas": null,
      "grid_template_columns": null,
      "grid_template_rows": null,
      "height": null,
      "justify_content": null,
      "justify_items": null,
      "left": null,
      "margin": null,
      "max_height": null,
      "max_width": null,
      "min_height": null,
      "min_width": null,
      "object_fit": null,
      "object_position": null,
      "order": null,
      "overflow": null,
      "overflow_x": null,
      "overflow_y": null,
      "padding": null,
      "right": null,
      "top": null,
      "visibility": null,
      "width": null
     }
    },
    "d5ae0d02c3b844bdafdec479bdb159e7": {
     "model_module": "@jupyter-widgets/controls",
     "model_module_version": "1.5.0",
     "model_name": "FloatProgressModel",
     "state": {
      "_dom_classes": [],
      "_model_module": "@jupyter-widgets/controls",
      "_model_module_version": "1.5.0",
      "_model_name": "FloatProgressModel",
      "_view_count": null,
      "_view_module": "@jupyter-widgets/controls",
      "_view_module_version": "1.5.0",
      "_view_name": "ProgressView",
      "bar_style": "success",
      "description": "",
      "description_tooltip": null,
      "layout": "IPY_MODEL_8ccf33413b0a41f5b6dd6765f7689fbc",
      "max": 167502836,
      "min": 0,
      "orientation": "horizontal",
      "style": "IPY_MODEL_e013dd58a6274902a2df85eb8c00e31d",
      "value": 167502836
     }
    },
    "e013dd58a6274902a2df85eb8c00e31d": {
     "model_module": "@jupyter-widgets/controls",
     "model_module_version": "1.5.0",
     "model_name": "ProgressStyleModel",
     "state": {
      "_model_module": "@jupyter-widgets/controls",
      "_model_module_version": "1.5.0",
      "_model_name": "ProgressStyleModel",
      "_view_count": null,
      "_view_module": "@jupyter-widgets/base",
      "_view_module_version": "1.2.0",
      "_view_name": "StyleView",
      "bar_color": null,
      "description_width": ""
     }
    },
    "e7cdbe0e4c024ca8a50aa6b5a8606280": {
     "model_module": "@jupyter-widgets/base",
     "model_module_version": "1.2.0",
     "model_name": "LayoutModel",
     "state": {
      "_model_module": "@jupyter-widgets/base",
      "_model_module_version": "1.2.0",
      "_model_name": "LayoutModel",
      "_view_count": null,
      "_view_module": "@jupyter-widgets/base",
      "_view_module_version": "1.2.0",
      "_view_name": "LayoutView",
      "align_content": null,
      "align_items": null,
      "align_self": null,
      "border": null,
      "bottom": null,
      "display": null,
      "flex": null,
      "flex_flow": null,
      "grid_area": null,
      "grid_auto_columns": null,
      "grid_auto_flow": null,
      "grid_auto_rows": null,
      "grid_column": null,
      "grid_gap": null,
      "grid_row": null,
      "grid_template_areas": null,
      "grid_template_columns": null,
      "grid_template_rows": null,
      "height": null,
      "justify_content": null,
      "justify_items": null,
      "left": null,
      "margin": null,
      "max_height": null,
      "max_width": null,
      "min_height": null,
      "min_width": null,
      "object_fit": null,
      "object_position": null,
      "order": null,
      "overflow": null,
      "overflow_x": null,
      "overflow_y": null,
      "padding": null,
      "right": null,
      "top": null,
      "visibility": null,
      "width": null
     }
    }
   }
  }
 },
 "nbformat": 4,
 "nbformat_minor": 1
}
